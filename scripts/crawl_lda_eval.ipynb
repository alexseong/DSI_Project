{
 "cells": [
  {
   "cell_type": "code",
   "execution_count": 1,
   "metadata": {
    "collapsed": false
   },
   "outputs": [],
   "source": [
    "import os\n",
    "import re\n",
    "import string\n",
    "import pandas as pd\n",
    "import numpy as np\n",
    "import warc\n",
    "import gzip\n",
    "import boto\n",
    "from boto.s3.key import Key\n",
    "from gzipstream import GzipStreamFile\n",
    "from mrjob.job import MRJob\n",
    "import pyspark as ps\n",
    "from pyspark.sql.functions import udf\n",
    "from pyspark.sql.types import *\n",
    "from __future__ import print_function\n",
    "from pyspark.ml import Pipeline\n",
    "from pyspark.mllib.clustering import LDAModel#, LDA\n",
    "from pyspark.mllib.linalg import Vectors, DenseVector, SparseVector\n",
    "from pyspark.ml.clustering import LDA, DistributedLDAModel, LocalLDAModel\n",
    "from pyspark.ml.feature import CountVectorizer, RegexTokenizer, StopWordsRemover\n",
    "from pyspark.sql.functions import monotonically_increasing_id\n",
    "from pyspark.sql.functions import lit\n",
    "from nltk.tokenize import word_tokenize\n",
    "from nltk.corpus import stopwords\n",
    "from nltk.stem.porter import PorterStemmer\n",
    "from pyspark.mllib.clustering import KMeans\n",
    "from collections import Counter\n",
    "from nltk.tokenize import word_tokenize\n",
    "from nltk.corpus import stopwords"
   ]
  },
  {
   "cell_type": "code",
   "execution_count": 2,
   "metadata": {
    "collapsed": false
   },
   "outputs": [],
   "source": [
    "sc = ps.SparkContext('local[4]')\n",
    "sqlContext = ps.SQLContext(sc)"
   ]
  },
  {
   "cell_type": "code",
   "execution_count": 3,
   "metadata": {
    "collapsed": true
   },
   "outputs": [],
   "source": [
    "ACCESS_KEY = os.environ['AWS_ACCESS_KEY']\n",
    "SECRET_KEY = os.environ['AWS_SECRET_ACCESS_KEY']\n",
    "ENCODED_SECRET_KEY = SECRET_KEY.replace(\"/\", \"%2F\")\n",
    "DSI_CSTON_BUCKET = \"galvanize.dsi.capstone.alex\"\n",
    "OUT_BUCKET = \"s3a://{}:{}@{}\".format(ACCESS_KEY, SECRET_KEY, DSI_CSTON_BUCKET)"
   ]
  },
  {
   "cell_type": "code",
   "execution_count": 4,
   "metadata": {
    "collapsed": true
   },
   "outputs": [],
   "source": [
    "wet_path_file_name = 'wet_2016_list/2016-Dec-wet.path'\n",
    "no_of_doc_files = 1\n",
    "dec_2016_wet_list = sc.textFile(\"s3a://%s/%s\" % (DSI_CSTON_BUCKET, wet_path_file_name))\n",
    "doc_files = dec_2016_wet_list.take(no_of_doc_files)"
   ]
  },
  {
   "cell_type": "code",
   "execution_count": 5,
   "metadata": {
    "collapsed": false
   },
   "outputs": [],
   "source": [
    "conn = boto.connect_s3(ACCESS_KEY, SECRET_KEY, host='s3.amazonaws.com')\n",
    "pds = conn.get_bucket('commoncrawl')"
   ]
  },
  {
   "cell_type": "code",
   "execution_count": 6,
   "metadata": {
    "collapsed": false
   },
   "outputs": [],
   "source": [
    "data = []\n",
    "url = []\n",
    "\n",
    "for file in doc_files:\n",
    "    k = Key(pds, file)\n",
    "    f = warc.WARCFile(fileobj=GzipStreamFile(k))\n",
    "\n",
    "    for i, document in enumerate(f):\n",
    "        if document['Content-Type'] != 'text/plain':\n",
    "            continue\n",
    "        \n",
    "        dat = document.payload.read()\n",
    "        data.append(str(dat))\n",
    "        url.append(str(document.url))"
   ]
  },
  {
   "cell_type": "code",
   "execution_count": 7,
   "metadata": {
    "collapsed": false
   },
   "outputs": [],
   "source": [
    "def no_punct(words):\n",
    "    PUNCTUATION = set(string.punctuation)\n",
    "    no_punctuation = []\n",
    "    for word in words:\n",
    "        punct_removed = ''.join([letter for letter in word if not letter in PUNCTUATION])\n",
    "        no_punctuation.append(punct_removed)\n",
    "        \n",
    "    return no_punctuation"
   ]
  },
  {
   "cell_type": "code",
   "execution_count": 8,
   "metadata": {
    "collapsed": false
   },
   "outputs": [],
   "source": [
    "rec_df = pd.DataFrame(\n",
    "    {'contents': data,\n",
    "     'url': url\n",
    "    })"
   ]
  },
  {
   "cell_type": "code",
   "execution_count": 9,
   "metadata": {
    "collapsed": false
   },
   "outputs": [
    {
     "name": "stdout",
     "output_type": "stream",
     "text": [
      "root\n",
      " |-- contents: string (nullable = true)\n",
      " |-- url: string (nullable = true)\n",
      "\n"
     ]
    }
   ],
   "source": [
    "rec_df = sqlContext.createDataFrame(rec_df)\n",
    "rec_df.printSchema()"
   ]
  },
  {
   "cell_type": "code",
   "execution_count": 10,
   "metadata": {
    "collapsed": false
   },
   "outputs": [
    {
     "data": {
      "text/plain": [
       "54320"
      ]
     },
     "execution_count": 10,
     "metadata": {},
     "output_type": "execute_result"
    }
   ],
   "source": [
    "rec_df.count()"
   ]
  },
  {
   "cell_type": "code",
   "execution_count": 11,
   "metadata": {
    "collapsed": false
   },
   "outputs": [
    {
     "name": "stdout",
     "output_type": "stream",
     "text": [
      "+--------------------+--------------------+--------------------+\n",
      "|            contents|                 url|             website|\n",
      "+--------------------+--------------------+--------------------+\n",
      "|çç\n",
      "çç\tç...|http://007zhenren...|007zhenrenyuleche...|\n",
      "|æ¿æ©ç´ é£â§ç¶...|http://0289646723...|0289646723.tranew...|\n",
      "|ÐÐ¾Ð¿ÑÐ¾ÑÑ Ð¿...|http://03online.c...|        03online.com|\n",
      "|Ð Ð²Ð¸Ð±ÑÐ°ÑÐ¸...|http://03online.c...|        03online.com|\n",
      "|ÐÐµÑÐµÐ»Ð¾Ð¼ Ð³...|http://03online.c...|        03online.com|\n",
      "|ÐÐ¾ÑÐµÐ¼Ñ Ð½Ðµ...|http://03online.c...|        03online.com|\n",
      "|ÐÐ¾ÑÐµÐ¼Ñ Ð½Ðµ...|http://03online.c...|        03online.com|\n",
      "|Ð ÐµÐ±ÐµÐ½Ð¾Ðº Ñ...|http://03online.c...|        03online.com|\n",
      "|Ð¨ÑÐ¼ Ð² Ð¿ÑÐ°Ð...|http://03online.c...|        03online.com|\n",
      "|Ð§Ð¸ÑÑÑÐ¹ ÐºÐ»...|http://08.od.ua/b...|            08.od.ua|\n",
      "|Ð£ÐºÑÐ¾Ð¿ÑÑÐ¾Ñ...|http://08.od.ua/k...|            08.od.ua|\n",
      "|ÐÐ° Ð¾Ð»ÑÐ³Ð¸Ðµ...|http://08.od.ua/n...|            08.od.ua|\n",
      "|Orcead, Ð¾Ð¾Ð¾ Ð²...|http://08.od.ua/o...|            08.od.ua|\n",
      "|X-trim, Ð¼Ð°Ð³Ð°Ð...|http://08.od.ua/x...|            08.od.ua|\n",
      "|Ð¡Ð²Ð°Ð´ÑÐ±Ð° Ð½...|http://0lik.ru/cl...|             0lik.ru|\n",
      "|Nude woman with s...|http://0lik.ru/cl...|             0lik.ru|\n",
      "|Belladona Font St...|http://0lik.ru/fo...|             0lik.ru|\n",
      "|New Gems Layer St...|http://0lik.ru/ph...|             0lik.ru|\n",
      "|ÐÐ°Ð»ÐµÐ½Ð´Ð°ÑÑ...|http://0lik.ru/te...|             0lik.ru|\n",
      "|Image - Dale 2.PN...|http://100-things...|100-things-to-do-...|\n",
      "+--------------------+--------------------+--------------------+\n",
      "only showing top 20 rows\n",
      "\n"
     ]
    }
   ],
   "source": [
    "def get_site(url):\n",
    "   if len(url) <= 3: return ''\n",
    "   site = url.split('/')[2]\n",
    "   return site\n",
    "udf_url_to_website = udf(get_site, StringType())\n",
    "rec_df = rec_df.withColumn(\"website\", udf_url_to_website(\"url\"))\n",
    "rec_df.show()"
   ]
  },
  {
   "cell_type": "code",
   "execution_count": 12,
   "metadata": {
    "collapsed": false
   },
   "outputs": [
    {
     "data": {
      "text/plain": [
       "28982"
      ]
     },
     "execution_count": 12,
     "metadata": {},
     "output_type": "execute_result"
    }
   ],
   "source": [
    "no_of_website = rec_df.select(\"website\").rdd.flatMap(lambda x: x).map(lambda site: (site,1)).reduceByKey(lambda v1,v2: v1+v2)\n",
    "no_of_website.count()"
   ]
  },
  {
   "cell_type": "code",
   "execution_count": 13,
   "metadata": {
    "collapsed": false
   },
   "outputs": [],
   "source": [
    "#rec_df.show()"
   ]
  },
  {
   "cell_type": "markdown",
   "metadata": {},
   "source": [
    "## Crawl LDA"
   ]
  },
  {
   "cell_type": "code",
   "execution_count": 14,
   "metadata": {
    "collapsed": true
   },
   "outputs": [],
   "source": [
    "num_topics = 10\n",
    "max_iterations = 10\n",
    "vocab_size = 1000"
   ]
  },
  {
   "cell_type": "code",
   "execution_count": 15,
   "metadata": {
    "collapsed": false
   },
   "outputs": [
    {
     "name": "stdout",
     "output_type": "stream",
     "text": [
      "+--------------------+--------------------+--------------------+--------------------+\n",
      "|            contents|                 url|             website|               words|\n",
      "+--------------------+--------------------+--------------------+--------------------+\n",
      "|çç\n",
      "çç\tç...|http://007zhenren...|007zhenrenyuleche...|[çç, çç, ...|\n",
      "|æ¿æ©ç´ é£â§ç¶...|http://0289646723...|0289646723.tranew...|[æ¿æ©ç´ é£â§ç...|\n",
      "|ÐÐ¾Ð¿ÑÐ¾ÑÑ Ð¿...|http://03online.c...|        03online.com|[ðð¾ð¿ñð¾ññ, ...|\n",
      "|Ð Ð²Ð¸Ð±ÑÐ°ÑÐ¸...|http://03online.c...|        03online.com|[ð, ð²ð¸ð±ñð°ñ...|\n",
      "|ÐÐµÑÐµÐ»Ð¾Ð¼ Ð³...|http://03online.c...|        03online.com|[ððµñðµð»ð¾ð¼, ...|\n",
      "|ÐÐ¾ÑÐµÐ¼Ñ Ð½Ðµ...|http://03online.c...|        03online.com|[ðð¾ñðµð¼ñ, ð½...|\n",
      "|ÐÐ¾ÑÐµÐ¼Ñ Ð½Ðµ...|http://03online.c...|        03online.com|[ðð¾ñðµð¼ñ, ð½...|\n",
      "|Ð ÐµÐ±ÐµÐ½Ð¾Ðº Ñ...|http://03online.c...|        03online.com|[ð ðµð±ðµð½ð¾ðº, ...|\n",
      "|Ð¨ÑÐ¼ Ð² Ð¿ÑÐ°Ð...|http://03online.c...|        03online.com|[ð¨ñð¼, ð², ð¿ñ...|\n",
      "|Ð§Ð¸ÑÑÑÐ¹ ÐºÐ»...|http://08.od.ua/b...|            08.od.ua|[ð§ð¸ñññð¹, ðº...|\n",
      "|Ð£ÐºÑÐ¾Ð¿ÑÑÐ¾Ñ...|http://08.od.ua/k...|            08.od.ua|[ð£ðºñð¾ð¿ññð¾...|\n",
      "|ÐÐ° Ð¾Ð»ÑÐ³Ð¸Ðµ...|http://08.od.ua/n...|            08.od.ua|[ðð°, ð¾ð»ñð³ð¸...|\n",
      "|Orcead, Ð¾Ð¾Ð¾ Ð²...|http://08.od.ua/o...|            08.od.ua|[orcead,, ð¾ð¾ð¾,...|\n",
      "|X-trim, Ð¼Ð°Ð³Ð°Ð...|http://08.od.ua/x...|            08.od.ua|[x-trim,, ð¼ð°ð³ð...|\n",
      "|Ð¡Ð²Ð°Ð´ÑÐ±Ð° Ð½...|http://0lik.ru/cl...|             0lik.ru|[ð¡ð²ð°ð´ñð±ð°, ...|\n",
      "|Nude woman with s...|http://0lik.ru/cl...|             0lik.ru|[nude, woman, wit...|\n",
      "|Belladona Font St...|http://0lik.ru/fo...|             0lik.ru|[belladona, font,...|\n",
      "|New Gems Layer St...|http://0lik.ru/ph...|             0lik.ru|[new, gems, layer...|\n",
      "|ÐÐ°Ð»ÐµÐ½Ð´Ð°ÑÑ...|http://0lik.ru/te...|             0lik.ru|[ðð°ð»ðµð½ð´ð°ñ...|\n",
      "|Image - Dale 2.PN...|http://100-things...|100-things-to-do-...|[image, -, dale, ...|\n",
      "+--------------------+--------------------+--------------------+--------------------+\n",
      "only showing top 20 rows\n",
      "\n"
     ]
    }
   ],
   "source": [
    "tokenizer = RegexTokenizer(inputCol=\"contents\", outputCol=\"words\")\n",
    "rec_df = tokenizer.transform(rec_df)\n",
    "rec_df.show()"
   ]
  },
  {
   "cell_type": "code",
   "execution_count": 16,
   "metadata": {
    "collapsed": false
   },
   "outputs": [],
   "source": [
    "remover = StopWordsRemover(inputCol=\"words\", outputCol=\"filtered\")\n",
    "rec_df = remover.transform(rec_df)"
   ]
  },
  {
   "cell_type": "code",
   "execution_count": 20,
   "metadata": {
    "collapsed": false
   },
   "outputs": [],
   "source": [
    "filtered = rec_df.select(\"filtered\").rdd.map(no_punct).toDF().selectExpr(\"_\")"
   ]
  },
  {
   "cell_type": "code",
   "execution_count": 26,
   "metadata": {
    "collapsed": false
   },
   "outputs": [
    {
     "name": "stdout",
     "output_type": "stream",
     "text": [
      "root\n",
      " |-- filtered: string (nullable = true)\n",
      "\n"
     ]
    }
   ],
   "source": [
    "filtered.printSchema()"
   ]
  },
  {
   "cell_type": "code",
   "execution_count": null,
   "metadata": {
    "collapsed": false
   },
   "outputs": [],
   "source": []
  },
  {
   "cell_type": "markdown",
   "metadata": {},
   "source": [
    "## CountVectorizing"
   ]
  },
  {
   "cell_type": "code",
   "execution_count": 23,
   "metadata": {
    "collapsed": false
   },
   "outputs": [
    {
     "ename": "IllegalArgumentException",
     "evalue": "u'requirement failed: Column filtered must be of type equal to one of the following types: [ArrayType(StringType,true), ArrayType(StringType,false)] but was actually of type StringType.'",
     "output_type": "error",
     "traceback": [
      "\u001b[0;31m---------------------------------------------------------------------------\u001b[0m",
      "\u001b[0;31mIllegalArgumentException\u001b[0m                  Traceback (most recent call last)",
      "\u001b[0;32m<ipython-input-23-fcc6debc2113>\u001b[0m in \u001b[0;36m<module>\u001b[0;34m()\u001b[0m\n\u001b[1;32m      1\u001b[0m \u001b[0mcvectorizer\u001b[0m \u001b[0;34m=\u001b[0m \u001b[0mCountVectorizer\u001b[0m\u001b[0;34m(\u001b[0m\u001b[0minputCol\u001b[0m\u001b[0;34m=\u001b[0m\u001b[0;34m\"filtered\"\u001b[0m\u001b[0;34m,\u001b[0m \u001b[0moutputCol\u001b[0m\u001b[0;34m=\u001b[0m\u001b[0;34m\"features\"\u001b[0m\u001b[0;34m,\u001b[0m \u001b[0mvocabSize\u001b[0m\u001b[0;34m=\u001b[0m\u001b[0mvocab_size\u001b[0m\u001b[0;34m)\u001b[0m\u001b[0;34m\u001b[0m\u001b[0m\n\u001b[0;32m----> 2\u001b[0;31m \u001b[0mcv_model\u001b[0m \u001b[0;34m=\u001b[0m \u001b[0mcvectorizer\u001b[0m\u001b[0;34m.\u001b[0m\u001b[0mfit\u001b[0m\u001b[0;34m(\u001b[0m\u001b[0mfiltered\u001b[0m\u001b[0;34m)\u001b[0m \u001b[0;31m## takes long time\u001b[0m\u001b[0;34m\u001b[0m\u001b[0m\n\u001b[0m\u001b[1;32m      3\u001b[0m \u001b[0;31m#mbf = 2.0 / max_iterations + 1.0 / tokens_df.count() #MiniBatchFraction\u001b[0m\u001b[0;34m\u001b[0m\u001b[0;34m\u001b[0m\u001b[0m\n\u001b[1;32m      4\u001b[0m \u001b[0;31m#rec_df = cv_model.transform(rec_df)\u001b[0m\u001b[0;34m\u001b[0m\u001b[0;34m\u001b[0m\u001b[0m\n",
      "\u001b[0;32m/usr/lib/spark/python/pyspark/ml/base.py\u001b[0m in \u001b[0;36mfit\u001b[0;34m(self, dataset, params)\u001b[0m\n\u001b[1;32m     62\u001b[0m                 \u001b[0;32mreturn\u001b[0m \u001b[0mself\u001b[0m\u001b[0;34m.\u001b[0m\u001b[0mcopy\u001b[0m\u001b[0;34m(\u001b[0m\u001b[0mparams\u001b[0m\u001b[0;34m)\u001b[0m\u001b[0;34m.\u001b[0m\u001b[0m_fit\u001b[0m\u001b[0;34m(\u001b[0m\u001b[0mdataset\u001b[0m\u001b[0;34m)\u001b[0m\u001b[0;34m\u001b[0m\u001b[0m\n\u001b[1;32m     63\u001b[0m             \u001b[0;32melse\u001b[0m\u001b[0;34m:\u001b[0m\u001b[0;34m\u001b[0m\u001b[0m\n\u001b[0;32m---> 64\u001b[0;31m                 \u001b[0;32mreturn\u001b[0m \u001b[0mself\u001b[0m\u001b[0;34m.\u001b[0m\u001b[0m_fit\u001b[0m\u001b[0;34m(\u001b[0m\u001b[0mdataset\u001b[0m\u001b[0;34m)\u001b[0m\u001b[0;34m\u001b[0m\u001b[0m\n\u001b[0m\u001b[1;32m     65\u001b[0m         \u001b[0;32melse\u001b[0m\u001b[0;34m:\u001b[0m\u001b[0;34m\u001b[0m\u001b[0m\n\u001b[1;32m     66\u001b[0m             raise ValueError(\"Params must be either a param map or a list/tuple of param maps, \"\n",
      "\u001b[0;32m/usr/lib/spark/python/pyspark/ml/wrapper.py\u001b[0m in \u001b[0;36m_fit\u001b[0;34m(self, dataset)\u001b[0m\n\u001b[1;32m    234\u001b[0m \u001b[0;34m\u001b[0m\u001b[0m\n\u001b[1;32m    235\u001b[0m     \u001b[0;32mdef\u001b[0m \u001b[0m_fit\u001b[0m\u001b[0;34m(\u001b[0m\u001b[0mself\u001b[0m\u001b[0;34m,\u001b[0m \u001b[0mdataset\u001b[0m\u001b[0;34m)\u001b[0m\u001b[0;34m:\u001b[0m\u001b[0;34m\u001b[0m\u001b[0m\n\u001b[0;32m--> 236\u001b[0;31m         \u001b[0mjava_model\u001b[0m \u001b[0;34m=\u001b[0m \u001b[0mself\u001b[0m\u001b[0;34m.\u001b[0m\u001b[0m_fit_java\u001b[0m\u001b[0;34m(\u001b[0m\u001b[0mdataset\u001b[0m\u001b[0;34m)\u001b[0m\u001b[0;34m\u001b[0m\u001b[0m\n\u001b[0m\u001b[1;32m    237\u001b[0m         \u001b[0;32mreturn\u001b[0m \u001b[0mself\u001b[0m\u001b[0;34m.\u001b[0m\u001b[0m_create_model\u001b[0m\u001b[0;34m(\u001b[0m\u001b[0mjava_model\u001b[0m\u001b[0;34m)\u001b[0m\u001b[0;34m\u001b[0m\u001b[0m\n\u001b[1;32m    238\u001b[0m \u001b[0;34m\u001b[0m\u001b[0m\n",
      "\u001b[0;32m/usr/lib/spark/python/pyspark/ml/wrapper.py\u001b[0m in \u001b[0;36m_fit_java\u001b[0;34m(self, dataset)\u001b[0m\n\u001b[1;32m    231\u001b[0m         \"\"\"\n\u001b[1;32m    232\u001b[0m         \u001b[0mself\u001b[0m\u001b[0;34m.\u001b[0m\u001b[0m_transfer_params_to_java\u001b[0m\u001b[0;34m(\u001b[0m\u001b[0;34m)\u001b[0m\u001b[0;34m\u001b[0m\u001b[0m\n\u001b[0;32m--> 233\u001b[0;31m         \u001b[0;32mreturn\u001b[0m \u001b[0mself\u001b[0m\u001b[0;34m.\u001b[0m\u001b[0m_java_obj\u001b[0m\u001b[0;34m.\u001b[0m\u001b[0mfit\u001b[0m\u001b[0;34m(\u001b[0m\u001b[0mdataset\u001b[0m\u001b[0;34m.\u001b[0m\u001b[0m_jdf\u001b[0m\u001b[0;34m)\u001b[0m\u001b[0;34m\u001b[0m\u001b[0m\n\u001b[0m\u001b[1;32m    234\u001b[0m \u001b[0;34m\u001b[0m\u001b[0m\n\u001b[1;32m    235\u001b[0m     \u001b[0;32mdef\u001b[0m \u001b[0m_fit\u001b[0m\u001b[0;34m(\u001b[0m\u001b[0mself\u001b[0m\u001b[0;34m,\u001b[0m \u001b[0mdataset\u001b[0m\u001b[0;34m)\u001b[0m\u001b[0;34m:\u001b[0m\u001b[0;34m\u001b[0m\u001b[0m\n",
      "\u001b[0;32m/usr/lib/spark/python/lib/py4j-0.10.4-src.zip/py4j/java_gateway.py\u001b[0m in \u001b[0;36m__call__\u001b[0;34m(self, *args)\u001b[0m\n\u001b[1;32m   1131\u001b[0m         \u001b[0manswer\u001b[0m \u001b[0;34m=\u001b[0m \u001b[0mself\u001b[0m\u001b[0;34m.\u001b[0m\u001b[0mgateway_client\u001b[0m\u001b[0;34m.\u001b[0m\u001b[0msend_command\u001b[0m\u001b[0;34m(\u001b[0m\u001b[0mcommand\u001b[0m\u001b[0;34m)\u001b[0m\u001b[0;34m\u001b[0m\u001b[0m\n\u001b[1;32m   1132\u001b[0m         return_value = get_return_value(\n\u001b[0;32m-> 1133\u001b[0;31m             answer, self.gateway_client, self.target_id, self.name)\n\u001b[0m\u001b[1;32m   1134\u001b[0m \u001b[0;34m\u001b[0m\u001b[0m\n\u001b[1;32m   1135\u001b[0m         \u001b[0;32mfor\u001b[0m \u001b[0mtemp_arg\u001b[0m \u001b[0;32min\u001b[0m \u001b[0mtemp_args\u001b[0m\u001b[0;34m:\u001b[0m\u001b[0;34m\u001b[0m\u001b[0m\n",
      "\u001b[0;32m/usr/lib/spark/python/pyspark/sql/utils.py\u001b[0m in \u001b[0;36mdeco\u001b[0;34m(*a, **kw)\u001b[0m\n\u001b[1;32m     77\u001b[0m                 \u001b[0;32mraise\u001b[0m \u001b[0mQueryExecutionException\u001b[0m\u001b[0;34m(\u001b[0m\u001b[0ms\u001b[0m\u001b[0;34m.\u001b[0m\u001b[0msplit\u001b[0m\u001b[0;34m(\u001b[0m\u001b[0;34m': '\u001b[0m\u001b[0;34m,\u001b[0m \u001b[0;36m1\u001b[0m\u001b[0;34m)\u001b[0m\u001b[0;34m[\u001b[0m\u001b[0;36m1\u001b[0m\u001b[0;34m]\u001b[0m\u001b[0;34m,\u001b[0m \u001b[0mstackTrace\u001b[0m\u001b[0;34m)\u001b[0m\u001b[0;34m\u001b[0m\u001b[0m\n\u001b[1;32m     78\u001b[0m             \u001b[0;32mif\u001b[0m \u001b[0ms\u001b[0m\u001b[0;34m.\u001b[0m\u001b[0mstartswith\u001b[0m\u001b[0;34m(\u001b[0m\u001b[0;34m'java.lang.IllegalArgumentException: '\u001b[0m\u001b[0;34m)\u001b[0m\u001b[0;34m:\u001b[0m\u001b[0;34m\u001b[0m\u001b[0m\n\u001b[0;32m---> 79\u001b[0;31m                 \u001b[0;32mraise\u001b[0m \u001b[0mIllegalArgumentException\u001b[0m\u001b[0;34m(\u001b[0m\u001b[0ms\u001b[0m\u001b[0;34m.\u001b[0m\u001b[0msplit\u001b[0m\u001b[0;34m(\u001b[0m\u001b[0;34m': '\u001b[0m\u001b[0;34m,\u001b[0m \u001b[0;36m1\u001b[0m\u001b[0;34m)\u001b[0m\u001b[0;34m[\u001b[0m\u001b[0;36m1\u001b[0m\u001b[0;34m]\u001b[0m\u001b[0;34m,\u001b[0m \u001b[0mstackTrace\u001b[0m\u001b[0;34m)\u001b[0m\u001b[0;34m\u001b[0m\u001b[0m\n\u001b[0m\u001b[1;32m     80\u001b[0m             \u001b[0;32mraise\u001b[0m\u001b[0;34m\u001b[0m\u001b[0m\n\u001b[1;32m     81\u001b[0m     \u001b[0;32mreturn\u001b[0m \u001b[0mdeco\u001b[0m\u001b[0;34m\u001b[0m\u001b[0m\n",
      "\u001b[0;31mIllegalArgumentException\u001b[0m: u'requirement failed: Column filtered must be of type equal to one of the following types: [ArrayType(StringType,true), ArrayType(StringType,false)] but was actually of type StringType.'"
     ]
    }
   ],
   "source": [
    "cvectorizer = CountVectorizer(inputCol=\"filtered\", outputCol=\"features\", vocabSize=vocab_size)\n",
    "cv_model = cvectorizer.fit(filtered) ## takes long time\n",
    "#mbf = 2.0 / max_iterations + 1.0 / tokens_df.count() #MiniBatchFraction\n",
    "#rec_df = cv_model.transform(rec_df)"
   ]
  },
  {
   "cell_type": "code",
   "execution_count": 24,
   "metadata": {
    "collapsed": false
   },
   "outputs": [
    {
     "name": "stdout",
     "output_type": "stream",
     "text": [
      "root\n",
      " |-- contents: string (nullable = true)\n",
      " |-- url: string (nullable = true)\n",
      " |-- website: string (nullable = true)\n",
      " |-- words: array (nullable = true)\n",
      " |    |-- element: string (containsNull = true)\n",
      " |-- filtered: array (nullable = true)\n",
      " |    |-- element: string (containsNull = true)\n",
      "\n",
      "+--------------------+--------------------+--------------------+--------------------+--------------------+\n",
      "|            contents|                 url|             website|               words|            filtered|\n",
      "+--------------------+--------------------+--------------------+--------------------+--------------------+\n",
      "|çç\n",
      "çç\tç...|http://007zhenren...|007zhenrenyuleche...|[çç, çç, ...|[çç, çç, ...|\n",
      "|æ¿æ©ç´ é£â§ç¶...|http://0289646723...|0289646723.tranew...|[æ¿æ©ç´ é£â§ç...|[æ¿æ©ç´ é£â§ç...|\n",
      "|ÐÐ¾Ð¿ÑÐ¾ÑÑ Ð¿...|http://03online.c...|        03online.com|[ðð¾ð¿ñð¾ññ, ...|[ðð¾ð¿ñð¾ññ, ...|\n",
      "|Ð Ð²Ð¸Ð±ÑÐ°ÑÐ¸...|http://03online.c...|        03online.com|[ð, ð²ð¸ð±ñð°ñ...|[ð, ð²ð¸ð±ñð°ñ...|\n",
      "|ÐÐµÑÐµÐ»Ð¾Ð¼ Ð³...|http://03online.c...|        03online.com|[ððµñðµð»ð¾ð¼, ...|[ððµñðµð»ð¾ð¼, ...|\n",
      "|ÐÐ¾ÑÐµÐ¼Ñ Ð½Ðµ...|http://03online.c...|        03online.com|[ðð¾ñðµð¼ñ, ð½...|[ðð¾ñðµð¼ñ, ð½...|\n",
      "|ÐÐ¾ÑÐµÐ¼Ñ Ð½Ðµ...|http://03online.c...|        03online.com|[ðð¾ñðµð¼ñ, ð½...|[ðð¾ñðµð¼ñ, ð½...|\n",
      "|Ð ÐµÐ±ÐµÐ½Ð¾Ðº Ñ...|http://03online.c...|        03online.com|[ð ðµð±ðµð½ð¾ðº, ...|[ð ðµð±ðµð½ð¾ðº, ...|\n",
      "|Ð¨ÑÐ¼ Ð² Ð¿ÑÐ°Ð...|http://03online.c...|        03online.com|[ð¨ñð¼, ð², ð¿ñ...|[ð¨ñð¼, ð², ð¿ñ...|\n",
      "|Ð§Ð¸ÑÑÑÐ¹ ÐºÐ»...|http://08.od.ua/b...|            08.od.ua|[ð§ð¸ñññð¹, ðº...|[ð§ð¸ñññð¹, ðº...|\n",
      "|Ð£ÐºÑÐ¾Ð¿ÑÑÐ¾Ñ...|http://08.od.ua/k...|            08.od.ua|[ð£ðºñð¾ð¿ññð¾...|[ð£ðºñð¾ð¿ññð¾...|\n",
      "|ÐÐ° Ð¾Ð»ÑÐ³Ð¸Ðµ...|http://08.od.ua/n...|            08.od.ua|[ðð°, ð¾ð»ñð³ð¸...|[ðð°, ð¾ð»ñð³ð¸...|\n",
      "|Orcead, Ð¾Ð¾Ð¾ Ð²...|http://08.od.ua/o...|            08.od.ua|[orcead,, ð¾ð¾ð¾,...|[orcead,, ð¾ð¾ð¾,...|\n",
      "|X-trim, Ð¼Ð°Ð³Ð°Ð...|http://08.od.ua/x...|            08.od.ua|[x-trim,, ð¼ð°ð³ð...|[x-trim,, ð¼ð°ð³ð...|\n",
      "|Ð¡Ð²Ð°Ð´ÑÐ±Ð° Ð½...|http://0lik.ru/cl...|             0lik.ru|[ð¡ð²ð°ð´ñð±ð°, ...|[ð¡ð²ð°ð´ñð±ð°, ...|\n",
      "|Nude woman with s...|http://0lik.ru/cl...|             0lik.ru|[nude, woman, wit...|[nude, woman, sho...|\n",
      "|Belladona Font St...|http://0lik.ru/fo...|             0lik.ru|[belladona, font,...|[belladona, font,...|\n",
      "|New Gems Layer St...|http://0lik.ru/ph...|             0lik.ru|[new, gems, layer...|[new, gems, layer...|\n",
      "|ÐÐ°Ð»ÐµÐ½Ð´Ð°ÑÑ...|http://0lik.ru/te...|             0lik.ru|[ðð°ð»ðµð½ð´ð°ñ...|[ðð°ð»ðµð½ð´ð°ñ...|\n",
      "|Image - Dale 2.PN...|http://100-things...|100-things-to-do-...|[image, -, dale, ...|[image, -, dale, ...|\n",
      "+--------------------+--------------------+--------------------+--------------------+--------------------+\n",
      "only showing top 20 rows\n",
      "\n"
     ]
    }
   ],
   "source": [
    "rec_df.printSchema()\n",
    "rec_df.show()"
   ]
  },
  {
   "cell_type": "markdown",
   "metadata": {},
   "source": [
    "## For mllib\n",
    "### pyspark.mllib: pyspark.rdd.RDD\n",
    "### pyspark.ml: pyspark.sql.DataFrame"
   ]
  },
  {
   "cell_type": "code",
   "execution_count": 21,
   "metadata": {
    "collapsed": false
   },
   "outputs": [
    {
     "ename": "AnalysisException",
     "evalue": "u\"cannot resolve '`cvectors`' given input columns: [url, website, words, features, contents, filtered];;\\n'Project ['cvectors]\\n+- Project [contents#0, url#1, website#14, words#28, filtered#41, UDF(filtered#41) AS features#59]\\n   +- Project [contents#0, url#1, website#14, words#28, UDF(words#28) AS filtered#41]\\n      +- Project [contents#0, url#1, website#14, UDF(contents#0) AS words#28]\\n         +- Project [contents#0, url#1, get_site(url#1) AS website#14]\\n            +- LogicalRDD [contents#0, url#1]\\n\"",
     "output_type": "error",
     "traceback": [
      "\u001b[0;31m---------------------------------------------------------------------------\u001b[0m",
      "\u001b[0;31mAnalysisException\u001b[0m                         Traceback (most recent call last)",
      "\u001b[0;32m<ipython-input-21-5fbd1b1c7847>\u001b[0m in \u001b[0;36m<module>\u001b[0;34m()\u001b[0m\n\u001b[1;32m      2\u001b[0m \u001b[0;32mfrom\u001b[0m \u001b[0mpyspark\u001b[0m\u001b[0;34m.\u001b[0m\u001b[0msql\u001b[0m\u001b[0;34m.\u001b[0m\u001b[0mfunctions\u001b[0m \u001b[0;32mimport\u001b[0m \u001b[0;34m*\u001b[0m\u001b[0;34m\u001b[0m\u001b[0m\n\u001b[1;32m      3\u001b[0m \u001b[0;34m\u001b[0m\u001b[0m\n\u001b[0;32m----> 4\u001b[0;31m \u001b[0msv_df\u001b[0m \u001b[0;34m=\u001b[0m \u001b[0mrec_df\u001b[0m\u001b[0;34m.\u001b[0m\u001b[0mselect\u001b[0m\u001b[0;34m(\u001b[0m\u001b[0;34m\"cvectors\"\u001b[0m\u001b[0;34m)\u001b[0m\u001b[0;34m\u001b[0m\u001b[0m\n\u001b[0m\u001b[1;32m      5\u001b[0m \u001b[0mcorpus\u001b[0m \u001b[0;34m=\u001b[0m \u001b[0msv_df\u001b[0m\u001b[0;34m.\u001b[0m\u001b[0mrdd\u001b[0m\u001b[0;34m.\u001b[0m\u001b[0mmap\u001b[0m\u001b[0;34m(\u001b[0m\u001b[0;32mlambda\u001b[0m \u001b[0mx\u001b[0m\u001b[0;34m:\u001b[0m \u001b[0mRow\u001b[0m\u001b[0;34m(\u001b[0m\u001b[0mcvectors\u001b[0m\u001b[0;34m=\u001b[0m\u001b[0mDenseVector\u001b[0m\u001b[0;34m(\u001b[0m\u001b[0mx\u001b[0m\u001b[0;34m[\u001b[0m\u001b[0;36m0\u001b[0m\u001b[0;34m]\u001b[0m\u001b[0;34m.\u001b[0m\u001b[0mtoArray\u001b[0m\u001b[0;34m(\u001b[0m\u001b[0;34m)\u001b[0m\u001b[0;34m)\u001b[0m\u001b[0;34m)\u001b[0m\u001b[0;34m)\u001b[0m                  \u001b[0;34m.\u001b[0m\u001b[0mmap\u001b[0m\u001b[0;34m(\u001b[0m\u001b[0;32mlambda\u001b[0m \u001b[0mx\u001b[0m\u001b[0;34m:\u001b[0m \u001b[0mx\u001b[0m\u001b[0;34m[\u001b[0m\u001b[0;36m0\u001b[0m\u001b[0;34m]\u001b[0m\u001b[0;34m)\u001b[0m                  \u001b[0;34m.\u001b[0m\u001b[0mzipWithIndex\u001b[0m\u001b[0;34m(\u001b[0m\u001b[0;34m)\u001b[0m                  \u001b[0;34m.\u001b[0m\u001b[0mmap\u001b[0m\u001b[0;34m(\u001b[0m\u001b[0;32mlambda\u001b[0m \u001b[0mx\u001b[0m\u001b[0;34m:\u001b[0m \u001b[0;34m[\u001b[0m\u001b[0mx\u001b[0m\u001b[0;34m[\u001b[0m\u001b[0;36m1\u001b[0m\u001b[0;34m]\u001b[0m\u001b[0;34m,\u001b[0m \u001b[0mx\u001b[0m\u001b[0;34m[\u001b[0m\u001b[0;36m0\u001b[0m\u001b[0;34m]\u001b[0m\u001b[0;34m]\u001b[0m\u001b[0;34m)\u001b[0m\u001b[0;34m\u001b[0m\u001b[0m\n\u001b[1;32m      6\u001b[0m \u001b[0;31m#                 .cache()\u001b[0m\u001b[0;34m\u001b[0m\u001b[0;34m\u001b[0m\u001b[0m\n",
      "\u001b[0;32m/usr/lib/spark/python/pyspark/sql/dataframe.py\u001b[0m in \u001b[0;36mselect\u001b[0;34m(self, *cols)\u001b[0m\n\u001b[1;32m    982\u001b[0m         \u001b[0;34m[\u001b[0m\u001b[0mRow\u001b[0m\u001b[0;34m(\u001b[0m\u001b[0mname\u001b[0m\u001b[0;34m=\u001b[0m\u001b[0;34mu'Alice'\u001b[0m\u001b[0;34m,\u001b[0m \u001b[0mage\u001b[0m\u001b[0;34m=\u001b[0m\u001b[0;36m12\u001b[0m\u001b[0;34m)\u001b[0m\u001b[0;34m,\u001b[0m \u001b[0mRow\u001b[0m\u001b[0;34m(\u001b[0m\u001b[0mname\u001b[0m\u001b[0;34m=\u001b[0m\u001b[0;34mu'Bob'\u001b[0m\u001b[0;34m,\u001b[0m \u001b[0mage\u001b[0m\u001b[0;34m=\u001b[0m\u001b[0;36m15\u001b[0m\u001b[0;34m)\u001b[0m\u001b[0;34m]\u001b[0m\u001b[0;34m\u001b[0m\u001b[0m\n\u001b[1;32m    983\u001b[0m         \"\"\"\n\u001b[0;32m--> 984\u001b[0;31m         \u001b[0mjdf\u001b[0m \u001b[0;34m=\u001b[0m \u001b[0mself\u001b[0m\u001b[0;34m.\u001b[0m\u001b[0m_jdf\u001b[0m\u001b[0;34m.\u001b[0m\u001b[0mselect\u001b[0m\u001b[0;34m(\u001b[0m\u001b[0mself\u001b[0m\u001b[0;34m.\u001b[0m\u001b[0m_jcols\u001b[0m\u001b[0;34m(\u001b[0m\u001b[0;34m*\u001b[0m\u001b[0mcols\u001b[0m\u001b[0;34m)\u001b[0m\u001b[0;34m)\u001b[0m\u001b[0;34m\u001b[0m\u001b[0m\n\u001b[0m\u001b[1;32m    985\u001b[0m         \u001b[0;32mreturn\u001b[0m \u001b[0mDataFrame\u001b[0m\u001b[0;34m(\u001b[0m\u001b[0mjdf\u001b[0m\u001b[0;34m,\u001b[0m \u001b[0mself\u001b[0m\u001b[0;34m.\u001b[0m\u001b[0msql_ctx\u001b[0m\u001b[0;34m)\u001b[0m\u001b[0;34m\u001b[0m\u001b[0m\n\u001b[1;32m    986\u001b[0m \u001b[0;34m\u001b[0m\u001b[0m\n",
      "\u001b[0;32m/usr/lib/spark/python/lib/py4j-0.10.4-src.zip/py4j/java_gateway.py\u001b[0m in \u001b[0;36m__call__\u001b[0;34m(self, *args)\u001b[0m\n\u001b[1;32m   1131\u001b[0m         \u001b[0manswer\u001b[0m \u001b[0;34m=\u001b[0m \u001b[0mself\u001b[0m\u001b[0;34m.\u001b[0m\u001b[0mgateway_client\u001b[0m\u001b[0;34m.\u001b[0m\u001b[0msend_command\u001b[0m\u001b[0;34m(\u001b[0m\u001b[0mcommand\u001b[0m\u001b[0;34m)\u001b[0m\u001b[0;34m\u001b[0m\u001b[0m\n\u001b[1;32m   1132\u001b[0m         return_value = get_return_value(\n\u001b[0;32m-> 1133\u001b[0;31m             answer, self.gateway_client, self.target_id, self.name)\n\u001b[0m\u001b[1;32m   1134\u001b[0m \u001b[0;34m\u001b[0m\u001b[0m\n\u001b[1;32m   1135\u001b[0m         \u001b[0;32mfor\u001b[0m \u001b[0mtemp_arg\u001b[0m \u001b[0;32min\u001b[0m \u001b[0mtemp_args\u001b[0m\u001b[0;34m:\u001b[0m\u001b[0;34m\u001b[0m\u001b[0m\n",
      "\u001b[0;32m/usr/lib/spark/python/pyspark/sql/utils.py\u001b[0m in \u001b[0;36mdeco\u001b[0;34m(*a, **kw)\u001b[0m\n\u001b[1;32m     67\u001b[0m                                              e.java_exception.getStackTrace()))\n\u001b[1;32m     68\u001b[0m             \u001b[0;32mif\u001b[0m \u001b[0ms\u001b[0m\u001b[0;34m.\u001b[0m\u001b[0mstartswith\u001b[0m\u001b[0;34m(\u001b[0m\u001b[0;34m'org.apache.spark.sql.AnalysisException: '\u001b[0m\u001b[0;34m)\u001b[0m\u001b[0;34m:\u001b[0m\u001b[0;34m\u001b[0m\u001b[0m\n\u001b[0;32m---> 69\u001b[0;31m                 \u001b[0;32mraise\u001b[0m \u001b[0mAnalysisException\u001b[0m\u001b[0;34m(\u001b[0m\u001b[0ms\u001b[0m\u001b[0;34m.\u001b[0m\u001b[0msplit\u001b[0m\u001b[0;34m(\u001b[0m\u001b[0;34m': '\u001b[0m\u001b[0;34m,\u001b[0m \u001b[0;36m1\u001b[0m\u001b[0;34m)\u001b[0m\u001b[0;34m[\u001b[0m\u001b[0;36m1\u001b[0m\u001b[0;34m]\u001b[0m\u001b[0;34m,\u001b[0m \u001b[0mstackTrace\u001b[0m\u001b[0;34m)\u001b[0m\u001b[0;34m\u001b[0m\u001b[0m\n\u001b[0m\u001b[1;32m     70\u001b[0m             \u001b[0;32mif\u001b[0m \u001b[0ms\u001b[0m\u001b[0;34m.\u001b[0m\u001b[0mstartswith\u001b[0m\u001b[0;34m(\u001b[0m\u001b[0;34m'org.apache.spark.sql.catalyst.analysis'\u001b[0m\u001b[0;34m)\u001b[0m\u001b[0;34m:\u001b[0m\u001b[0;34m\u001b[0m\u001b[0m\n\u001b[1;32m     71\u001b[0m                 \u001b[0;32mraise\u001b[0m \u001b[0mAnalysisException\u001b[0m\u001b[0;34m(\u001b[0m\u001b[0ms\u001b[0m\u001b[0;34m.\u001b[0m\u001b[0msplit\u001b[0m\u001b[0;34m(\u001b[0m\u001b[0;34m': '\u001b[0m\u001b[0;34m,\u001b[0m \u001b[0;36m1\u001b[0m\u001b[0;34m)\u001b[0m\u001b[0;34m[\u001b[0m\u001b[0;36m1\u001b[0m\u001b[0;34m]\u001b[0m\u001b[0;34m,\u001b[0m \u001b[0mstackTrace\u001b[0m\u001b[0;34m)\u001b[0m\u001b[0;34m\u001b[0m\u001b[0m\n",
      "\u001b[0;31mAnalysisException\u001b[0m: u\"cannot resolve '`cvectors`' given input columns: [url, website, words, features, contents, filtered];;\\n'Project ['cvectors]\\n+- Project [contents#0, url#1, website#14, words#28, filtered#41, UDF(filtered#41) AS features#59]\\n   +- Project [contents#0, url#1, website#14, words#28, UDF(words#28) AS filtered#41]\\n      +- Project [contents#0, url#1, website#14, UDF(contents#0) AS words#28]\\n         +- Project [contents#0, url#1, get_site(url#1) AS website#14]\\n            +- LogicalRDD [contents#0, url#1]\\n\""
     ]
    }
   ],
   "source": [
    "from pyspark.sql.types import Row\n",
    "from pyspark.sql.functions import *\n",
    "\n",
    "sv_df = rec_df.select(\"cvectors\")\n",
    "corpus = sv_df.rdd.map(lambda x: Row(cvectors=DenseVector(x[0].toArray())))\\\n",
    "                  .map(lambda x: x[0])\\\n",
    "                  .zipWithIndex()\\\n",
    "                  .map(lambda x: [x[1], x[0]])\n",
    "#                 .cache()"
   ]
  },
  {
   "cell_type": "code",
   "execution_count": null,
   "metadata": {
    "collapsed": false
   },
   "outputs": [],
   "source": [
    "corpus_df = corpus.toDF()"
   ]
  },
  {
   "cell_type": "code",
   "execution_count": null,
   "metadata": {
    "collapsed": false
   },
   "outputs": [],
   "source": [
    "type(corpus)"
   ]
  },
  {
   "cell_type": "code",
   "execution_count": null,
   "metadata": {
    "collapsed": false,
    "scrolled": true
   },
   "outputs": [],
   "source": [
    "## Java Error\n",
    "crawl_lda_model_10_topic = LDA.train(corpus, k=10, maxIterations=10, optimizer=\"em\")\n",
    "## EMR Resize"
   ]
  },
  {
   "cell_type": "code",
   "execution_count": 19,
   "metadata": {
    "collapsed": false
   },
   "outputs": [],
   "source": [
    "# Save and load model\n",
    "#crawl_lda_model_10_topic.save(sc, \"crawl_lda_model_10\")\n",
    "crawl_lda_model_10_topic = LDAModel.load(sc, \"crawl_lda_model_10\")\n",
    "crawl_lda_model_5_topic = LDAModel.load(sc, \"crawl_lda_model\")"
   ]
  },
  {
   "cell_type": "code",
   "execution_count": 23,
   "metadata": {
    "collapsed": false
   },
   "outputs": [
    {
     "data": {
      "text/plain": [
       "array([[  67395.48957972,   85050.97410262,   63557.40660837, ...,\n",
       "          93898.32436502,  107965.64700228,   49359.36430729],\n",
       "       [  46397.32082255,   56531.99588281,   40777.25830006, ...,\n",
       "          58800.33322591,   68970.32486657,   32652.64896381],\n",
       "       [  55926.39047845,   52929.59742882,   41273.53191615, ...,\n",
       "          55989.97140447,   65007.11185714,   34367.10368376],\n",
       "       ..., \n",
       "       [    464.53081807,     575.39336184,     395.06668204, ...,\n",
       "            553.8007751 ,     569.81278027,     358.68164792],\n",
       "       [    471.075264  ,     579.36657261,     408.82284165, ...,\n",
       "            507.79039554,     545.47801871,     350.16652695],\n",
       "       [   1414.3327473 ,    1101.3082602 ,     557.47578519, ...,\n",
       "            211.35386986,     252.48829074,     147.04003941]])"
      ]
     },
     "execution_count": 23,
     "metadata": {},
     "output_type": "execute_result"
    }
   ],
   "source": [
    "crawl_lda_model_10_topic.topicsMatrix()\n",
    "# topicIndices.foreach { case (terms, termWeights) =>\n",
    "#   println(\"TOPIC:\")\n",
    "#   terms.zip(termWeights).foreach { case (term, weight) =>\n",
    "#     println(s\"${vocabArray(term.toInt)}\\t$weight\")\n",
    "#   }\n",
    "#   println()\n",
    "# }"
   ]
  },
  {
   "cell_type": "code",
   "execution_count": 25,
   "metadata": {
    "collapsed": true
   },
   "outputs": [],
   "source": [
    "topic_indices_mllib = crawl_lda_model_10_topic.describeTopics(maxTermsPerTopic=100)"
   ]
  },
  {
   "cell_type": "code",
   "execution_count": 24,
   "metadata": {
    "collapsed": false
   },
   "outputs": [],
   "source": [
    "#opic_indices_mllib[0]"
   ]
  },
  {
   "cell_type": "markdown",
   "metadata": {
    "collapsed": false
   },
   "source": [
    "## For ml\n",
    "### pyspark.mllib: pyspark.rdd.RDD\n",
    "### pyspark.ml: pyspark.sql.DataFrame"
   ]
  },
  {
   "cell_type": "code",
   "execution_count": 24,
   "metadata": {
    "collapsed": false
   },
   "outputs": [],
   "source": [
    "#num_topic_list = [5, 10, 20, 40, 60, 80, 100, 120, 140, 160]\n",
    "lda_5 = LDA(k=5, seed=1)\n",
    "lda_10 = LDA(k=10, seed=1)\n",
    "lda_20 = LDA(k=20, seed=1)\n",
    "lda_40 = LDA(k=40, seed=1)\n",
    "lda_60 = LDA(k=60, seed=1)\n",
    "lda_80 = LDA(k=80, seed=1)\n",
    "lda_100 = LDA(k=100, seed=1)\n",
    "lda_120 = LDA(k=120, seed=1)\n",
    "lda_140 = LDA(k=140, seed=1)\n",
    "lda_160 = LDA(k=160, seed=1)\n",
    "lda_180 = LDA(k=180, seed=1)\n",
    "lda_200 = LDA(k=200, seed=1)"
   ]
  },
  {
   "cell_type": "code",
   "execution_count": 26,
   "metadata": {
    "collapsed": false
   },
   "outputs": [],
   "source": [
    "crawl_ml_lda_model_10_topics = dlda.fit(rec_df)"
   ]
  },
  {
   "cell_type": "code",
   "execution_count": 20,
   "metadata": {
    "collapsed": true
   },
   "outputs": [],
   "source": [
    "crawl_ml_lda_model_10_topics = LocalLDAModel.load(model_path)"
   ]
  },
  {
   "cell_type": "code",
   "execution_count": 21,
   "metadata": {
    "collapsed": false
   },
   "outputs": [],
   "source": [
    "model_path = \"crawl_ml_lda_model_10_topics_without_stopwords\"\n",
    "#crawl_ml_lda_model_10_topics.save(model_path)\n",
    "# if crawl_ml_lda_model_10_topics.isDistributed():\n",
    "#     crawl_ml_lda_model_10_topics = DistributedLDAModel.load(model_path)\n",
    "# else:\n",
    "#     crawl_ml_lda_model_10_topics = LocalLDAModel.load(model_path)"
   ]
  },
  {
   "cell_type": "code",
   "execution_count": 23,
   "metadata": {
    "collapsed": false
   },
   "outputs": [],
   "source": [
    "#crawl_ml_lda_model_10_topics.save(\"crawl_ml_lda_model_10_topics\")\n",
    "crawl_ml_lda_model_10_topics = LocalLDAModel.load(\"crawl_ml_lda_model_10_topics\")"
   ]
  },
  {
   "cell_type": "code",
   "execution_count": 27,
   "metadata": {
    "collapsed": false
   },
   "outputs": [],
   "source": [
    "avg_log_likelihood = crawl_ml_lda_model_10_topics.logLikelihood(rec_df) / rec_df.count()"
   ]
  },
  {
   "cell_type": "code",
   "execution_count": null,
   "metadata": {
    "collapsed": true
   },
   "outputs": [],
   "source": [
    "LocalLDAModel."
   ]
  },
  {
   "cell_type": "code",
   "execution_count": 28,
   "metadata": {
    "collapsed": false
   },
   "outputs": [
    {
     "data": {
      "text/plain": [
       "-1527.5392176344706"
      ]
     },
     "execution_count": 28,
     "metadata": {},
     "output_type": "execute_result"
    }
   ],
   "source": [
    "avg_log_likelihood"
   ]
  },
  {
   "cell_type": "code",
   "execution_count": 29,
   "metadata": {
    "collapsed": false
   },
   "outputs": [
    {
     "data": {
      "text/plain": [
       "DenseMatrix(1000, 10, [236606.2612, 110506.9378, 110057.927, 10687.7156, 113694.8787, 92914.5845, 73856.0682, 6687.9971, ..., 0.6679, 91.7154, 98.6573, 514.8735, 711.011, 540.6104, 603.2262, 19.3826], 0)"
      ]
     },
     "execution_count": 29,
     "metadata": {},
     "output_type": "execute_result"
    }
   ],
   "source": [
    "crawl_ml_lda_model_10_topics.topicsMatrix()"
   ]
  },
  {
   "cell_type": "code",
   "execution_count": 30,
   "metadata": {
    "collapsed": false
   },
   "outputs": [
    {
     "name": "stdout",
     "output_type": "stream",
     "text": [
      "Learned topics (as distributions over vocab of 1000 words):\n"
     ]
    }
   ],
   "source": [
    "print(\"Learned topics (as distributions over vocab of \" + str(crawl_ml_lda_model_10_topics.vocabSize())\n",
    "      + \" words):\")\n",
    "topics = crawl_ml_lda_model_10_topics.topicsMatrix()"
   ]
  },
  {
   "cell_type": "code",
   "execution_count": 31,
   "metadata": {
    "collapsed": false
   },
   "outputs": [],
   "source": [
    "# for topic in range(10):\n",
    "#     print(\"Topic \" + str(topic) + \":\")\n",
    "#     for word in range(0, crawl_ml_lda_model_10_topics.vocabSize()):\n",
    "#         print (\"{}, {}\".format(topic, word))\n",
    "# #        print(\" \" + str(topics[word][topic]))"
   ]
  },
  {
   "cell_type": "code",
   "execution_count": 32,
   "metadata": {
    "collapsed": false
   },
   "outputs": [
    {
     "data": {
      "text/plain": [
       "(10, 1000)"
      ]
     },
     "execution_count": 32,
     "metadata": {},
     "output_type": "execute_result"
    }
   ],
   "source": [
    "topics.toArray().T.shape"
   ]
  },
  {
   "cell_type": "code",
   "execution_count": 30,
   "metadata": {
    "collapsed": false
   },
   "outputs": [],
   "source": [
    "topic_indices = crawl_ml_lda_model_10_topics.describeTopics(maxTermsPerTopic=100)\n",
    "term_indices = topic_indices.select(\"termIndices\").rdd.flatMap(lambda x: x).collect()\n",
    "term_weights = topic_indices.select(\"termWeights\").rdd.flatMap(lambda x: x).collect()\n",
    "vocab_indices = [[vocab_list[idx] for idx in term_idx] for term_idx in term_indices]"
   ]
  },
  {
   "cell_type": "code",
   "execution_count": 41,
   "metadata": {
    "collapsed": false
   },
   "outputs": [
    {
     "name": "stdout",
     "output_type": "stream",
     "text": [
      "+-----+--------------------+--------------------+\n",
      "|topic|         termIndices|         termWeights|\n",
      "+-----+--------------------+--------------------+\n",
      "|    0|[0, 4, 1, 2, 5, 6...|[0.09166286711625...|\n",
      "|    1|[8, 5, 32, 60, 37...|[0.13337092125148...|\n",
      "|    2|[3, 21, 27, 79, 1...|[0.18970561146114...|\n",
      "|    3|[2, 38, 93, 4, 0,...|[0.05933315974317...|\n",
      "|    4|[8, 3, 48, 91, 85...|[0.07092225907509...|\n",
      "|    5|[24, 33, 55, 49, ...|[0.11553424413929...|\n",
      "|    6|[7, 19, 76, 3, 13...|[0.10452884112717...|\n",
      "|    7|[13, 5, 22, 3, 15...|[0.02502876337396...|\n",
      "|    8|[11, 0, 2, 6, 1, ...|[0.04967629447772...|\n",
      "|    9|[1, 0, 2, 4, 7, 9...|[0.03734072257673...|\n",
      "+-----+--------------------+--------------------+\n",
      "\n"
     ]
    }
   ],
   "source": [
    "topic_indices.show()"
   ]
  },
  {
   "cell_type": "code",
   "execution_count": 31,
   "metadata": {
    "collapsed": false
   },
   "outputs": [
    {
     "data": {
      "text/plain": [
       "[[u'-',\n",
       "  u'(1)',\n",
       "  u'&',\n",
       "  u'de',\n",
       "  u'1',\n",
       "  u'\\xf0\\xb8',\n",
       "  u'la',\n",
       "  u'new',\n",
       "  u'en',\n",
       "  u'2',\n",
       "  u'home',\n",
       "  u'us',\n",
       "  u'4',\n",
       "  u'\\xe2\\x80\\x93',\n",
       "  u'0',\n",
       "  u':',\n",
       "  u'one',\n",
       "  u'2016',\n",
       "  u'+',\n",
       "  u'\\xe2\\xbb',\n",
       "  u'pm',\n",
       "  u'\\xf1\\x81',\n",
       "  u'e',\n",
       "  u'top',\n",
       "  u'search',\n",
       "  u'accessories',\n",
       "  u'\\xe2\\xa9',\n",
       "  u'et',\n",
       "  u'...',\n",
       "  u'3',\n",
       "  u'(3)',\n",
       "  u'un',\n",
       "  u'would',\n",
       "  u'\\xf0\\xb4\\xf0\\xbb\\xf1\\x8f',\n",
       "  u'shop',\n",
       "  u'help',\n",
       "  u'el',\n",
       "  u'|',\n",
       "  u'page',\n",
       "  u'10',\n",
       "  u'9',\n",
       "  u'{',\n",
       "  u'terms',\n",
       "  u'2014',\n",
       "  u'contact',\n",
       "  u'december',\n",
       "  u'november',\n",
       "  u'see',\n",
       "  u'per',\n",
       "  u'w',\n",
       "  u'first',\n",
       "  u'11',\n",
       "  u'add',\n",
       "  u'full',\n",
       "  u'black',\n",
       "  u'2010',\n",
       "  u'years',\n",
       "  u'/',\n",
       "  u'\\xf0\\x92',\n",
       "  u'care',\n",
       "  u'il',\n",
       "  u'part',\n",
       "  u'le',\n",
       "  u'\\xe3\\xa0',\n",
       "  u'time',\n",
       "  u'member',\n",
       "  u'use',\n",
       "  u'business',\n",
       "  u'comments',\n",
       "  u'want',\n",
       "  u'hotel',\n",
       "  u'day',\n",
       "  u'}',\n",
       "  u'website',\n",
       "  u'january',\n",
       "  u'30',\n",
       "  u'public',\n",
       "  u'rights',\n",
       "  u'que',\n",
       "  u'\\xf0\\xbf\\xf0\\xbe',\n",
       "  u'\\xf0\\xb2',\n",
       "  u'two',\n",
       "  u'sale',\n",
       "  u'\\xf0\\xb7\\xf0\\xb0',\n",
       "  u'var',\n",
       "  u'training',\n",
       "  u'list',\n",
       "  u'\\xe2\\x80\\xa2',\n",
       "  u'good',\n",
       "  u'code',\n",
       "  u'much',\n",
       "  u'des',\n",
       "  u'posts',\n",
       "  u'si',\n",
       "  u'account',\n",
       "  u'room',\n",
       "  u'week',\n",
       "  u'popular',\n",
       "  u'im',\n",
       "  u'post'],\n",
       " [u'\\xe2\\x96\\xba',\n",
       "  u'1',\n",
       "  u'news',\n",
       "  u'information',\n",
       "  u'(2)',\n",
       "  u'video',\n",
       "  u'del',\n",
       "  u'2015',\n",
       "  u'*',\n",
       "  u'na',\n",
       "  u'facebook',\n",
       "  u'da',\n",
       "  u'high',\n",
       "  u'service',\n",
       "  u'16',\n",
       "  u'blog',\n",
       "  u'available',\n",
       "  u'june',\n",
       "  u'le',\n",
       "  u'product',\n",
       "  u'|',\n",
       "  u'call',\n",
       "  u'(5)',\n",
       "  u'je',\n",
       "  u'(7)',\n",
       "  u'set',\n",
       "  u'posted',\n",
       "  u'jobs',\n",
       "  u'found',\n",
       "  u'general',\n",
       "  u'24',\n",
       "  u'articles',\n",
       "  u'request',\n",
       "  u'mit',\n",
       "  u'18',\n",
       "  u'\\xf0\\xb2',\n",
       "  u'\\xe3\\xa0',\n",
       "  u'estate',\n",
       "  u'view',\n",
       "  u'it.',\n",
       "  u'non',\n",
       "  u'rate',\n",
       "  u'=',\n",
       "  u'country',\n",
       "  u'\\xf0\\xb8',\n",
       "  u'tickets',\n",
       "  u'system',\n",
       "  u'60',\n",
       "  u'como',\n",
       "  u'\\xf0\\xbd\\xf0\\xb5',\n",
       "  u'may',\n",
       "  u'location:',\n",
       "  u'island',\n",
       "  u'get',\n",
       "  u'por',\n",
       "  u'que',\n",
       "  u'player',\n",
       "  u'und',\n",
       "  u'en',\n",
       "  u'x',\n",
       "  u'(14)',\n",
       "  u'day',\n",
       "  u'movie',\n",
       "  u'st.',\n",
       "  u'sold',\n",
       "  u'n',\n",
       "  u'2012',\n",
       "  u'like',\n",
       "  u'.',\n",
       "  u'forums',\n",
       "  u'front',\n",
       "  u'se',\n",
       "  u'really',\n",
       "  u',',\n",
       "  u'club',\n",
       "  u'read',\n",
       "  u'original',\n",
       "  u'one',\n",
       "  u'best',\n",
       "  u'forum',\n",
       "  u'2011',\n",
       "  u'register',\n",
       "  u'die',\n",
       "  u'united',\n",
       "  u'auto',\n",
       "  u'music',\n",
       "  u'twitter',\n",
       "  u'sie',\n",
       "  u'easy',\n",
       "  u'para',\n",
       "  u'12',\n",
       "  u'(',\n",
       "  u'les',\n",
       "  u'health',\n",
       "  u'\\xe2\\x80\\x94',\n",
       "  u'/',\n",
       "  u'videos',\n",
       "  u'model',\n",
       "  u'--',\n",
       "  u'games'],\n",
       " [u'|',\n",
       "  u'\\xf0\\xbd\\xf0\\xb0',\n",
       "  u'free',\n",
       "  u'privacy',\n",
       "  u'plus',\n",
       "  u'year',\n",
       "  u'history',\n",
       "  u'19',\n",
       "  u'(8)',\n",
       "  u'-',\n",
       "  u'buy',\n",
       "  u'=',\n",
       "  u'view',\n",
       "  u'c',\n",
       "  u'\\xf0\\xb8',\n",
       "  u'que',\n",
       "  u'technology',\n",
       "  u'furniture',\n",
       "  u'tips',\n",
       "  u'(',\n",
       "  u'(1)',\n",
       "  u'en',\n",
       "  u'\\xe2\\x96\\xba',\n",
       "  u'und',\n",
       "  u'cookies',\n",
       "  u'1',\n",
       "  u'october',\n",
       "  u'die',\n",
       "  u'ask',\n",
       "  u'college',\n",
       "  u'stay',\n",
       "  u'close',\n",
       "  u'&',\n",
       "  u'team',\n",
       "  u'see',\n",
       "  u'de',\n",
       "  u'des',\n",
       "  u'join',\n",
       "  u'software',\n",
       "  u'take',\n",
       "  u'date',\n",
       "  u'meet',\n",
       "  u'{{/if}}',\n",
       "  u'new',\n",
       "  u'like',\n",
       "  u'2009',\n",
       "  u'american',\n",
       "  u'na',\n",
       "  u'data',\n",
       "  u'google',\n",
       "  u'x',\n",
       "  u')',\n",
       "  u'/',\n",
       "  u'account',\n",
       "  u'get',\n",
       "  u'\\xe2\\xb7',\n",
       "  u'2012',\n",
       "  u'community',\n",
       "  u'4',\n",
       "  u'provided',\n",
       "  u'se',\n",
       "  u'health',\n",
       "  u'2011',\n",
       "  u'video',\n",
       "  u'may',\n",
       "  u'oder',\n",
       "  u'2',\n",
       "  u'\\xf0\\xba',\n",
       "  u'social',\n",
       "  u'twitter',\n",
       "  u'gift',\n",
       "  u'2016',\n",
       "  u'big',\n",
       "  u'country',\n",
       "  u'added',\n",
       "  u'know',\n",
       "  u'contact',\n",
       "  u'games',\n",
       "  u'city',\n",
       "  u'videos',\n",
       "  u'\\xf0\\xb2',\n",
       "  u'events',\n",
       "  u'forums',\n",
       "  u'v',\n",
       "  u'\\xe3\\xa0',\n",
       "  u\"don't\",\n",
       "  u'\\xf0\\xb4\\xf0\\xbb\\xf1\\x8f',\n",
       "  u'--',\n",
       "  u'para',\n",
       "  u'\\xe2\\x80\\x94',\n",
       "  u'(2)',\n",
       "  u'(5)',\n",
       "  u'united',\n",
       "  u'0',\n",
       "  u'grand',\n",
       "  u'end',\n",
       "  u'mi',\n",
       "  u'special',\n",
       "  u'\\xf0\\xb8\\xf0\\xbb\\xf0\\xb8',\n",
       "  u'file'],\n",
       " [u'de',\n",
       "  u'get',\n",
       "  u'les',\n",
       "  u'(1)',\n",
       "  u'-',\n",
       "  u'\\xf0\\xb8',\n",
       "  u'&',\n",
       "  u'new',\n",
       "  u'\\xf0\\xbf\\xf0\\xbe',\n",
       "  u'north',\n",
       "  u'nov',\n",
       "  u'et',\n",
       "  u'28',\n",
       "  u'\\xf1\\x87\\xf1\\x82\\xf0\\xbe',\n",
       "  u'wedding',\n",
       "  u'us',\n",
       "  u'got',\n",
       "  u'1',\n",
       "  u'cards',\n",
       "  u'property',\n",
       "  u'view',\n",
       "  u'baby',\n",
       "  u'2016',\n",
       "  u'perfect',\n",
       "  u'search',\n",
       "  u'3',\n",
       "  u'\\xf0\\xb3.',\n",
       "  u'\\xf0\\xb4\\xf0\\xbb\\xf1\\x8f',\n",
       "  u'\\xe2\\xbb',\n",
       "  u'/',\n",
       "  u'la',\n",
       "  u'forums',\n",
       "  u'=',\n",
       "  u'|',\n",
       "  u'color',\n",
       "  u'2005',\n",
       "  u'2',\n",
       "  u'0',\n",
       "  u'e',\n",
       "  u':',\n",
       "  u'policy',\n",
       "  u'porn',\n",
       "  u'war',\n",
       "  u'season',\n",
       "  u'screen',\n",
       "  u'2017',\n",
       "  u'contact',\n",
       "  u'system',\n",
       "  u'10',\n",
       "  u'al',\n",
       "  u'france',\n",
       "  u'ou',\n",
       "  u'und',\n",
       "  u'pinterest',\n",
       "  u'inc.',\n",
       "  u'miles',\n",
       "  u'vous',\n",
       "  u'little',\n",
       "  u'center',\n",
       "  u'says',\n",
       "  u'may',\n",
       "  u'+',\n",
       "  u'p\\xe3\\xa5',\n",
       "  u'le',\n",
       "  u'es',\n",
       "  u'oct',\n",
       "  u'mais',\n",
       "  u'like',\n",
       "  u'road',\n",
       "  u'29',\n",
       "  u'{',\n",
       "  u'4',\n",
       "  u'.',\n",
       "  u'top',\n",
       "  u'people',\n",
       "  u'car',\n",
       "  u'usd',\n",
       "  u'gifts',\n",
       "  u'real',\n",
       "  u'children',\n",
       "  u'also',\n",
       "  u'one',\n",
       "  u'track',\n",
       "  u'use',\n",
       "  u'online',\n",
       "  u'jackets',\n",
       "  u'happy',\n",
       "  u'\\xe2\\x80\\xa2',\n",
       "  u'x',\n",
       "  u'note',\n",
       "  u'best',\n",
       "  u'comments',\n",
       "  u'education',\n",
       "  u'tv',\n",
       "  u'un',\n",
       "  u'2011',\n",
       "  u'12',\n",
       "  u'marketing',\n",
       "  u'australia',\n",
       "  u'first'],\n",
       " [u'\\xe2\\x96\\xba',\n",
       "  u'|',\n",
       "  u'.',\n",
       "  u'der',\n",
       "  u'find',\n",
       "  u'(2)',\n",
       "  u'los',\n",
       "  u'\\xf0\\xb8',\n",
       "  u'news',\n",
       "  u'copyright',\n",
       "  u'15',\n",
       "  u'\\xf0\\xbd\\xf0\\xb5',\n",
       "  u'state',\n",
       "  u'media',\n",
       "  u'\\xf0\\xbe\\xf1\\x82',\n",
       "  u'\\xf0\\xb2',\n",
       "  u'por',\n",
       "  u'days',\n",
       "  u'/',\n",
       "  u'may',\n",
       "  u's/n',\n",
       "  u'book',\n",
       "  u'international',\n",
       "  u'travel',\n",
       "  u'blog',\n",
       "  u'create',\n",
       "  u'article',\n",
       "  u'print',\n",
       "  u'small',\n",
       "  u'view',\n",
       "  u'going',\n",
       "  u'reserved.',\n",
       "  u'categories',\n",
       "  u'=',\n",
       "  u'votre',\n",
       "  u\"men's\",\n",
       "  u'\\xf8\\xa8\\xf9\\x87',\n",
       "  u'park',\n",
       "  u'since',\n",
       "  u'love',\n",
       "  u'(12)',\n",
       "  u'office',\n",
       "  u'science',\n",
       "  u'password',\n",
       "  u'best',\n",
       "  u'including',\n",
       "  u'three',\n",
       "  u'radio',\n",
       "  u'para',\n",
       "  u'1',\n",
       "  u'archive',\n",
       "  u'mark',\n",
       "  u'und',\n",
       "  u'skip',\n",
       "  u'california',\n",
       "  u'students',\n",
       "  u'miles',\n",
       "  u'\\xe2\\x86\\x92',\n",
       "  u'door',\n",
       "  u'(15)',\n",
       "  u'posted',\n",
       "  u'x',\n",
       "  u'no.',\n",
       "  u'm.',\n",
       "  u'french',\n",
       "  u'connect',\n",
       "  u'east',\n",
       "  u'limited',\n",
       "  u'cases',\n",
       "  u'easy',\n",
       "  u'2012',\n",
       "  u'et',\n",
       "  u'chat',\n",
       "  u'que',\n",
       "  u'2015',\n",
       "  u'like',\n",
       "  u'avec',\n",
       "  u'movie',\n",
       "  u',',\n",
       "  u'get',\n",
       "  u'die',\n",
       "  u'bar',\n",
       "  u'se',\n",
       "  u'title',\n",
       "  u'business',\n",
       "  u'n',\n",
       "  u'{{else}}',\n",
       "  u'forum',\n",
       "  u'grand',\n",
       "  u'united',\n",
       "  u'forgot',\n",
       "  u'12',\n",
       "  u'general',\n",
       "  u'product',\n",
       "  u'2011',\n",
       "  u'\\xf9\\x88',\n",
       "  u'people',\n",
       "  u'bags',\n",
       "  u'(',\n",
       "  u'km'],\n",
       " [u'5',\n",
       "  u'>',\n",
       "  u'6',\n",
       "  u'email',\n",
       "  u'may',\n",
       "  u'back',\n",
       "  u'|',\n",
       "  u'go',\n",
       "  u'next',\n",
       "  u'25',\n",
       "  u'\\xf0\\xb2',\n",
       "  u'work',\n",
       "  u'long',\n",
       "  u'return',\n",
       "  u'view',\n",
       "  u'message',\n",
       "  u'shopping',\n",
       "  u'phone',\n",
       "  u'2012',\n",
       "  u'total',\n",
       "  u'web',\n",
       "  u'=',\n",
       "  u'women',\n",
       "  u'get',\n",
       "  u'android',\n",
       "  u'os',\n",
       "  u'lot',\n",
       "  u'floyd',\n",
       "  u'ein',\n",
       "  u'und',\n",
       "  u'para',\n",
       "  u'single',\n",
       "  u'lighting',\n",
       "  u'1,',\n",
       "  u'que',\n",
       "  u'200',\n",
       "  u'\\xf1\\x8d\\xf1\\x82\\xf0\\xbe',\n",
       "  u'x',\n",
       "  u'like',\n",
       "  u'forum',\n",
       "  u'\\xe2\\x80\\x94',\n",
       "  u'se',\n",
       "  u'drive',\n",
       "  u'2011',\n",
       "  u'twitter',\n",
       "  u'-',\n",
       "  u'die',\n",
       "  u'best',\n",
       "  u',',\n",
       "  u'pages',\n",
       "  u'(',\n",
       "  u'gift',\n",
       "  u'download',\n",
       "  u'united',\n",
       "  u'videos',\n",
       "  u'social',\n",
       "  u'review',\n",
       "  u'games',\n",
       "  u'live',\n",
       "  u'des',\n",
       "  u'(1)',\n",
       "  u'de',\n",
       "  u'events',\n",
       "  u'2009',\n",
       "  u'nov',\n",
       "  u'&',\n",
       "  u'national',\n",
       "  u\"don't\",\n",
       "  u'related',\n",
       "  u'know',\n",
       "  u'map',\n",
       "  u'offer',\n",
       "  u'\\xf0\\xb8\\xf0\\xbb\\xf0\\xb8',\n",
       "  u'big',\n",
       "  u'1',\n",
       "  u'facebook',\n",
       "  u'//',\n",
       "  u'management',\n",
       "  u'job',\n",
       "  u'john',\n",
       "  u'stock',\n",
       "  u'12',\n",
       "  u'app',\n",
       "  u\"i'm\",\n",
       "  u'r',\n",
       "  u'.',\n",
       "  u'new',\n",
       "  u'read',\n",
       "  u'professional',\n",
       "  u'\\xf0\\xb8',\n",
       "  u'prices',\n",
       "  u'/',\n",
       "  u'city',\n",
       "  u'community',\n",
       "  u\"you're\",\n",
       "  u'browse',\n",
       "  u'2016',\n",
       "  u'100%',\n",
       "  u'film',\n",
       "  u'submit'],\n",
       " [u'/',\n",
       "  u'\\xf0\\xb4\\xf0\\xbb\\xf1\\x8f',\n",
       "  u'7',\n",
       "  u'|',\n",
       "  u'reviews',\n",
       "  u'share',\n",
       "  u'20',\n",
       "  u'&',\n",
       "  u'ago',\n",
       "  u'die',\n",
       "  u'contact',\n",
       "  u'new',\n",
       "  u'de',\n",
       "  u'may',\n",
       "  u'\\xf0\\xb8',\n",
       "  u'made',\n",
       "  u'2016',\n",
       "  u'2013',\n",
       "  u'name',\n",
       "  u'august',\n",
       "  u'page',\n",
       "  u'-',\n",
       "  u'di',\n",
       "  u'city',\n",
       "  u'newsletter',\n",
       "  u'site',\n",
       "  u'12',\n",
       "  u'\\xe2\\x80\\xa2',\n",
       "  u'last',\n",
       "  u'3',\n",
       "  u'company',\n",
       "  u'february',\n",
       "  u'sport',\n",
       "  u'place',\n",
       "  u'images',\n",
       "  u'low',\n",
       "  u'order',\n",
       "  u'center',\n",
       "  u'e-mail',\n",
       "  u'10',\n",
       "  u'story',\n",
       "  u'feb',\n",
       "  u'game',\n",
       "  u'\\xf0\\xb2',\n",
       "  u'2',\n",
       "  u'tv',\n",
       "  u'\\xe2\\xa9',\n",
       "  u'central',\n",
       "  u'credit',\n",
       "  u'\\xe2\\x80\\xba',\n",
       "  u'best',\n",
       "  u'um',\n",
       "  u'september',\n",
       "  u'1',\n",
       "  u'8',\n",
       "  u'private',\n",
       "  u'building',\n",
       "  u'add',\n",
       "  u'jul',\n",
       "  u'financial',\n",
       "  u'(1)',\n",
       "  u'money',\n",
       "  u'us',\n",
       "  u'pro',\n",
       "  u'dvd',\n",
       "  u'members',\n",
       "  u'details',\n",
       "  u'sex',\n",
       "  u'\\xf0\\x9e',\n",
       "  u'apple',\n",
       "  u'archives',\n",
       "  u'star',\n",
       "  u'use',\n",
       "  u'wine',\n",
       "  u'football',\n",
       "  u'menu',\n",
       "  u'windows',\n",
       "  u'said',\n",
       "  u'art',\n",
       "  u'favorite',\n",
       "  u'gear',\n",
       "  u'content',\n",
       "  u'ne',\n",
       "  u'march',\n",
       "  u'write',\n",
       "  u'sur',\n",
       "  u'view',\n",
       "  u'points',\n",
       "  u'j',\n",
       "  u's.',\n",
       "  u'key',\n",
       "  u'april',\n",
       "  u'0',\n",
       "  u'right',\n",
       "  u'price',\n",
       "  u'custom',\n",
       "  u'previous',\n",
       "  u'.',\n",
       "  u'para',\n",
       "  u'products'],\n",
       " [u'en',\n",
       "  u'1',\n",
       "  u'view',\n",
       "  u'|',\n",
       "  u'2016',\n",
       "  u'=',\n",
       "  u'&',\n",
       "  u'post',\n",
       "  u'music',\n",
       "  u'\\xf0\\xb2',\n",
       "  u'que',\n",
       "  u'und',\n",
       "  u'world',\n",
       "  u'\\xe3\\xa0',\n",
       "  u'school',\n",
       "  u'like',\n",
       "  u'von',\n",
       "  u'get',\n",
       "  u'2013',\n",
       "  u'-',\n",
       "  u'items',\n",
       "  u'x',\n",
       "  u'des',\n",
       "  u'business',\n",
       "  u'(0)',\n",
       "  u'account',\n",
       "  u'2011',\n",
       "  u'may',\n",
       "  u'support',\n",
       "  u'se',\n",
       "  u'2012',\n",
       "  u'community',\n",
       "  u'v',\n",
       "  u'service',\n",
       "  u'\\xf0\\xbe',\n",
       "  u'2008',\n",
       "  u'twitter',\n",
       "  u'2009',\n",
       "  u'\\xf0\\xb8',\n",
       "  u'see',\n",
       "  u'0',\n",
       "  u')',\n",
       "  u'2',\n",
       "  u'(1)',\n",
       "  u'\\xe2\\xb7',\n",
       "  u'report',\n",
       "  u':',\n",
       "  u'du',\n",
       "  u'para',\n",
       "  u'\\xe2\\x80\\x94',\n",
       "  u'please',\n",
       "  u'best',\n",
       "  u'de',\n",
       "  u'hot',\n",
       "  u'23',\n",
       "  u'reply',\n",
       "  u\"it's\",\n",
       "  u'product',\n",
       "  u'\\xf0\\xba',\n",
       "  u'\\xf0\\xb4\\xf0\\xbb\\xf1\\x8f',\n",
       "  u'\\xf0\\x92\\xf1\\x81\\xf0\\xb5',\n",
       "  u'4',\n",
       "  u'download',\n",
       "  u'new',\n",
       "  u'browse',\n",
       "  u'videos',\n",
       "  u'special',\n",
       "  u'house',\n",
       "  u'it\\xe2\\x80\\x99s',\n",
       "  u'office',\n",
       "  u'data',\n",
       "  u'8',\n",
       "  u'contact',\n",
       "  u'live',\n",
       "  u'een',\n",
       "  u'events',\n",
       "  u\"don't\",\n",
       "  u'power',\n",
       "  u'\\xe2\\xa9',\n",
       "  u'level',\n",
       "  u'je',\n",
       "  u'la',\n",
       "  u'27',\n",
       "  u'box',\n",
       "  u'3',\n",
       "  u'body',\n",
       "  u'review',\n",
       "  u'delivery',\n",
       "  u'games',\n",
       "  u'gift',\n",
       "  u'2007',\n",
       "  u'come',\n",
       "  u'mi',\n",
       "  u'forum',\n",
       "  u'us',\n",
       "  u'(10)',\n",
       "  u'start',\n",
       "  u'storage',\n",
       "  u'file',\n",
       "  u'know'],\n",
       " [u'\\xf0\\xb2',\n",
       "  u'-',\n",
       "  u'de',\n",
       "  u'\\xf0\\xb8',\n",
       "  u'&',\n",
       "  u'(1)',\n",
       "  u'|',\n",
       "  u'1',\n",
       "  u'new',\n",
       "  u'2',\n",
       "  u'3',\n",
       "  u'la',\n",
       "  u'2016',\n",
       "  u'0',\n",
       "  u'us',\n",
       "  u'contact',\n",
       "  u':',\n",
       "  u'e',\n",
       "  u'site',\n",
       "  u'sign',\n",
       "  u'\\xf0\\xb4\\xf0\\xbb\\xf1\\x8f',\n",
       "  u'con',\n",
       "  u'\\xe2\\xbb',\n",
       "  u'10',\n",
       "  u'change',\n",
       "  u'\\xe2\\x80\\xa2',\n",
       "  u'search',\n",
       "  u'di',\n",
       "  u'/',\n",
       "  u'may',\n",
       "  u'select',\n",
       "  u'que',\n",
       "  u'(6)',\n",
       "  u'el',\n",
       "  u'please',\n",
       "  u'card',\n",
       "  u'4',\n",
       "  u'=',\n",
       "  u'\\xe2\\x80\\x93',\n",
       "  u'view',\n",
       "  u'top',\n",
       "  u'para',\n",
       "  u'8',\n",
       "  u'online',\n",
       "  u'en',\n",
       "  u'home',\n",
       "  u'son',\n",
       "  u'\\xf1\\x81',\n",
       "  u'na',\n",
       "  u'et',\n",
       "  u'+',\n",
       "  u'\\xe2\\xa9',\n",
       "  u'add',\n",
       "  u'forum',\n",
       "  u'2013',\n",
       "  u'(4)',\n",
       "  u'sur',\n",
       "  u'field',\n",
       "  u'shop',\n",
       "  u'un',\n",
       "  u'price',\n",
       "  u'\\xf9\\x88',\n",
       "  u'years',\n",
       "  u'use',\n",
       "  u'time',\n",
       "  u'und',\n",
       "  u',',\n",
       "  u'24',\n",
       "  u'party',\n",
       "  u'$',\n",
       "  u'advanced',\n",
       "  u'one',\n",
       "  u'must',\n",
       "  u'local',\n",
       "  u'du',\n",
       "  u'policy',\n",
       "  u'make',\n",
       "  u'z',\n",
       "  u'need',\n",
       "  u'products',\n",
       "  u'}',\n",
       "  u'sports',\n",
       "  u'digital',\n",
       "  u'f\\xe3\\xbcr',\n",
       "  u'le',\n",
       "  u'great',\n",
       "  u'show',\n",
       "  u'photo',\n",
       "  u'help',\n",
       "  u'x',\n",
       "  u'march',\n",
       "  u'van',\n",
       "  u'like',\n",
       "  u'google+',\n",
       "  u'last',\n",
       "  u'group',\n",
       "  u'...',\n",
       "  u'function',\n",
       "  u'log',\n",
       "  u'read'],\n",
       " [u'&',\n",
       "  u'-',\n",
       "  u'de',\n",
       "  u'(1)',\n",
       "  u'/',\n",
       "  u'new',\n",
       "  u'1',\n",
       "  u'3',\n",
       "  u'\\xf0\\xb8',\n",
       "  u'0',\n",
       "  u'search',\n",
       "  u'2',\n",
       "  u':',\n",
       "  u'us',\n",
       "  u'\\xe2\\x80\\xa2',\n",
       "  u'la',\n",
       "  u'use',\n",
       "  u'\\xf0\\xb4\\xf0\\xbb\\xf1\\x8f',\n",
       "  u'2016',\n",
       "  u'|',\n",
       "  u'10',\n",
       "  u'\\xe2\\xbb',\n",
       "  u'el',\n",
       "  u'4',\n",
       "  u'+',\n",
       "  u'e',\n",
       "  u'contact',\n",
       "  u'online',\n",
       "  u'di',\n",
       "  u'top',\n",
       "  u'please',\n",
       "  u'un',\n",
       "  u'also',\n",
       "  u'\\xe3\\x97',\n",
       "  u'2013',\n",
       "  u'\\xe2\\x82\\xac',\n",
       "  u'...',\n",
       "  u'et',\n",
       "  u'one',\n",
       "  u'services',\n",
       "  u'sale',\n",
       "  u'login',\n",
       "  u'site',\n",
       "  u'}',\n",
       "  u'policy',\n",
       "  u'price',\n",
       "  u'sign',\n",
       "  u'\\xf1\\x81',\n",
       "  u'follow',\n",
       "  u'home',\n",
       "  u'(4)',\n",
       "  u'add',\n",
       "  u'\\xf0\\xb2',\n",
       "  u'time',\n",
       "  u'f\\xe3\\xbcr',\n",
       "  u'show',\n",
       "  u'people',\n",
       "  u'que',\n",
       "  u'le',\n",
       "  u'shop',\n",
       "  u'\\xe2\\xa9',\n",
       "  u'\\xf9\\x88',\n",
       "  u'sports',\n",
       "  u'see',\n",
       "  u'--',\n",
       "  u'april',\n",
       "  u'shipping',\n",
       "  u'may',\n",
       "  u'view',\n",
       "  u'\\xe2\\x80\\x93',\n",
       "  u'parts',\n",
       "  u'das',\n",
       "  u'name',\n",
       "  u'last',\n",
       "  u'posts',\n",
       "  u'september',\n",
       "  u'page',\n",
       "  u'july',\n",
       "  u'content',\n",
       "  u'south',\n",
       "  u'21',\n",
       "  u'family',\n",
       "  u'una',\n",
       "  u'mobile',\n",
       "  u'al',\n",
       "  u'forum',\n",
       "  u'b',\n",
       "  u'make',\n",
       "  u'cart',\n",
       "  u'tv',\n",
       "  u'=',\n",
       "  u'las',\n",
       "  u'8',\n",
       "  u'2010',\n",
       "  u'real',\n",
       "  u'13',\n",
       "  u'\\xe3\\xa0',\n",
       "  u'first',\n",
       "  u'dec',\n",
       "  u'rights']]"
      ]
     },
     "execution_count": 31,
     "metadata": {},
     "output_type": "execute_result"
    }
   ],
   "source": [
    "vocab_indices"
   ]
  },
  {
   "cell_type": "code",
   "execution_count": 29,
   "metadata": {
    "collapsed": false
   },
   "outputs": [
    {
     "ename": "NameError",
     "evalue": "global name 'vocab_indices' is not defined",
     "output_type": "error",
     "traceback": [
      "\u001b[0;31m---------------------------------------------------------------------------\u001b[0m",
      "\u001b[0;31mNameError\u001b[0m                                 Traceback (most recent call last)",
      "\u001b[0;32m<ipython-input-29-b54aa37df963>\u001b[0m in \u001b[0;36m<module>\u001b[0;34m()\u001b[0m\n\u001b[1;32m      3\u001b[0m \u001b[0;34m\u001b[0m\u001b[0m\n\u001b[1;32m      4\u001b[0m \u001b[0;32mfor\u001b[0m \u001b[0mtopic_no\u001b[0m \u001b[0;32min\u001b[0m \u001b[0mxrange\u001b[0m\u001b[0;34m(\u001b[0m\u001b[0;36m10\u001b[0m\u001b[0;34m)\u001b[0m\u001b[0;34m:\u001b[0m\u001b[0;34m\u001b[0m\u001b[0m\n\u001b[0;32m----> 5\u001b[0;31m     \u001b[0;32mprint\u001b[0m \u001b[0;34m(\u001b[0m\u001b[0mtopic_no\u001b[0m\u001b[0;34m,\u001b[0m \u001b[0;34m{\u001b[0m\u001b[0mvocab_indices\u001b[0m\u001b[0;34m[\u001b[0m\u001b[0mtopic_no\u001b[0m\u001b[0;34m]\u001b[0m\u001b[0;34m[\u001b[0m\u001b[0mi\u001b[0m\u001b[0;34m]\u001b[0m\u001b[0;34m:\u001b[0m \u001b[0mterm_weights\u001b[0m\u001b[0;34m[\u001b[0m\u001b[0mtopic_no\u001b[0m\u001b[0;34m]\u001b[0m\u001b[0;34m[\u001b[0m\u001b[0mi\u001b[0m\u001b[0;34m]\u001b[0m \u001b[0;32mfor\u001b[0m \u001b[0mi\u001b[0m \u001b[0;32min\u001b[0m \u001b[0mrange\u001b[0m\u001b[0;34m(\u001b[0m\u001b[0;36m100\u001b[0m\u001b[0;34m)\u001b[0m\u001b[0;34m}\u001b[0m\u001b[0;34m)\u001b[0m\u001b[0;34m\u001b[0m\u001b[0m\n\u001b[0m",
      "\u001b[0;32m<ipython-input-29-b54aa37df963>\u001b[0m in \u001b[0;36m<dictcomp>\u001b[0;34m((i,))\u001b[0m\n\u001b[1;32m      3\u001b[0m \u001b[0;34m\u001b[0m\u001b[0m\n\u001b[1;32m      4\u001b[0m \u001b[0;32mfor\u001b[0m \u001b[0mtopic_no\u001b[0m \u001b[0;32min\u001b[0m \u001b[0mxrange\u001b[0m\u001b[0;34m(\u001b[0m\u001b[0;36m10\u001b[0m\u001b[0;34m)\u001b[0m\u001b[0;34m:\u001b[0m\u001b[0;34m\u001b[0m\u001b[0m\n\u001b[0;32m----> 5\u001b[0;31m     \u001b[0;32mprint\u001b[0m \u001b[0;34m(\u001b[0m\u001b[0mtopic_no\u001b[0m\u001b[0;34m,\u001b[0m \u001b[0;34m{\u001b[0m\u001b[0mvocab_indices\u001b[0m\u001b[0;34m[\u001b[0m\u001b[0mtopic_no\u001b[0m\u001b[0;34m]\u001b[0m\u001b[0;34m[\u001b[0m\u001b[0mi\u001b[0m\u001b[0;34m]\u001b[0m\u001b[0;34m:\u001b[0m \u001b[0mterm_weights\u001b[0m\u001b[0;34m[\u001b[0m\u001b[0mtopic_no\u001b[0m\u001b[0;34m]\u001b[0m\u001b[0;34m[\u001b[0m\u001b[0mi\u001b[0m\u001b[0;34m]\u001b[0m \u001b[0;32mfor\u001b[0m \u001b[0mi\u001b[0m \u001b[0;32min\u001b[0m \u001b[0mrange\u001b[0m\u001b[0;34m(\u001b[0m\u001b[0;36m100\u001b[0m\u001b[0;34m)\u001b[0m\u001b[0;34m}\u001b[0m\u001b[0;34m)\u001b[0m\u001b[0;34m\u001b[0m\u001b[0m\n\u001b[0m",
      "\u001b[0;31mNameError\u001b[0m: global name 'vocab_indices' is not defined"
     ]
    }
   ],
   "source": [
    "# Print topics, showing top-weighted 10 terms for each topic.\n",
    "vocab_list = cv_model.vocabulary\n",
    "\n",
    "for topic_no in xrange(10):\n",
    "    print (topic_no, {vocab_indices[topic_no][i]: term_weights[topic_no][i] for i in range(100)})\n"
   ]
  },
  {
   "cell_type": "markdown",
   "metadata": {},
   "source": [
    "### Distributed LDA"
   ]
  },
  {
   "cell_type": "code",
   "execution_count": 44,
   "metadata": {
    "collapsed": false
   },
   "outputs": [],
   "source": [
    "transformed = crawl_ml_lda_model_10_topics.transform(rec_df)"
   ]
  },
  {
   "cell_type": "code",
   "execution_count": 45,
   "metadata": {
    "collapsed": false
   },
   "outputs": [
    {
     "name": "stdout",
     "output_type": "stream",
     "text": [
      "root\n",
      " |-- contents: string (nullable = true)\n",
      " |-- url: string (nullable = true)\n",
      " |-- website: string (nullable = true)\n",
      " |-- words: array (nullable = true)\n",
      " |    |-- element: string (containsNull = true)\n",
      " |-- filtered: array (nullable = true)\n",
      " |    |-- element: string (containsNull = true)\n",
      " |-- features: vector (nullable = true)\n",
      " |-- topicDistribution: vector (nullable = true)\n",
      "\n"
     ]
    }
   ],
   "source": [
    "transformed.printSchema()"
   ]
  },
  {
   "cell_type": "code",
   "execution_count": 64,
   "metadata": {
    "collapsed": false
   },
   "outputs": [],
   "source": [
    "doc_topics = transformed.select(\"topicDistribution\").collect()"
   ]
  },
  {
   "cell_type": "code",
   "execution_count": 62,
   "metadata": {
    "collapsed": false
   },
   "outputs": [
    {
     "ename": "TypeError",
     "evalue": "count() takes exactly one argument (0 given)",
     "output_type": "error",
     "traceback": [
      "\u001b[0;31m---------------------------------------------------------------------------\u001b[0m",
      "\u001b[0;31mTypeError\u001b[0m                                 Traceback (most recent call last)",
      "\u001b[0;32m<ipython-input-62-201888136114>\u001b[0m in \u001b[0;36m<module>\u001b[0;34m()\u001b[0m\n\u001b[0;32m----> 1\u001b[0;31m \u001b[0mdoc_topics\u001b[0m\u001b[0;34m.\u001b[0m\u001b[0mcount\u001b[0m\u001b[0;34m(\u001b[0m\u001b[0;34m)\u001b[0m\u001b[0;34m\u001b[0m\u001b[0m\n\u001b[0m",
      "\u001b[0;31mTypeError\u001b[0m: count() takes exactly one argument (0 given)"
     ]
    }
   ],
   "source": [
    "doc_topics.count()"
   ]
  },
  {
   "cell_type": "code",
   "execution_count": 53,
   "metadata": {
    "collapsed": false
   },
   "outputs": [],
   "source": [
    "doc_topics_arr = np.array(doc_topics)"
   ]
  },
  {
   "cell_type": "code",
   "execution_count": null,
   "metadata": {
    "collapsed": false
   },
   "outputs": [],
   "source": [
    "doc_topics_arr"
   ]
  },
  {
   "cell_type": "code",
   "execution_count": 48,
   "metadata": {
    "collapsed": false
   },
   "outputs": [
    {
     "data": {
      "text/plain": [
       "list"
      ]
     },
     "execution_count": 48,
     "metadata": {},
     "output_type": "execute_result"
    }
   ],
   "source": [
    "type(doc_topics)"
   ]
  },
  {
   "cell_type": "code",
   "execution_count": 51,
   "metadata": {
    "collapsed": true
   },
   "outputs": [],
   "source": [
    "doc_topics_df = transformed.select(\"topicDistribution\")"
   ]
  },
  {
   "cell_type": "code",
   "execution_count": 50,
   "metadata": {
    "collapsed": false
   },
   "outputs": [
    {
     "data": {
      "text/plain": [
       "pyspark.sql.dataframe.DataFrame"
      ]
     },
     "execution_count": 50,
     "metadata": {},
     "output_type": "execute_result"
    }
   ],
   "source": [
    "type(doc_topics)"
   ]
  },
  {
   "cell_type": "code",
   "execution_count": 54,
   "metadata": {
    "collapsed": true
   },
   "outputs": [],
   "source": [
    "doc_topics_df.coalesce(1).write.save(\"doc_topics_10.csv\")"
   ]
  },
  {
   "cell_type": "code",
   "execution_count": 55,
   "metadata": {
    "collapsed": false
   },
   "outputs": [
    {
     "data": {
      "text/plain": [
       "u'/home/hadoop/DSI_Project/scripts'"
      ]
     },
     "execution_count": 55,
     "metadata": {},
     "output_type": "execute_result"
    }
   ],
   "source": [
    "pwd"
   ]
  },
  {
   "cell_type": "code",
   "execution_count": 56,
   "metadata": {
    "collapsed": true
   },
   "outputs": [],
   "source": [
    "dt_topics_10 = sc.textFile(\"doc_topics_10.csv\")"
   ]
  },
  {
   "cell_type": "code",
   "execution_count": 59,
   "metadata": {
    "collapsed": false
   },
   "outputs": [
    {
     "data": {
      "text/plain": [
       "25567"
      ]
     },
     "execution_count": 59,
     "metadata": {},
     "output_type": "execute_result"
    }
   ],
   "source": [
    "dt_topics_10.count()"
   ]
  },
  {
   "cell_type": "code",
   "execution_count": null,
   "metadata": {
    "collapsed": true
   },
   "outputs": [],
   "source": [
    "distributed_crawl_ml_lda_model_10_topics = DistributedLDAModel"
   ]
  }
 ],
 "metadata": {
  "kernelspec": {
   "display_name": "Python 2",
   "language": "python",
   "name": "python2"
  },
  "language_info": {
   "codemirror_mode": {
    "name": "ipython",
    "version": 2
   },
   "file_extension": ".py",
   "mimetype": "text/x-python",
   "name": "python",
   "nbconvert_exporter": "python",
   "pygments_lexer": "ipython2",
   "version": "2.7.12"
  }
 },
 "nbformat": 4,
 "nbformat_minor": 2
}
