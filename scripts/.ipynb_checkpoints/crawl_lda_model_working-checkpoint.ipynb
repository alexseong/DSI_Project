{
 "cells": [
  {
   "cell_type": "code",
   "execution_count": 1,
   "metadata": {
    "collapsed": false
   },
   "outputs": [],
   "source": [
    "import os\n",
    "import pandas as pd\n",
    "import numpy as np\n",
    "import warc\n",
    "import gzip\n",
    "import boto\n",
    "from boto.s3.key import Key\n",
    "from gzipstream import GzipStreamFile\n",
    "from mrjob.job import MRJob\n",
    "import pyspark as ps\n",
    "from pyspark.sql.functions import udf\n",
    "from pyspark.sql.types import *\n",
    "from __future__ import print_function\n",
    "from pyspark.ml import Pipeline\n",
    "from pyspark.mllib.clustering import LDAModel#, LDA\n",
    "from pyspark.mllib.linalg import Vectors, DenseVector, SparseVector\n",
    "from pyspark.ml.clustering import LDA, DistributedLDAModel, LocalLDAModel\n",
    "from pyspark.ml.feature import CountVectorizer, RegexTokenizer, StopWordsRemover\n",
    "from pyspark.sql.functions import monotonically_increasing_id\n",
    "from pyspark.sql.functions import lit\n",
    "from pyspark.mllib.clustering import KMeans"
   ]
  },
  {
   "cell_type": "code",
   "execution_count": 2,
   "metadata": {
    "collapsed": false
   },
   "outputs": [],
   "source": [
    "sc = ps.SparkContext('local[4]')\n",
    "sqlContext = ps.SQLContext(sc)"
   ]
  },
  {
   "cell_type": "code",
   "execution_count": 3,
   "metadata": {
    "collapsed": true
   },
   "outputs": [],
   "source": [
    "ACCESS_KEY = os.environ['AWS_ACCESS_KEY']\n",
    "SECRET_KEY = os.environ['AWS_SECRET_ACCESS_KEY']\n",
    "ENCODED_SECRET_KEY = SECRET_KEY.replace(\"/\", \"%2F\")\n",
    "DSI_CSTON_BUCKET = \"galvanize.dsi.capstone.alex\"\n",
    "OUT_BUCKET = \"s3a://{}:{}@{}\".format(ACCESS_KEY, SECRET_KEY, DSI_CSTON_BUCKET)"
   ]
  },
  {
   "cell_type": "code",
   "execution_count": 4,
   "metadata": {
    "collapsed": true
   },
   "outputs": [],
   "source": [
    "wet_path_file_name = 'wet_2016_list/2016-Dec-wet.path'\n",
    "no_of_doc_files = 1\n",
    "dec_2016_wet_list = sc.textFile(\"s3a://%s/%s\" % (DSI_CSTON_BUCKET, wet_path_file_name))\n",
    "doc_files = dec_2016_wet_list.take(no_of_doc_files)"
   ]
  },
  {
   "cell_type": "code",
   "execution_count": 5,
   "metadata": {
    "collapsed": false
   },
   "outputs": [],
   "source": [
    "conn = boto.connect_s3(ACCESS_KEY, SECRET_KEY, host='s3.amazonaws.com')\n",
    "pds = conn.get_bucket('commoncrawl')"
   ]
  },
  {
   "cell_type": "code",
   "execution_count": 6,
   "metadata": {
    "collapsed": false
   },
   "outputs": [],
   "source": [
    "data = []\n",
    "url = []\n",
    "\n",
    "for file in doc_files:\n",
    "    k = Key(pds, file)\n",
    "    f = warc.WARCFile(fileobj=GzipStreamFile(k))\n",
    "\n",
    "    for i, document in enumerate(f):\n",
    "        if document['Content-Type'] != 'text/plain':\n",
    "            continue\n",
    "        \n",
    "        dat = document.payload.read()\n",
    "        data.append(str(dat))\n",
    "        url.append(str(document.url))"
   ]
  },
  {
   "cell_type": "code",
   "execution_count": 7,
   "metadata": {
    "collapsed": false
   },
   "outputs": [
    {
     "data": {
      "text/plain": [
       "54320"
      ]
     },
     "execution_count": 7,
     "metadata": {},
     "output_type": "execute_result"
    }
   ],
   "source": [
    "len(url)"
   ]
  },
  {
   "cell_type": "code",
   "execution_count": 8,
   "metadata": {
    "collapsed": false
   },
   "outputs": [],
   "source": [
    "rec_df = pd.DataFrame(\n",
    "    {'contents': data,\n",
    "     'url': url\n",
    "    })"
   ]
  },
  {
   "cell_type": "code",
   "execution_count": 9,
   "metadata": {
    "collapsed": false
   },
   "outputs": [
    {
     "name": "stdout",
     "output_type": "stream",
     "text": [
      "root\n",
      " |-- contents: string (nullable = true)\n",
      " |-- url: string (nullable = true)\n",
      "\n"
     ]
    }
   ],
   "source": [
    "rec_df = sqlContext.createDataFrame(rec_df)\n",
    "rec_df.printSchema()"
   ]
  },
  {
   "cell_type": "code",
   "execution_count": 10,
   "metadata": {
    "collapsed": false
   },
   "outputs": [
    {
     "data": {
      "text/plain": [
       "54320"
      ]
     },
     "execution_count": 10,
     "metadata": {},
     "output_type": "execute_result"
    }
   ],
   "source": [
    "rec_df.count()"
   ]
  },
  {
   "cell_type": "code",
   "execution_count": 11,
   "metadata": {
    "collapsed": false
   },
   "outputs": [
    {
     "name": "stdout",
     "output_type": "stream",
     "text": [
      "+--------------------+--------------------+--------------------+\n",
      "|            contents|                 url|             website|\n",
      "+--------------------+--------------------+--------------------+\n",
      "|çç\n",
      "çç\tç...|http://007zhenren...|007zhenrenyuleche...|\n",
      "|æ¿æ©ç´ é£â§ç¶...|http://0289646723...|0289646723.tranew...|\n",
      "|ÐÐ¾Ð¿ÑÐ¾ÑÑ Ð¿...|http://03online.c...|        03online.com|\n",
      "|Ð Ð²Ð¸Ð±ÑÐ°ÑÐ¸...|http://03online.c...|        03online.com|\n",
      "|ÐÐµÑÐµÐ»Ð¾Ð¼ Ð³...|http://03online.c...|        03online.com|\n",
      "|ÐÐ¾ÑÐµÐ¼Ñ Ð½Ðµ...|http://03online.c...|        03online.com|\n",
      "|ÐÐ¾ÑÐµÐ¼Ñ Ð½Ðµ...|http://03online.c...|        03online.com|\n",
      "|Ð ÐµÐ±ÐµÐ½Ð¾Ðº Ñ...|http://03online.c...|        03online.com|\n",
      "|Ð¨ÑÐ¼ Ð² Ð¿ÑÐ°Ð...|http://03online.c...|        03online.com|\n",
      "|Ð§Ð¸ÑÑÑÐ¹ ÐºÐ»...|http://08.od.ua/b...|            08.od.ua|\n",
      "|Ð£ÐºÑÐ¾Ð¿ÑÑÐ¾Ñ...|http://08.od.ua/k...|            08.od.ua|\n",
      "|ÐÐ° Ð¾Ð»ÑÐ³Ð¸Ðµ...|http://08.od.ua/n...|            08.od.ua|\n",
      "|Orcead, Ð¾Ð¾Ð¾ Ð²...|http://08.od.ua/o...|            08.od.ua|\n",
      "|X-trim, Ð¼Ð°Ð³Ð°Ð...|http://08.od.ua/x...|            08.od.ua|\n",
      "|Ð¡Ð²Ð°Ð´ÑÐ±Ð° Ð½...|http://0lik.ru/cl...|             0lik.ru|\n",
      "|Nude woman with s...|http://0lik.ru/cl...|             0lik.ru|\n",
      "|Belladona Font St...|http://0lik.ru/fo...|             0lik.ru|\n",
      "|New Gems Layer St...|http://0lik.ru/ph...|             0lik.ru|\n",
      "|ÐÐ°Ð»ÐµÐ½Ð´Ð°ÑÑ...|http://0lik.ru/te...|             0lik.ru|\n",
      "|Image - Dale 2.PN...|http://100-things...|100-things-to-do-...|\n",
      "+--------------------+--------------------+--------------------+\n",
      "only showing top 20 rows\n",
      "\n"
     ]
    }
   ],
   "source": [
    "def get_site(url):\n",
    "   if len(url) <= 3: return ''\n",
    "   site = url.split('/')[2]\n",
    "   return site\n",
    "udf_url_to_website = udf(get_site, StringType())\n",
    "rec_df = rec_df.withColumn(\"website\", udf_url_to_website(\"url\"))\n",
    "rec_df.show()"
   ]
  },
  {
   "cell_type": "code",
   "execution_count": 12,
   "metadata": {
    "collapsed": false
   },
   "outputs": [
    {
     "data": {
      "text/plain": [
       "28982"
      ]
     },
     "execution_count": 12,
     "metadata": {},
     "output_type": "execute_result"
    }
   ],
   "source": [
    "no_of_website = rec_df.select(\"website\").rdd.flatMap(lambda x: x).map(lambda site: (site,1)).reduceByKey(lambda v1,v2: v1+v2)\n",
    "no_of_website.count()"
   ]
  },
  {
   "cell_type": "code",
   "execution_count": 13,
   "metadata": {
    "collapsed": false
   },
   "outputs": [],
   "source": [
    "#rec_df.show()"
   ]
  },
  {
   "cell_type": "markdown",
   "metadata": {},
   "source": [
    "## Crawl LDA"
   ]
  },
  {
   "cell_type": "code",
   "execution_count": 14,
   "metadata": {
    "collapsed": true
   },
   "outputs": [],
   "source": [
    "num_topics = 10\n",
    "max_iterations = 10\n",
    "vocab_size = 1000"
   ]
  },
  {
   "cell_type": "code",
   "execution_count": 15,
   "metadata": {
    "collapsed": false
   },
   "outputs": [
    {
     "name": "stdout",
     "output_type": "stream",
     "text": [
      "+--------------------+--------------------+--------------------+--------------------+\n",
      "|            contents|                 url|             website|               words|\n",
      "+--------------------+--------------------+--------------------+--------------------+\n",
      "|çç\n",
      "çç\tç...|http://007zhenren...|007zhenrenyuleche...|[çç, çç, ...|\n",
      "|æ¿æ©ç´ é£â§ç¶...|http://0289646723...|0289646723.tranew...|[æ¿æ©ç´ é£â§ç...|\n",
      "|ÐÐ¾Ð¿ÑÐ¾ÑÑ Ð¿...|http://03online.c...|        03online.com|[ðð¾ð¿ñð¾ññ, ...|\n",
      "|Ð Ð²Ð¸Ð±ÑÐ°ÑÐ¸...|http://03online.c...|        03online.com|[ð, ð²ð¸ð±ñð°ñ...|\n",
      "|ÐÐµÑÐµÐ»Ð¾Ð¼ Ð³...|http://03online.c...|        03online.com|[ððµñðµð»ð¾ð¼, ...|\n",
      "|ÐÐ¾ÑÐµÐ¼Ñ Ð½Ðµ...|http://03online.c...|        03online.com|[ðð¾ñðµð¼ñ, ð½...|\n",
      "|ÐÐ¾ÑÐµÐ¼Ñ Ð½Ðµ...|http://03online.c...|        03online.com|[ðð¾ñðµð¼ñ, ð½...|\n",
      "|Ð ÐµÐ±ÐµÐ½Ð¾Ðº Ñ...|http://03online.c...|        03online.com|[ð ðµð±ðµð½ð¾ðº, ...|\n",
      "|Ð¨ÑÐ¼ Ð² Ð¿ÑÐ°Ð...|http://03online.c...|        03online.com|[ð¨ñð¼, ð², ð¿ñ...|\n",
      "|Ð§Ð¸ÑÑÑÐ¹ ÐºÐ»...|http://08.od.ua/b...|            08.od.ua|[ð§ð¸ñññð¹, ðº...|\n",
      "|Ð£ÐºÑÐ¾Ð¿ÑÑÐ¾Ñ...|http://08.od.ua/k...|            08.od.ua|[ð£ðºñð¾ð¿ññð¾...|\n",
      "|ÐÐ° Ð¾Ð»ÑÐ³Ð¸Ðµ...|http://08.od.ua/n...|            08.od.ua|[ðð°, ð¾ð»ñð³ð¸...|\n",
      "|Orcead, Ð¾Ð¾Ð¾ Ð²...|http://08.od.ua/o...|            08.od.ua|[orcead,, ð¾ð¾ð¾,...|\n",
      "|X-trim, Ð¼Ð°Ð³Ð°Ð...|http://08.od.ua/x...|            08.od.ua|[x-trim,, ð¼ð°ð³ð...|\n",
      "|Ð¡Ð²Ð°Ð´ÑÐ±Ð° Ð½...|http://0lik.ru/cl...|             0lik.ru|[ð¡ð²ð°ð´ñð±ð°, ...|\n",
      "|Nude woman with s...|http://0lik.ru/cl...|             0lik.ru|[nude, woman, wit...|\n",
      "|Belladona Font St...|http://0lik.ru/fo...|             0lik.ru|[belladona, font,...|\n",
      "|New Gems Layer St...|http://0lik.ru/ph...|             0lik.ru|[new, gems, layer...|\n",
      "|ÐÐ°Ð»ÐµÐ½Ð´Ð°ÑÑ...|http://0lik.ru/te...|             0lik.ru|[ðð°ð»ðµð½ð´ð°ñ...|\n",
      "|Image - Dale 2.PN...|http://100-things...|100-things-to-do-...|[image, -, dale, ...|\n",
      "+--------------------+--------------------+--------------------+--------------------+\n",
      "only showing top 20 rows\n",
      "\n"
     ]
    }
   ],
   "source": [
    "tokenizer = RegexTokenizer(inputCol=\"contents\", outputCol=\"words\")\n",
    "rec_df = tokenizer.transform(rec_df)\n",
    "rec_df.show()"
   ]
  },
  {
   "cell_type": "code",
   "execution_count": 16,
   "metadata": {
    "collapsed": true
   },
   "outputs": [],
   "source": [
    "remover = StopWordsRemover(inputCol=\"words\", outputCol=\"filtered\")\n",
    "rec_df = remover.transform(rec_df)"
   ]
  },
  {
   "cell_type": "code",
   "execution_count": 17,
   "metadata": {
    "collapsed": false
   },
   "outputs": [
    {
     "name": "stdout",
     "output_type": "stream",
     "text": [
      "+--------------------+--------------------+--------------------+--------------------+--------------------+\n",
      "|            contents|                 url|             website|               words|            filtered|\n",
      "+--------------------+--------------------+--------------------+--------------------+--------------------+\n",
      "|çç\n",
      "çç\tç...|http://007zhenren...|007zhenrenyuleche...|[çç, çç, ...|[çç, çç, ...|\n",
      "|æ¿æ©ç´ é£â§ç¶...|http://0289646723...|0289646723.tranew...|[æ¿æ©ç´ é£â§ç...|[æ¿æ©ç´ é£â§ç...|\n",
      "|ÐÐ¾Ð¿ÑÐ¾ÑÑ Ð¿...|http://03online.c...|        03online.com|[ðð¾ð¿ñð¾ññ, ...|[ðð¾ð¿ñð¾ññ, ...|\n",
      "|Ð Ð²Ð¸Ð±ÑÐ°ÑÐ¸...|http://03online.c...|        03online.com|[ð, ð²ð¸ð±ñð°ñ...|[ð, ð²ð¸ð±ñð°ñ...|\n",
      "|ÐÐµÑÐµÐ»Ð¾Ð¼ Ð³...|http://03online.c...|        03online.com|[ððµñðµð»ð¾ð¼, ...|[ððµñðµð»ð¾ð¼, ...|\n",
      "|ÐÐ¾ÑÐµÐ¼Ñ Ð½Ðµ...|http://03online.c...|        03online.com|[ðð¾ñðµð¼ñ, ð½...|[ðð¾ñðµð¼ñ, ð½...|\n",
      "|ÐÐ¾ÑÐµÐ¼Ñ Ð½Ðµ...|http://03online.c...|        03online.com|[ðð¾ñðµð¼ñ, ð½...|[ðð¾ñðµð¼ñ, ð½...|\n",
      "|Ð ÐµÐ±ÐµÐ½Ð¾Ðº Ñ...|http://03online.c...|        03online.com|[ð ðµð±ðµð½ð¾ðº, ...|[ð ðµð±ðµð½ð¾ðº, ...|\n",
      "|Ð¨ÑÐ¼ Ð² Ð¿ÑÐ°Ð...|http://03online.c...|        03online.com|[ð¨ñð¼, ð², ð¿ñ...|[ð¨ñð¼, ð², ð¿ñ...|\n",
      "|Ð§Ð¸ÑÑÑÐ¹ ÐºÐ»...|http://08.od.ua/b...|            08.od.ua|[ð§ð¸ñññð¹, ðº...|[ð§ð¸ñññð¹, ðº...|\n",
      "|Ð£ÐºÑÐ¾Ð¿ÑÑÐ¾Ñ...|http://08.od.ua/k...|            08.od.ua|[ð£ðºñð¾ð¿ññð¾...|[ð£ðºñð¾ð¿ññð¾...|\n",
      "|ÐÐ° Ð¾Ð»ÑÐ³Ð¸Ðµ...|http://08.od.ua/n...|            08.od.ua|[ðð°, ð¾ð»ñð³ð¸...|[ðð°, ð¾ð»ñð³ð¸...|\n",
      "|Orcead, Ð¾Ð¾Ð¾ Ð²...|http://08.od.ua/o...|            08.od.ua|[orcead,, ð¾ð¾ð¾,...|[orcead,, ð¾ð¾ð¾,...|\n",
      "|X-trim, Ð¼Ð°Ð³Ð°Ð...|http://08.od.ua/x...|            08.od.ua|[x-trim,, ð¼ð°ð³ð...|[x-trim,, ð¼ð°ð³ð...|\n",
      "|Ð¡Ð²Ð°Ð´ÑÐ±Ð° Ð½...|http://0lik.ru/cl...|             0lik.ru|[ð¡ð²ð°ð´ñð±ð°, ...|[ð¡ð²ð°ð´ñð±ð°, ...|\n",
      "|Nude woman with s...|http://0lik.ru/cl...|             0lik.ru|[nude, woman, wit...|[nude, woman, sho...|\n",
      "|Belladona Font St...|http://0lik.ru/fo...|             0lik.ru|[belladona, font,...|[belladona, font,...|\n",
      "|New Gems Layer St...|http://0lik.ru/ph...|             0lik.ru|[new, gems, layer...|[new, gems, layer...|\n",
      "|ÐÐ°Ð»ÐµÐ½Ð´Ð°ÑÑ...|http://0lik.ru/te...|             0lik.ru|[ðð°ð»ðµð½ð´ð°ñ...|[ðð°ð»ðµð½ð´ð°ñ...|\n",
      "|Image - Dale 2.PN...|http://100-things...|100-things-to-do-...|[image, -, dale, ...|[image, -, dale, ...|\n",
      "+--------------------+--------------------+--------------------+--------------------+--------------------+\n",
      "only showing top 20 rows\n",
      "\n"
     ]
    }
   ],
   "source": [
    "rec_df.show()"
   ]
  },
  {
   "cell_type": "markdown",
   "metadata": {},
   "source": [
    "## CountVectorizing"
   ]
  },
  {
   "cell_type": "code",
   "execution_count": 18,
   "metadata": {
    "collapsed": false
   },
   "outputs": [],
   "source": [
    "cvectorizer = CountVectorizer(inputCol=\"filtered\", outputCol=\"features\", vocabSize=vocab_size)\n",
    "cv_model = cvectorizer.fit(rec_df) ## takes long time\n",
    "#mbf = 2.0 / max_iterations + 1.0 / tokens_df.count() #MiniBatchFraction\n",
    "rec_df = cv_model.transform(rec_df)"
   ]
  },
  {
   "cell_type": "code",
   "execution_count": 19,
   "metadata": {
    "collapsed": false
   },
   "outputs": [
    {
     "name": "stdout",
     "output_type": "stream",
     "text": [
      "root\n",
      " |-- contents: string (nullable = true)\n",
      " |-- url: string (nullable = true)\n",
      " |-- website: string (nullable = true)\n",
      " |-- words: array (nullable = true)\n",
      " |    |-- element: string (containsNull = true)\n",
      " |-- filtered: array (nullable = true)\n",
      " |    |-- element: string (containsNull = true)\n",
      " |-- features: vector (nullable = true)\n",
      "\n",
      "+--------------------+--------------------+--------------------+--------------------+--------------------+--------------------+\n",
      "|            contents|                 url|             website|               words|            filtered|            features|\n",
      "+--------------------+--------------------+--------------------+--------------------+--------------------+--------------------+\n",
      "|çç\n",
      "çç\tç...|http://007zhenren...|007zhenrenyuleche...|[çç, çç, ...|[çç, çç, ...|(1000,[1,163,173,...|\n",
      "|æ¿æ©ç´ é£â§ç¶...|http://0289646723...|0289646723.tranew...|[æ¿æ©ç´ é£â§ç...|[æ¿æ©ç´ é£â§ç...|(1000,[1,138],[1....|\n",
      "|ÐÐ¾Ð¿ÑÐ¾ÑÑ Ð¿...|http://03online.c...|        03online.com|[ðð¾ð¿ñð¾ññ, ...|[ðð¾ð¿ñð¾ññ, ...|(1000,[0,5,6,11,1...|\n",
      "|Ð Ð²Ð¸Ð±ÑÐ°ÑÐ¸...|http://03online.c...|        03online.com|[ð, ð²ð¸ð±ñð°ñ...|[ð, ð²ð¸ð±ñð°ñ...|(1000,[0,5,6,11,1...|\n",
      "|ÐÐµÑÐµÐ»Ð¾Ð¼ Ð³...|http://03online.c...|        03online.com|[ððµñðµð»ð¾ð¼, ...|[ððµñðµð»ð¾ð¼, ...|(1000,[0,6,11,12,...|\n",
      "|ÐÐ¾ÑÐµÐ¼Ñ Ð½Ðµ...|http://03online.c...|        03online.com|[ðð¾ñðµð¼ñ, ð½...|[ðð¾ñðµð¼ñ, ð½...|(1000,[0,5,6,11,1...|\n",
      "|ÐÐ¾ÑÐµÐ¼Ñ Ð½Ðµ...|http://03online.c...|        03online.com|[ðð¾ñðµð¼ñ, ð½...|[ðð¾ñðµð¼ñ, ð½...|(1000,[0,5,6,11,1...|\n",
      "|Ð ÐµÐ±ÐµÐ½Ð¾Ðº Ñ...|http://03online.c...|        03online.com|[ð ðµð±ðµð½ð¾ðº, ...|[ð ðµð±ðµð½ð¾ðº, ...|(1000,[0,5,6,11,1...|\n",
      "|Ð¨ÑÐ¼ Ð² Ð¿ÑÐ°Ð...|http://03online.c...|        03online.com|[ð¨ñð¼, ð², ð¿ñ...|[ð¨ñð¼, ð², ð¿ñ...|(1000,[0,5,6,11,1...|\n",
      "|Ð§Ð¸ÑÑÑÐ¹ ÐºÐ»...|http://08.od.ua/b...|            08.od.ua|[ð§ð¸ñññð¹, ðº...|[ð§ð¸ñññð¹, ðº...|(1000,[0,11,15,21...|\n",
      "|Ð£ÐºÑÐ¾Ð¿ÑÑÐ¾Ñ...|http://08.od.ua/k...|            08.od.ua|[ð£ðºñð¾ð¿ññð¾...|[ð£ðºñð¾ð¿ññð¾...|(1000,[0,6,11,15,...|\n",
      "|ÐÐ° Ð¾Ð»ÑÐ³Ð¸Ðµ...|http://08.od.ua/n...|            08.od.ua|[ðð°, ð¾ð»ñð³ð¸...|[ðð°, ð¾ð»ñð³ð¸...|(1000,[11,15,21,3...|\n",
      "|Orcead, Ð¾Ð¾Ð¾ Ð²...|http://08.od.ua/o...|            08.od.ua|[orcead,, ð¾ð¾ð¾,...|[orcead,, ð¾ð¾ð¾,...|(1000,[11,15,21,2...|\n",
      "|X-trim, Ð¼Ð°Ð³Ð°Ð...|http://08.od.ua/x...|            08.od.ua|[x-trim,, ð¼ð°ð³ð...|[x-trim,, ð¼ð°ð³ð...|(1000,[0,5,11,15,...|\n",
      "|Ð¡Ð²Ð°Ð´ÑÐ±Ð° Ð½...|http://0lik.ru/cl...|             0lik.ru|[ð¡ð²ð°ð´ñð±ð°, ...|[ð¡ð²ð°ð´ñð±ð°, ...|(1000,[0,3,5,6,7,...|\n",
      "|Nude woman with s...|http://0lik.ru/cl...|             0lik.ru|[nude, woman, wit...|[nude, woman, sho...|(1000,[0,3,5,6,7,...|\n",
      "|Belladona Font St...|http://0lik.ru/fo...|             0lik.ru|[belladona, font,...|[belladona, font,...|(1000,[0,3,5,6,7,...|\n",
      "|New Gems Layer St...|http://0lik.ru/ph...|             0lik.ru|[new, gems, layer...|[new, gems, layer...|(1000,[0,3,5,6,7,...|\n",
      "|ÐÐ°Ð»ÐµÐ½Ð´Ð°ÑÑ...|http://0lik.ru/te...|             0lik.ru|[ðð°ð»ðµð½ð´ð°ñ...|[ðð°ð»ðµð½ð´ð°ñ...|(1000,[0,3,5,6,7,...|\n",
      "|Image - Dale 2.PN...|http://100-things...|100-things-to-do-...|[image, -, dale, ...|[image, -, dale, ...|(1000,[0,2,3,5,9,...|\n",
      "+--------------------+--------------------+--------------------+--------------------+--------------------+--------------------+\n",
      "only showing top 20 rows\n",
      "\n"
     ]
    }
   ],
   "source": [
    "rec_df.printSchema()\n",
    "rec_df.show()"
   ]
  },
  {
   "cell_type": "markdown",
   "metadata": {},
   "source": [
    "## For mllib\n",
    "### pyspark.mllib: pyspark.rdd.RDD\n",
    "### pyspark.ml: pyspark.sql.DataFrame"
   ]
  },
  {
   "cell_type": "code",
   "execution_count": 20,
   "metadata": {
    "collapsed": false
   },
   "outputs": [
    {
     "ename": "AnalysisException",
     "evalue": "u\"cannot resolve '`cvectors`' given input columns: [url, words, features, filtered, contents, website];;\\n'Project ['cvectors]\\n+- Project [contents#0, url#1, website#14, words#28, filtered#41, UDF(filtered#41) AS features#59]\\n   +- Project [contents#0, url#1, website#14, words#28, UDF(words#28) AS filtered#41]\\n      +- Project [contents#0, url#1, website#14, UDF(contents#0) AS words#28]\\n         +- Project [contents#0, url#1, get_site(url#1) AS website#14]\\n            +- LogicalRDD [contents#0, url#1]\\n\"",
     "output_type": "error",
     "traceback": [
      "\u001b[0;31m---------------------------------------------------------------------------\u001b[0m",
      "\u001b[0;31mAnalysisException\u001b[0m                         Traceback (most recent call last)",
      "\u001b[0;32m<ipython-input-20-5fbd1b1c7847>\u001b[0m in \u001b[0;36m<module>\u001b[0;34m()\u001b[0m\n\u001b[1;32m      2\u001b[0m \u001b[0;32mfrom\u001b[0m \u001b[0mpyspark\u001b[0m\u001b[0;34m.\u001b[0m\u001b[0msql\u001b[0m\u001b[0;34m.\u001b[0m\u001b[0mfunctions\u001b[0m \u001b[0;32mimport\u001b[0m \u001b[0;34m*\u001b[0m\u001b[0;34m\u001b[0m\u001b[0m\n\u001b[1;32m      3\u001b[0m \u001b[0;34m\u001b[0m\u001b[0m\n\u001b[0;32m----> 4\u001b[0;31m \u001b[0msv_df\u001b[0m \u001b[0;34m=\u001b[0m \u001b[0mrec_df\u001b[0m\u001b[0;34m.\u001b[0m\u001b[0mselect\u001b[0m\u001b[0;34m(\u001b[0m\u001b[0;34m\"cvectors\"\u001b[0m\u001b[0;34m)\u001b[0m\u001b[0;34m\u001b[0m\u001b[0m\n\u001b[0m\u001b[1;32m      5\u001b[0m \u001b[0mcorpus\u001b[0m \u001b[0;34m=\u001b[0m \u001b[0msv_df\u001b[0m\u001b[0;34m.\u001b[0m\u001b[0mrdd\u001b[0m\u001b[0;34m.\u001b[0m\u001b[0mmap\u001b[0m\u001b[0;34m(\u001b[0m\u001b[0;32mlambda\u001b[0m \u001b[0mx\u001b[0m\u001b[0;34m:\u001b[0m \u001b[0mRow\u001b[0m\u001b[0;34m(\u001b[0m\u001b[0mcvectors\u001b[0m\u001b[0;34m=\u001b[0m\u001b[0mDenseVector\u001b[0m\u001b[0;34m(\u001b[0m\u001b[0mx\u001b[0m\u001b[0;34m[\u001b[0m\u001b[0;36m0\u001b[0m\u001b[0;34m]\u001b[0m\u001b[0;34m.\u001b[0m\u001b[0mtoArray\u001b[0m\u001b[0;34m(\u001b[0m\u001b[0;34m)\u001b[0m\u001b[0;34m)\u001b[0m\u001b[0;34m)\u001b[0m\u001b[0;34m)\u001b[0m                  \u001b[0;34m.\u001b[0m\u001b[0mmap\u001b[0m\u001b[0;34m(\u001b[0m\u001b[0;32mlambda\u001b[0m \u001b[0mx\u001b[0m\u001b[0;34m:\u001b[0m \u001b[0mx\u001b[0m\u001b[0;34m[\u001b[0m\u001b[0;36m0\u001b[0m\u001b[0;34m]\u001b[0m\u001b[0;34m)\u001b[0m                  \u001b[0;34m.\u001b[0m\u001b[0mzipWithIndex\u001b[0m\u001b[0;34m(\u001b[0m\u001b[0;34m)\u001b[0m                  \u001b[0;34m.\u001b[0m\u001b[0mmap\u001b[0m\u001b[0;34m(\u001b[0m\u001b[0;32mlambda\u001b[0m \u001b[0mx\u001b[0m\u001b[0;34m:\u001b[0m \u001b[0;34m[\u001b[0m\u001b[0mx\u001b[0m\u001b[0;34m[\u001b[0m\u001b[0;36m1\u001b[0m\u001b[0;34m]\u001b[0m\u001b[0;34m,\u001b[0m \u001b[0mx\u001b[0m\u001b[0;34m[\u001b[0m\u001b[0;36m0\u001b[0m\u001b[0;34m]\u001b[0m\u001b[0;34m]\u001b[0m\u001b[0;34m)\u001b[0m\u001b[0;34m\u001b[0m\u001b[0m\n\u001b[1;32m      6\u001b[0m \u001b[0;31m#                 .cache()\u001b[0m\u001b[0;34m\u001b[0m\u001b[0;34m\u001b[0m\u001b[0m\n",
      "\u001b[0;32m/usr/lib/spark/python/pyspark/sql/dataframe.py\u001b[0m in \u001b[0;36mselect\u001b[0;34m(self, *cols)\u001b[0m\n\u001b[1;32m    982\u001b[0m         \u001b[0;34m[\u001b[0m\u001b[0mRow\u001b[0m\u001b[0;34m(\u001b[0m\u001b[0mname\u001b[0m\u001b[0;34m=\u001b[0m\u001b[0;34mu'Alice'\u001b[0m\u001b[0;34m,\u001b[0m \u001b[0mage\u001b[0m\u001b[0;34m=\u001b[0m\u001b[0;36m12\u001b[0m\u001b[0;34m)\u001b[0m\u001b[0;34m,\u001b[0m \u001b[0mRow\u001b[0m\u001b[0;34m(\u001b[0m\u001b[0mname\u001b[0m\u001b[0;34m=\u001b[0m\u001b[0;34mu'Bob'\u001b[0m\u001b[0;34m,\u001b[0m \u001b[0mage\u001b[0m\u001b[0;34m=\u001b[0m\u001b[0;36m15\u001b[0m\u001b[0;34m)\u001b[0m\u001b[0;34m]\u001b[0m\u001b[0;34m\u001b[0m\u001b[0m\n\u001b[1;32m    983\u001b[0m         \"\"\"\n\u001b[0;32m--> 984\u001b[0;31m         \u001b[0mjdf\u001b[0m \u001b[0;34m=\u001b[0m \u001b[0mself\u001b[0m\u001b[0;34m.\u001b[0m\u001b[0m_jdf\u001b[0m\u001b[0;34m.\u001b[0m\u001b[0mselect\u001b[0m\u001b[0;34m(\u001b[0m\u001b[0mself\u001b[0m\u001b[0;34m.\u001b[0m\u001b[0m_jcols\u001b[0m\u001b[0;34m(\u001b[0m\u001b[0;34m*\u001b[0m\u001b[0mcols\u001b[0m\u001b[0;34m)\u001b[0m\u001b[0;34m)\u001b[0m\u001b[0;34m\u001b[0m\u001b[0m\n\u001b[0m\u001b[1;32m    985\u001b[0m         \u001b[0;32mreturn\u001b[0m \u001b[0mDataFrame\u001b[0m\u001b[0;34m(\u001b[0m\u001b[0mjdf\u001b[0m\u001b[0;34m,\u001b[0m \u001b[0mself\u001b[0m\u001b[0;34m.\u001b[0m\u001b[0msql_ctx\u001b[0m\u001b[0;34m)\u001b[0m\u001b[0;34m\u001b[0m\u001b[0m\n\u001b[1;32m    986\u001b[0m \u001b[0;34m\u001b[0m\u001b[0m\n",
      "\u001b[0;32m/usr/lib/spark/python/lib/py4j-0.10.4-src.zip/py4j/java_gateway.py\u001b[0m in \u001b[0;36m__call__\u001b[0;34m(self, *args)\u001b[0m\n\u001b[1;32m   1131\u001b[0m         \u001b[0manswer\u001b[0m \u001b[0;34m=\u001b[0m \u001b[0mself\u001b[0m\u001b[0;34m.\u001b[0m\u001b[0mgateway_client\u001b[0m\u001b[0;34m.\u001b[0m\u001b[0msend_command\u001b[0m\u001b[0;34m(\u001b[0m\u001b[0mcommand\u001b[0m\u001b[0;34m)\u001b[0m\u001b[0;34m\u001b[0m\u001b[0m\n\u001b[1;32m   1132\u001b[0m         return_value = get_return_value(\n\u001b[0;32m-> 1133\u001b[0;31m             answer, self.gateway_client, self.target_id, self.name)\n\u001b[0m\u001b[1;32m   1134\u001b[0m \u001b[0;34m\u001b[0m\u001b[0m\n\u001b[1;32m   1135\u001b[0m         \u001b[0;32mfor\u001b[0m \u001b[0mtemp_arg\u001b[0m \u001b[0;32min\u001b[0m \u001b[0mtemp_args\u001b[0m\u001b[0;34m:\u001b[0m\u001b[0;34m\u001b[0m\u001b[0m\n",
      "\u001b[0;32m/usr/lib/spark/python/pyspark/sql/utils.py\u001b[0m in \u001b[0;36mdeco\u001b[0;34m(*a, **kw)\u001b[0m\n\u001b[1;32m     67\u001b[0m                                              e.java_exception.getStackTrace()))\n\u001b[1;32m     68\u001b[0m             \u001b[0;32mif\u001b[0m \u001b[0ms\u001b[0m\u001b[0;34m.\u001b[0m\u001b[0mstartswith\u001b[0m\u001b[0;34m(\u001b[0m\u001b[0;34m'org.apache.spark.sql.AnalysisException: '\u001b[0m\u001b[0;34m)\u001b[0m\u001b[0;34m:\u001b[0m\u001b[0;34m\u001b[0m\u001b[0m\n\u001b[0;32m---> 69\u001b[0;31m                 \u001b[0;32mraise\u001b[0m \u001b[0mAnalysisException\u001b[0m\u001b[0;34m(\u001b[0m\u001b[0ms\u001b[0m\u001b[0;34m.\u001b[0m\u001b[0msplit\u001b[0m\u001b[0;34m(\u001b[0m\u001b[0;34m': '\u001b[0m\u001b[0;34m,\u001b[0m \u001b[0;36m1\u001b[0m\u001b[0;34m)\u001b[0m\u001b[0;34m[\u001b[0m\u001b[0;36m1\u001b[0m\u001b[0;34m]\u001b[0m\u001b[0;34m,\u001b[0m \u001b[0mstackTrace\u001b[0m\u001b[0;34m)\u001b[0m\u001b[0;34m\u001b[0m\u001b[0m\n\u001b[0m\u001b[1;32m     70\u001b[0m             \u001b[0;32mif\u001b[0m \u001b[0ms\u001b[0m\u001b[0;34m.\u001b[0m\u001b[0mstartswith\u001b[0m\u001b[0;34m(\u001b[0m\u001b[0;34m'org.apache.spark.sql.catalyst.analysis'\u001b[0m\u001b[0;34m)\u001b[0m\u001b[0;34m:\u001b[0m\u001b[0;34m\u001b[0m\u001b[0m\n\u001b[1;32m     71\u001b[0m                 \u001b[0;32mraise\u001b[0m \u001b[0mAnalysisException\u001b[0m\u001b[0;34m(\u001b[0m\u001b[0ms\u001b[0m\u001b[0;34m.\u001b[0m\u001b[0msplit\u001b[0m\u001b[0;34m(\u001b[0m\u001b[0;34m': '\u001b[0m\u001b[0;34m,\u001b[0m \u001b[0;36m1\u001b[0m\u001b[0;34m)\u001b[0m\u001b[0;34m[\u001b[0m\u001b[0;36m1\u001b[0m\u001b[0;34m]\u001b[0m\u001b[0;34m,\u001b[0m \u001b[0mstackTrace\u001b[0m\u001b[0;34m)\u001b[0m\u001b[0;34m\u001b[0m\u001b[0m\n",
      "\u001b[0;31mAnalysisException\u001b[0m: u\"cannot resolve '`cvectors`' given input columns: [url, words, features, filtered, contents, website];;\\n'Project ['cvectors]\\n+- Project [contents#0, url#1, website#14, words#28, filtered#41, UDF(filtered#41) AS features#59]\\n   +- Project [contents#0, url#1, website#14, words#28, UDF(words#28) AS filtered#41]\\n      +- Project [contents#0, url#1, website#14, UDF(contents#0) AS words#28]\\n         +- Project [contents#0, url#1, get_site(url#1) AS website#14]\\n            +- LogicalRDD [contents#0, url#1]\\n\""
     ]
    }
   ],
   "source": [
    "from pyspark.sql.types import Row\n",
    "from pyspark.sql.functions import *\n",
    "\n",
    "sv_df = rec_df.select(\"features\")\n",
    "corpus = sv_df.rdd.map(lambda x: Row(cvectors=DenseVector(x[0].toArray())))\\\n",
    "                  .map(lambda x: x[0])\\\n",
    "                  .zipWithIndex()\\\n",
    "                  .map(lambda x: [x[1], x[0]])\n",
    "#                 .cache()"
   ]
  },
  {
   "cell_type": "code",
   "execution_count": null,
   "metadata": {
    "collapsed": false
   },
   "outputs": [],
   "source": [
    "corpus_df = corpus.toDF()"
   ]
  },
  {
   "cell_type": "code",
   "execution_count": null,
   "metadata": {
    "collapsed": false
   },
   "outputs": [],
   "source": [
    "type(corpus)"
   ]
  },
  {
   "cell_type": "code",
   "execution_count": null,
   "metadata": {
    "collapsed": false,
    "scrolled": true
   },
   "outputs": [],
   "source": [
    "## Java Error\n",
    "crawl_lda_model_10_topic = LDA.train(corpus, k=10, maxIterations=10, optimizer=\"em\")\n",
    "## EMR Resize"
   ]
  },
  {
   "cell_type": "code",
   "execution_count": 20,
   "metadata": {
    "collapsed": false
   },
   "outputs": [],
   "source": [
    "# Save and load model\n",
    "#crawl_lda_model_10_topic.save(sc, \"crawl_lda_model_10\")\n",
    "crawl_lda_model_10_topic = LDAModel.load(sc, \"crawl_lda_model_10\")\n",
    "crawl_lda_model_5_topic = LDAModel.load(sc, \"crawl_lda_model\")"
   ]
  },
  {
   "cell_type": "code",
   "execution_count": 21,
   "metadata": {
    "collapsed": false
   },
   "outputs": [
    {
     "data": {
      "text/plain": [
       "array([[  67395.48957972,   85050.97410262,   63557.40660837, ...,\n",
       "          93898.32436502,  107965.64700228,   49359.36430729],\n",
       "       [  46397.32082255,   56531.99588281,   40777.25830006, ...,\n",
       "          58800.33322591,   68970.32486657,   32652.64896381],\n",
       "       [  55926.39047845,   52929.59742882,   41273.53191615, ...,\n",
       "          55989.97140447,   65007.11185714,   34367.10368376],\n",
       "       ..., \n",
       "       [    464.53081807,     575.39336184,     395.06668204, ...,\n",
       "            553.8007751 ,     569.81278027,     358.68164792],\n",
       "       [    471.075264  ,     579.36657261,     408.82284165, ...,\n",
       "            507.79039554,     545.47801871,     350.16652695],\n",
       "       [   1414.3327473 ,    1101.3082602 ,     557.47578519, ...,\n",
       "            211.35386986,     252.48829074,     147.04003941]])"
      ]
     },
     "execution_count": 21,
     "metadata": {},
     "output_type": "execute_result"
    }
   ],
   "source": [
    "crawl_lda_model_10_topic.topicsMatrix()"
   ]
  },
  {
   "cell_type": "code",
   "execution_count": 22,
   "metadata": {
    "collapsed": true
   },
   "outputs": [],
   "source": [
    "topic_indices_mllib = crawl_lda_model_10_topic.describeTopics(maxTermsPerTopic=100)"
   ]
  },
  {
   "cell_type": "markdown",
   "metadata": {
    "collapsed": false
   },
   "source": [
    "## For ml\n",
    "### pyspark.mllib: pyspark.rdd.RDD\n",
    "### pyspark.ml: pyspark.sql.DataFrame"
   ]
  },
  {
   "cell_type": "code",
   "execution_count": 23,
   "metadata": {
    "collapsed": false
   },
   "outputs": [],
   "source": [
    "#num_topic_list = [5, 10, 20, 40, 60, 80, 100, 120, 140, 160]\n",
    "lda_5 = LDA(k=5, seed=1)\n",
    "lda_10 = LDA(k=10, seed=1)\n",
    "lda_20 = LDA(k=20, seed=1)\n",
    "lda_40 = LDA(k=40, seed=1)\n",
    "lda_60 = LDA(k=60, seed=1)\n",
    "lda_80 = LDA(k=80, seed=1)\n",
    "lda_100 = LDA(k=100, seed=1)\n",
    "lda_120 = LDA(k=120, seed=1)\n",
    "lda_140 = LDA(k=140, seed=1)\n",
    "lda_160 = LDA(k=160, seed=1)\n",
    "lda_180 = LDA(k=180, seed=1)\n",
    "lda_200 = LDA(k=200, seed=1)"
   ]
  },
  {
   "cell_type": "code",
   "execution_count": 24,
   "metadata": {
    "collapsed": false
   },
   "outputs": [],
   "source": [
    "#crawl_ml_lda_model_5_topics = lda_5.fit(rec_df)\n",
    "#crawl_ml_lda_model_5_topics.save(\"crawl_ml_lda_model_5_topics\")\n",
    "#crawl_ml_lda_model_10_topics = lda_10.fit(rec_df)\n",
    "#crawl_ml_lda_model_10_topics.save(\"crawl_ml_lda_model_10_topics\")\n",
    "#crawl_ml_lda_model_20_topics = lda_20.fit(rec_df)\n",
    "#crawl_ml_lda_model_20_topics.save(\"crawl_ml_lda_model_20_topics\")\n",
    "#crawl_ml_lda_model_40_topics = lda_40.fit(rec_df)\n",
    "#crawl_ml_lda_model_40_topics.save(\"crawl_ml_lda_model_40_topics\")\n",
    "#crawl_ml_lda_model_60_topics = lda_60.fit(rec_df)\n",
    "#crawl_ml_lda_model_60_topics.save(\"crawl_ml_lda_model_60_topics\")\n",
    "#crawl_ml_lda_model_80_topics = lda_80.fit(rec_df)\n",
    "#crawl_ml_lda_model_80_topics.save(\"crawl_ml_lda_model_80_topics\")\n",
    "#crawl_ml_lda_model_100_topics = lda_100.fit(rec_df)\n",
    "#crawl_ml_lda_model_100_topics.save(\"crawl_ml_lda_model_100_topics\")\n",
    "#crawl_ml_lda_model_120_topics = lda_120.fit(rec_df)\n",
    "#crawl_ml_lda_model_120_topics.save(\"crawl_ml_lda_model_120_topics\")\n",
    "#crawl_ml_lda_model_140_topics = lda_140.fit(rec_df)\n",
    "#crawl_ml_lda_model_140_topics.save(\"crawl_ml_lda_model_140_topics\")\n",
    "#crawl_ml_lda_model_160_topics = lda_160.fit(rec_df)\n",
    "#crawl_ml_lda_model_160_topics.save(\"crawl_ml_lda_model_160_topics\")\n",
    "#crawl_ml_lda_model_180_topics = lda_180.fit(rec_df)\n",
    "#crawl_ml_lda_model_180_topics.save(\"crawl_ml_lda_model_180_topics\")\n",
    "#crawl_ml_lda_model_200_topics = lda_200.fit(rec_df)\n",
    "#crawl_ml_lda_model_200_topics.save(\"crawl_ml_lda_model_200_topics\")"
   ]
  },
  {
   "cell_type": "code",
   "execution_count": 25,
   "metadata": {
    "collapsed": false
   },
   "outputs": [],
   "source": [
    "crawl_ml_lda_models = {}\n",
    "crawl_ml_lda_models[5] = LocalLDAModel.load(\"crawl_ml_lda_model_5_topics\")\n",
    "crawl_ml_lda_models[10] = LocalLDAModel.load(\"crawl_ml_lda_model_10_topics\")\n",
    "crawl_ml_lda_models[20] = LocalLDAModel.load(\"crawl_ml_lda_model_20_topics\")\n",
    "crawl_ml_lda_models[40] = LocalLDAModel.load(\"crawl_ml_lda_model_40_topics\")\n",
    "crawl_ml_lda_models[60] = LocalLDAModel.load(\"crawl_ml_lda_model_60_topics\")\n",
    "crawl_ml_lda_models[80] = LocalLDAModel.load(\"crawl_ml_lda_model_80_topics\")\n",
    "crawl_ml_lda_models[100] = LocalLDAModel.load(\"crawl_ml_lda_model_100_topics\")\n",
    "crawl_ml_lda_models[120] = LocalLDAModel.load(\"crawl_ml_lda_model_120_topics\")\n",
    "crawl_ml_lda_models[140] = LocalLDAModel.load(\"crawl_ml_lda_model_140_topics\")\n",
    "crawl_ml_lda_models[160] = LocalLDAModel.load(\"crawl_ml_lda_model_160_topics\")\n",
    "crawl_ml_lda_models[180] = LocalLDAModel.load(\"crawl_ml_lda_model_180_topics\")\n",
    "crawl_ml_lda_models[200] = LocalLDAModel.load(\"crawl_ml_lda_model_200_topics\")\n",
    "\n",
    "# crawl_ml_lda_model_5_topics = LocalLDAModel.load(\"crawl_ml_lda_model_5_topics\")\n",
    "# crawl_ml_lda_model_10_topics = LocalLDAModel.load(\"crawl_ml_lda_model_10_topics_without_stopwords\")\n",
    "# crawl_ml_lda_model_20_topics = LocalLDAModel.load(\"crawl_ml_lda_model_20_topics\")\n",
    "# crawl_ml_lda_model_40_topics = LocalLDAModel.load(\"crawl_ml_lda_model_40_topics\")\n",
    "# crawl_ml_lda_model_60_topics = LocalLDAModel.load(\"crawl_ml_lda_model_60_topics\")\n",
    "# crawl_ml_lda_model_80_topics = LocalLDAModel.load(\"crawl_ml_lda_model_80_topics\")\n",
    "# crawl_ml_lda_model_100_topics = LocalLDAModel.load(\"crawl_ml_lda_model_100_topics\")\n",
    "# crawl_ml_lda_model_120_topics = LocalLDAModel.load(\"crawl_ml_lda_model_120_topics\")\n",
    "# crawl_ml_lda_model_140_topics = LocalLDAModel.load(\"crawl_ml_lda_model_140_topics\")\n",
    "# crawl_ml_lda_model_160_topics = LocalLDAModel.load(\"crawl_ml_lda_model_160_topics\")\n",
    "# crawl_ml_lda_model_180_topics = LocalLDAModel.load(\"crawl_ml_lda_model_180_topics\")\n",
    "# crawl_ml_lda_model_200_topics = LocalLDAModel.load(\"crawl_ml_lda_model_200_topics\")"
   ]
  },
  {
   "cell_type": "code",
   "execution_count": 26,
   "metadata": {
    "collapsed": false
   },
   "outputs": [
    {
     "data": {
      "text/plain": [
       "[LDA_4fe18eda7cd36fbf8c33,\n",
       " LDA_42a5a0d9df0539e613a5,\n",
       " LDA_42afbcbde088a282d6b0,\n",
       " LDA_40aa8aba1258cf1260f9,\n",
       " LDA_4a0d88237c091127478f,\n",
       " LDA_475cbf7eb73ac5602dde,\n",
       " LDA_47ebb7d37e79856fc8c2,\n",
       " LDA_4f5e8c520427f2cf523d,\n",
       " LDA_4be48996dc0fa6ab0667,\n",
       " LDA_40979be33481f699ed5b,\n",
       " LDA_4fd9a50221c76b6c6a5d,\n",
       " LDA_496fbe80edfc742fa6a7]"
      ]
     },
     "execution_count": 26,
     "metadata": {},
     "output_type": "execute_result"
    }
   ],
   "source": [
    "crawl_ml_lda_models.values()"
   ]
  },
  {
   "cell_type": "code",
   "execution_count": 27,
   "metadata": {
    "collapsed": false
   },
   "outputs": [
    {
     "data": {
      "text/plain": [
       "54320"
      ]
     },
     "execution_count": 27,
     "metadata": {},
     "output_type": "execute_result"
    }
   ],
   "source": [
    "ntopics = [5, 10, 20, 40, 60, 80, 100, 120, 140, 160, 180, 200]\n",
    "rec_df_count = rec_df.count()\n",
    "rec_df_count"
   ]
  },
  {
   "cell_type": "code",
   "execution_count": null,
   "metadata": {
    "collapsed": true
   },
   "outputs": [],
   "source": [
    "avg_log_likelihoods = [lda_model.logLikelihood(rec_df) / rec_df_count for lda_model in crawl_ml_lda_models.values()]"
   ]
  },
  {
   "cell_type": "code",
   "execution_count": 34,
   "metadata": {
    "collapsed": false
   },
   "outputs": [
    {
     "data": {
      "text/plain": [
       "-1411.3833843002362"
      ]
     },
     "execution_count": 34,
     "metadata": {},
     "output_type": "execute_result"
    }
   ],
   "source": [
    "avg_log_likelihoods_5 = crawl_ml_lda_models[5].logLikelihood(rec_df) / rec_df_count\n",
    "avg_log_likelihoods_5"
   ]
  },
  {
   "cell_type": "code",
   "execution_count": 35,
   "metadata": {
    "collapsed": false
   },
   "outputs": [
    {
     "data": {
      "text/plain": [
       "-1527.5287279443762"
      ]
     },
     "execution_count": 35,
     "metadata": {},
     "output_type": "execute_result"
    }
   ],
   "source": [
    "avg_log_likelihoods_10 = crawl_ml_lda_models[10].logLikelihood(rec_df) / rec_df_count\n",
    "avg_log_likelihoods_10"
   ]
  },
  {
   "cell_type": "code",
   "execution_count": 36,
   "metadata": {
    "collapsed": false
   },
   "outputs": [
    {
     "data": {
      "text/plain": [
       "-1315.4057983335763"
      ]
     },
     "execution_count": 36,
     "metadata": {},
     "output_type": "execute_result"
    }
   ],
   "source": [
    "avg_log_likelihoods_20 = crawl_ml_lda_models[20].logLikelihood(rec_df) / rec_df_count\n",
    "avg_log_likelihoods_20"
   ]
  },
  {
   "cell_type": "code",
   "execution_count": 37,
   "metadata": {
    "collapsed": false
   },
   "outputs": [
    {
     "data": {
      "text/plain": [
       "-1281.0076656884612"
      ]
     },
     "execution_count": 37,
     "metadata": {},
     "output_type": "execute_result"
    }
   ],
   "source": [
    "avg_log_likelihoods_40 = crawl_ml_lda_models[40].logLikelihood(rec_df) / rec_df_count\n",
    "avg_log_likelihoods_40"
   ]
  },
  {
   "cell_type": "code",
   "execution_count": 38,
   "metadata": {
    "collapsed": false
   },
   "outputs": [
    {
     "data": {
      "text/plain": [
       "-1260.0765543436903"
      ]
     },
     "execution_count": 38,
     "metadata": {},
     "output_type": "execute_result"
    }
   ],
   "source": [
    "avg_log_likelihoods_60 = crawl_ml_lda_models[60].logLikelihood(rec_df) / rec_df_count\n",
    "avg_log_likelihoods_60"
   ]
  },
  {
   "cell_type": "code",
   "execution_count": 40,
   "metadata": {
    "collapsed": false
   },
   "outputs": [
    {
     "data": {
      "text/plain": [
       "-1248.9660229038013"
      ]
     },
     "execution_count": 40,
     "metadata": {},
     "output_type": "execute_result"
    }
   ],
   "source": [
    "avg_log_likelihoods_80 = crawl_ml_lda_models[80].logLikelihood(rec_df) / rec_df_count\n",
    "avg_log_likelihoods_80"
   ]
  },
  {
   "cell_type": "code",
   "execution_count": 39,
   "metadata": {
    "collapsed": false
   },
   "outputs": [
    {
     "data": {
      "text/plain": [
       "-1244.8974986142587"
      ]
     },
     "execution_count": 39,
     "metadata": {},
     "output_type": "execute_result"
    }
   ],
   "source": [
    "avg_log_likelihoods_100 = crawl_ml_lda_models[100].logLikelihood(rec_df) / rec_df_count\n",
    "avg_log_likelihoods_100"
   ]
  },
  {
   "cell_type": "code",
   "execution_count": 41,
   "metadata": {
    "collapsed": false
   },
   "outputs": [
    {
     "data": {
      "text/plain": [
       "-1242.9530473574825"
      ]
     },
     "execution_count": 41,
     "metadata": {},
     "output_type": "execute_result"
    }
   ],
   "source": [
    "avg_log_likelihoods_120 = crawl_ml_lda_models[120].logLikelihood(rec_df) / rec_df_count\n",
    "avg_log_likelihoods_120"
   ]
  },
  {
   "cell_type": "code",
   "execution_count": 42,
   "metadata": {
    "collapsed": false
   },
   "outputs": [
    {
     "data": {
      "text/plain": [
       "-1238.6143928329604"
      ]
     },
     "execution_count": 42,
     "metadata": {},
     "output_type": "execute_result"
    }
   ],
   "source": [
    "avg_log_likelihoods_140 = crawl_ml_lda_models[140].logLikelihood(rec_df) / rec_df_count\n",
    "avg_log_likelihoods_140"
   ]
  },
  {
   "cell_type": "code",
   "execution_count": 43,
   "metadata": {
    "collapsed": false
   },
   "outputs": [
    {
     "data": {
      "text/plain": [
       "-1238.3959330254254"
      ]
     },
     "execution_count": 43,
     "metadata": {},
     "output_type": "execute_result"
    }
   ],
   "source": [
    "avg_log_likelihoods_160 = crawl_ml_lda_models[160].logLikelihood(rec_df) / rec_df_count\n",
    "avg_log_likelihoods_160"
   ]
  },
  {
   "cell_type": "code",
   "execution_count": 44,
   "metadata": {
    "collapsed": false
   },
   "outputs": [
    {
     "data": {
      "text/plain": [
       "-1238.4028240545124"
      ]
     },
     "execution_count": 44,
     "metadata": {},
     "output_type": "execute_result"
    }
   ],
   "source": [
    "avg_log_likelihoods_180 = crawl_ml_lda_models[160].logLikelihood(rec_df) / rec_df_count\n",
    "avg_log_likelihoods_180"
   ]
  },
  {
   "cell_type": "code",
   "execution_count": 46,
   "metadata": {
    "collapsed": false
   },
   "outputs": [
    {
     "data": {
      "text/plain": [
       "-1237.5037872197345"
      ]
     },
     "execution_count": 46,
     "metadata": {},
     "output_type": "execute_result"
    }
   ],
   "source": [
    "avg_log_likelihoods_180 = crawl_ml_lda_models[180].logLikelihood(rec_df) / rec_df_count\n",
    "avg_log_likelihoods_180"
   ]
  },
  {
   "cell_type": "code",
   "execution_count": 47,
   "metadata": {
    "collapsed": false
   },
   "outputs": [
    {
     "data": {
      "text/plain": [
       "-1239.1449855880167"
      ]
     },
     "execution_count": 47,
     "metadata": {},
     "output_type": "execute_result"
    }
   ],
   "source": [
    "avg_log_likelihoods_200 = crawl_ml_lda_models[200].logLikelihood(rec_df) / rec_df_count\n",
    "avg_log_likelihoods_200"
   ]
  },
  {
   "cell_type": "code",
   "execution_count": 28,
   "metadata": {
    "collapsed": false
   },
   "outputs": [
    {
     "ename": "NameError",
     "evalue": "name 'avg_log_likelihoods_5' is not defined",
     "output_type": "error",
     "traceback": [
      "\u001b[0;31m---------------------------------------------------------------------------\u001b[0m",
      "\u001b[0;31mNameError\u001b[0m                                 Traceback (most recent call last)",
      "\u001b[0;32m<ipython-input-28-7b0fe66e1c28>\u001b[0m in \u001b[0;36m<module>\u001b[0;34m()\u001b[0m\n\u001b[1;32m      1\u001b[0m \u001b[0mavg_log_likelihoods\u001b[0m \u001b[0;34m=\u001b[0m \u001b[0;34m[\u001b[0m\u001b[0;34m]\u001b[0m\u001b[0;34m\u001b[0m\u001b[0m\n\u001b[0;32m----> 2\u001b[0;31m \u001b[0mavg_log_likelihoods\u001b[0m\u001b[0;34m.\u001b[0m\u001b[0mappend\u001b[0m\u001b[0;34m(\u001b[0m\u001b[0mavg_log_likelihoods_5\u001b[0m\u001b[0;34m)\u001b[0m\u001b[0;34m\u001b[0m\u001b[0m\n\u001b[0m\u001b[1;32m      3\u001b[0m \u001b[0mavg_log_likelihoods\u001b[0m\u001b[0;34m.\u001b[0m\u001b[0mappend\u001b[0m\u001b[0;34m(\u001b[0m\u001b[0mavg_log_likelihoods_10\u001b[0m\u001b[0;34m)\u001b[0m\u001b[0;34m\u001b[0m\u001b[0m\n\u001b[1;32m      4\u001b[0m \u001b[0mavg_log_likelihoods\u001b[0m\u001b[0;34m.\u001b[0m\u001b[0mappend\u001b[0m\u001b[0;34m(\u001b[0m\u001b[0mavg_log_likelihoods_20\u001b[0m\u001b[0;34m)\u001b[0m\u001b[0;34m\u001b[0m\u001b[0m\n\u001b[1;32m      5\u001b[0m \u001b[0mavg_log_likelihoods\u001b[0m\u001b[0;34m.\u001b[0m\u001b[0mappend\u001b[0m\u001b[0;34m(\u001b[0m\u001b[0mavg_log_likelihoods_40\u001b[0m\u001b[0;34m)\u001b[0m\u001b[0;34m\u001b[0m\u001b[0m\n",
      "\u001b[0;31mNameError\u001b[0m: name 'avg_log_likelihoods_5' is not defined"
     ]
    }
   ],
   "source": [
    "avg_log_likelihoods = []\n",
    "avg_log_likelihoods.append(avg_log_likelihoods_5)\n",
    "avg_log_likelihoods.append(avg_log_likelihoods_10)\n",
    "avg_log_likelihoods.append(avg_log_likelihoods_20)\n",
    "avg_log_likelihoods.append(avg_log_likelihoods_40)\n",
    "avg_log_likelihoods.append(avg_log_likelihoods_60)\n",
    "avg_log_likelihoods.append(avg_log_likelihoods_80)\n",
    "avg_log_likelihoods.append(avg_log_likelihoods_100)\n",
    "avg_log_likelihoods.append(avg_log_likelihoods_120)\n",
    "avg_log_likelihoods.append(avg_log_likelihoods_140)\n",
    "avg_log_likelihoods.append(avg_log_likelihoods_160)\n",
    "avg_log_likelihoods.append(avg_log_likelihoods_180)\n",
    "avg_log_likelihoods.append(avg_log_likelihoods_200)\n",
    "avg_log_likelihoods"
   ]
  },
  {
   "cell_type": "code",
   "execution_count": 29,
   "metadata": {
    "collapsed": true
   },
   "outputs": [],
   "source": [
    "avg_log_likelihoods = [-1411.3833843002362,\n",
    " -1527.5287279443762,\n",
    " -1315.4057983335763,\n",
    " -1281.0076656884612,\n",
    " -1260.0765543436903,\n",
    " -1248.9660229038013,\n",
    " -1244.8974986142587,\n",
    " -1242.9530473574825,\n",
    " -1238.6143928329604,\n",
    " -1238.3959330254254,\n",
    " -1237.5037872197345,\n",
    " -1239.1449855880167]"
   ]
  },
  {
   "cell_type": "code",
   "execution_count": 28,
   "metadata": {
    "collapsed": false
   },
   "outputs": [
    {
     "data": {
      "text/plain": [
       "5.892703217356241"
      ]
     },
     "execution_count": 28,
     "metadata": {},
     "output_type": "execute_result"
    }
   ],
   "source": [
    "log_perplexity_5 = crawl_ml_lda_models[5].logPerplexity(rec_df)\n",
    "log_perplexity_5"
   ]
  },
  {
   "cell_type": "code",
   "execution_count": 29,
   "metadata": {
    "collapsed": false
   },
   "outputs": [
    {
     "data": {
      "text/plain": [
       "6.399373446907069"
      ]
     },
     "execution_count": 29,
     "metadata": {},
     "output_type": "execute_result"
    }
   ],
   "source": [
    "log_perplexity_10 = crawl_ml_lda_models[10].logPerplexity(rec_df)\n",
    "log_perplexity_10"
   ]
  },
  {
   "cell_type": "code",
   "execution_count": 30,
   "metadata": {
    "collapsed": false
   },
   "outputs": [
    {
     "data": {
      "text/plain": [
       "5.493550393809575"
      ]
     },
     "execution_count": 30,
     "metadata": {},
     "output_type": "execute_result"
    }
   ],
   "source": [
    "log_perplexity_20 = crawl_ml_lda_models[20].logPerplexity(rec_df)\n",
    "log_perplexity_20"
   ]
  },
  {
   "cell_type": "code",
   "execution_count": 31,
   "metadata": {
    "collapsed": false
   },
   "outputs": [
    {
     "data": {
      "text/plain": [
       "5.34779276328921"
      ]
     },
     "execution_count": 31,
     "metadata": {},
     "output_type": "execute_result"
    }
   ],
   "source": [
    "log_perplexity_40 = crawl_ml_lda_models[40].logPerplexity(rec_df)\n",
    "log_perplexity_40"
   ]
  },
  {
   "cell_type": "code",
   "execution_count": 32,
   "metadata": {
    "collapsed": false
   },
   "outputs": [
    {
     "data": {
      "text/plain": [
       "5.2591860180907775"
      ]
     },
     "execution_count": 32,
     "metadata": {},
     "output_type": "execute_result"
    }
   ],
   "source": [
    "log_perplexity_60 = crawl_ml_lda_models[60].logPerplexity(rec_df)\n",
    "log_perplexity_60"
   ]
  },
  {
   "cell_type": "code",
   "execution_count": 33,
   "metadata": {
    "collapsed": false
   },
   "outputs": [
    {
     "data": {
      "text/plain": [
       "5.211879452771312"
      ]
     },
     "execution_count": 33,
     "metadata": {},
     "output_type": "execute_result"
    }
   ],
   "source": [
    "log_perplexity_80 = crawl_ml_lda_models[80].logPerplexity(rec_df)\n",
    "log_perplexity_80"
   ]
  },
  {
   "cell_type": "code",
   "execution_count": 34,
   "metadata": {
    "collapsed": false
   },
   "outputs": [
    {
     "data": {
      "text/plain": [
       "5.194302220595563"
      ]
     },
     "execution_count": 34,
     "metadata": {},
     "output_type": "execute_result"
    }
   ],
   "source": [
    "log_perplexity_100 = crawl_ml_lda_models[100].logPerplexity(rec_df)\n",
    "log_perplexity_100"
   ]
  },
  {
   "cell_type": "code",
   "execution_count": 35,
   "metadata": {
    "collapsed": false
   },
   "outputs": [
    {
     "data": {
      "text/plain": [
       "5.185742727925244"
      ]
     },
     "execution_count": 35,
     "metadata": {},
     "output_type": "execute_result"
    }
   ],
   "source": [
    "log_perplexity_120 = crawl_ml_lda_models[120].logPerplexity(rec_df)\n",
    "log_perplexity_120"
   ]
  },
  {
   "cell_type": "code",
   "execution_count": 36,
   "metadata": {
    "collapsed": false
   },
   "outputs": [
    {
     "data": {
      "text/plain": [
       "5.166392825010524"
      ]
     },
     "execution_count": 36,
     "metadata": {},
     "output_type": "execute_result"
    }
   ],
   "source": [
    "log_perplexity_140 = crawl_ml_lda_models[140].logPerplexity(rec_df)\n",
    "log_perplexity_140"
   ]
  },
  {
   "cell_type": "code",
   "execution_count": 37,
   "metadata": {
    "collapsed": false
   },
   "outputs": [
    {
     "data": {
      "text/plain": [
       "5.166107313758586"
      ]
     },
     "execution_count": 37,
     "metadata": {},
     "output_type": "execute_result"
    }
   ],
   "source": [
    "log_perplexity_160 = crawl_ml_lda_models[160].logPerplexity(rec_df)\n",
    "log_perplexity_160"
   ]
  },
  {
   "cell_type": "code",
   "execution_count": 38,
   "metadata": {
    "collapsed": false
   },
   "outputs": [
    {
     "data": {
      "text/plain": [
       "5.161214460076229"
      ]
     },
     "execution_count": 38,
     "metadata": {},
     "output_type": "execute_result"
    }
   ],
   "source": [
    "log_perplexity_180 = crawl_ml_lda_models[180].logPerplexity(rec_df)\n",
    "log_perplexity_180"
   ]
  },
  {
   "cell_type": "code",
   "execution_count": 39,
   "metadata": {
    "collapsed": false
   },
   "outputs": [
    {
     "data": {
      "text/plain": [
       "5.168333888209584"
      ]
     },
     "execution_count": 39,
     "metadata": {},
     "output_type": "execute_result"
    }
   ],
   "source": [
    "log_perplexity_200 = crawl_ml_lda_models[200].logPerplexity(rec_df)\n",
    "log_perplexity_200"
   ]
  },
  {
   "cell_type": "code",
   "execution_count": 40,
   "metadata": {
    "collapsed": false
   },
   "outputs": [
    {
     "data": {
      "text/plain": [
       "[5.892703217356241,\n",
       " 6.399373446907069,\n",
       " 5.493550393809575,\n",
       " 5.34779276328921,\n",
       " 5.2591860180907775,\n",
       " 5.211879452771312,\n",
       " 5.194302220595563,\n",
       " 5.185742727925244,\n",
       " 5.166392825010524,\n",
       " 5.166107313758586,\n",
       " 5.161214460076229,\n",
       " 5.168333888209584]"
      ]
     },
     "execution_count": 40,
     "metadata": {},
     "output_type": "execute_result"
    }
   ],
   "source": [
    "log_perplexities = []\n",
    "log_perplexities.append(log_perplexity_5)\n",
    "log_perplexities.append(log_perplexity_10)\n",
    "log_perplexities.append(log_perplexity_20)\n",
    "log_perplexities.append(log_perplexity_40)\n",
    "log_perplexities.append(log_perplexity_60)\n",
    "log_perplexities.append(log_perplexity_80)\n",
    "log_perplexities.append(log_perplexity_100)\n",
    "log_perplexities.append(log_perplexity_120)\n",
    "log_perplexities.append(log_perplexity_140)\n",
    "log_perplexities.append(log_perplexity_160)\n",
    "log_perplexities.append(log_perplexity_180)\n",
    "log_perplexities.append(log_perplexity_200)\n",
    "log_perplexities"
   ]
  },
  {
   "cell_type": "code",
   "execution_count": 30,
   "metadata": {
    "collapsed": true
   },
   "outputs": [],
   "source": [
    "log_perplexities = [5.892703217356241,\n",
    " 6.399373446907069,\n",
    " 5.493550393809575,\n",
    " 5.34779276328921,\n",
    " 5.2591860180907775,\n",
    " 5.211879452771312,\n",
    " 5.194302220595563,\n",
    " 5.185742727925244,\n",
    " 5.166392825010524,\n",
    " 5.166107313758586,\n",
    " 5.161214460076229,\n",
    " 5.168333888209584]"
   ]
  },
  {
   "cell_type": "code",
   "execution_count": 31,
   "metadata": {
    "collapsed": false
   },
   "outputs": [],
   "source": [
    "import matplotlib.pyplot as plt\n",
    "%matplotlib inline\n",
    "plt.style.use('ggplot')"
   ]
  },
  {
   "cell_type": "code",
   "execution_count": 32,
   "metadata": {
    "collapsed": false
   },
   "outputs": [
    {
     "data": {
      "image/png": "[encoded data removed]",
      "text/plain": [
       "<matplotlib.figure.Figure at 0x7f8066a3bd50>"
      ]
     },
     "metadata": {},
     "output_type": "display_data"
    }
   ],
   "source": [
    "fig = plt.figure(figsize=(8,8))\n",
    "ax1 = plt.subplot(211)\n",
    "ax1.plot(ntopics, avg_log_likelihoods, 'bo', ntopics, avg_log_likelihoods, 'r', linewidth=3)\n",
    "ax1.axvline(x=20)\n",
    "plt.xlabel('Number of topics')\n",
    "plt.ylabel('Average Log Liklihood')\n",
    "plt.xticks(np.linspace(0,200, 11, endpoint=True))\n",
    "ax2 = plt.subplot(212)\n",
    "ax2.plot(ntopics, log_perplexities, 'ro', ntopics, log_perplexities, 'k', linewidth=3)\n",
    "ax2.axvline(x=20)\n",
    "ax2.set_ylim(5,7)\n",
    "plt.xticks(np.linspace(0,200, 11, endpoint=True))\n",
    "plt.xlabel('Number of topics')\n",
    "plt.ylabel('Log Perplexity')\n",
    "plt.show()"
   ]
  },
  {
   "cell_type": "code",
   "execution_count": 33,
   "metadata": {
    "collapsed": false
   },
   "outputs": [],
   "source": [
    "topics = crawl_ml_lda_models[20].topicsMatrix()"
   ]
  },
  {
   "cell_type": "code",
   "execution_count": 34,
   "metadata": {
    "collapsed": false
   },
   "outputs": [
    {
     "name": "stdout",
     "output_type": "stream",
     "text": [
      "Learned topics (as distributions over vocab of 1000 words):\n"
     ]
    }
   ],
   "source": [
    "print(\"Learned topics (as distributions over vocab of \" + str(crawl_ml_lda_models[20].vocabSize())\n",
    "      + \" words):\")"
   ]
  },
  {
   "cell_type": "code",
   "execution_count": 35,
   "metadata": {
    "collapsed": false
   },
   "outputs": [],
   "source": [
    "# for topic in range(10):\n",
    "#     print(\"Topic \" + str(topic) + \":\")\n",
    "#     for word in range(0, crawl_ml_lda_model_10_topics.vocabSize()):\n",
    "#         print (\"{}, {}\".format(topic, word))\n",
    "# #        print(\" \" + str(topics[word][topic]))"
   ]
  },
  {
   "cell_type": "code",
   "execution_count": 36,
   "metadata": {
    "collapsed": false
   },
   "outputs": [
    {
     "data": {
      "text/plain": [
       "(20, 1000)"
      ]
     },
     "execution_count": 36,
     "metadata": {},
     "output_type": "execute_result"
    }
   ],
   "source": [
    "topics.toArray().T.shape"
   ]
  },
  {
   "cell_type": "code",
   "execution_count": 37,
   "metadata": {
    "collapsed": true
   },
   "outputs": [],
   "source": [
    "vocab_list = cv_model.vocabulary"
   ]
  },
  {
   "cell_type": "code",
   "execution_count": 38,
   "metadata": {
    "collapsed": false
   },
   "outputs": [],
   "source": [
    "topic_indices = crawl_ml_lda_models[20].describeTopics(maxTermsPerTopic=100)\n",
    "term_indices = topic_indices.select(\"termIndices\").rdd.flatMap(lambda x: x).collect()\n",
    "term_weights = topic_indices.select(\"termWeights\").rdd.flatMap(lambda x: x).collect()\n",
    "vocab_indices = [[vocab_list[idx] for idx in term_idx] for term_idx in term_indices]"
   ]
  },
  {
   "cell_type": "code",
   "execution_count": 39,
   "metadata": {
    "collapsed": false
   },
   "outputs": [
    {
     "name": "stdout",
     "output_type": "stream",
     "text": [
      "+-----+--------------------+--------------------+\n",
      "|topic|         termIndices|         termWeights|\n",
      "+-----+--------------------+--------------------+\n",
      "|    0|[0, 909, 125, 3, ...|[0.47951335231903...|\n",
      "|    1|[48, 12, 5, 17, 1...|[0.04317618704052...|\n",
      "|    2|[3, 47, 75, 91, 0...|[0.13966219817158...|\n",
      "|    3|[2, 42, 58, 10, 9...|[0.12165712746906...|\n",
      "|    4|[3, 1, 16, 26, 32...|[0.02877821508285...|\n",
      "|    5|[0, 5, 12, 151, 1...|[0.06744020884630...|\n",
      "|    6|[6, 11, 19, 21, 4...|[0.13143329207090...|\n",
      "|    7|[98, 15, 226, 145...|[0.07752014324791...|\n",
      "|    8|[2, 29, 95, 407, ...|[0.12190104546369...|\n",
      "|    9|[44, 7, 220, 1, 9...|[0.19362743835840...|\n",
      "|   10|[9, 269, 3, 152, ...|[0.01881752696336...|\n",
      "|   11|[35, 18, 78, 80, ...|[0.10672163557245...|\n",
      "|   12|[174, 314, 57, 32...|[0.03598768558402...|\n",
      "|   13|[1, 72, 64, 9, 10...|[0.11078182026957...|\n",
      "|   14|[14, 0, 90, 3, 5,...|[0.05261614351491...|\n",
      "|   15|[4, 37, 8, 103, 1...|[0.17546930679952...|\n",
      "|   16|[8, 52, 29, 113, ...|[0.14410878448800...|\n",
      "|   17|[2, 13, 10, 45, 4...|[0.17731439381921...|\n",
      "|   18|[309, 467, 422, 5...|[0.06275918344753...|\n",
      "|   19|[25, 70, 56, 114,...|[0.01331871565766...|\n",
      "+-----+--------------------+--------------------+\n",
      "\n"
     ]
    }
   ],
   "source": [
    "topic_indices.show()"
   ]
  },
  {
   "cell_type": "code",
   "execution_count": 40,
   "metadata": {
    "collapsed": false
   },
   "outputs": [
    {
     "data": {
      "text/plain": [
       "[[u'-',\n",
       "  u'floyd',\n",
       "  u'--',\n",
       "  u'|',\n",
       "  u'j.',\n",
       "  u'/',\n",
       "  u'1',\n",
       "  u'2',\n",
       "  u'de',\n",
       "  u'\\xe2\\x96\\xba',\n",
       "  u'a.',\n",
       "  u'&',\n",
       "  u'ford',\n",
       "  u'm.',\n",
       "  u'c.',\n",
       "  u'eur',\n",
       "  u':',\n",
       "  u'3',\n",
       "  u'history',\n",
       "  u'...',\n",
       "  u'\\xe2\\xbb',\n",
       "  u'new',\n",
       "  u'\\xe2\\x80\\x93',\n",
       "  u'united',\n",
       "  u'english',\n",
       "  u'2016',\n",
       "  u'4',\n",
       "  u'5',\n",
       "  u'>',\n",
       "  u'0',\n",
       "  u'collection',\n",
       "  u'american',\n",
       "  u'10',\n",
       "  u'ago',\n",
       "  u'series',\n",
       "  u'6',\n",
       "  u'+',\n",
       "  u'south',\n",
       "  u'e',\n",
       "  u'us',\n",
       "  u'\\xe2\\xa9',\n",
       "  u'la',\n",
       "  u'(1)',\n",
       "  u'w',\n",
       "  u'states',\n",
       "  u'c',\n",
       "  u'en',\n",
       "  u'2015',\n",
       "  u'8',\n",
       "  u'search',\n",
       "  u'view',\n",
       "  u'7',\n",
       "  u'home',\n",
       "  u'na',\n",
       "  u'f',\n",
       "  u'top',\n",
       "  u'online',\n",
       "  u'free',\n",
       "  u'pm',\n",
       "  u'final',\n",
       "  u'one',\n",
       "  u'world',\n",
       "  u'watch',\n",
       "  u'30',\n",
       "  u'day',\n",
       "  u'usa',\n",
       "  u'(2)',\n",
       "  u'family',\n",
       "  u'z',\n",
       "  u'blog',\n",
       "  u'november',\n",
       "  u'contact',\n",
       "  u'facebook',\n",
       "  u'may',\n",
       "  u'total',\n",
       "  u'part',\n",
       "  u'9',\n",
       "  u'science',\n",
       "  u'x',\n",
       "  u'north',\n",
       "  u'ja',\n",
       "  u'download',\n",
       "  u'black',\n",
       "  u'copyright',\n",
       "  u'12',\n",
       "  u'state',\n",
       "  u'live',\n",
       "  u'100%',\n",
       "  u'v',\n",
       "  u'country',\n",
       "  u'20',\n",
       "  u'15',\n",
       "  u'september',\n",
       "  u'april',\n",
       "  u'b',\n",
       "  u'time',\n",
       "  u'email',\n",
       "  u'100',\n",
       "  u'high',\n",
       "  u'days'],\n",
       " [u'.',\n",
       "  u'2',\n",
       "  u'1',\n",
       "  u'3',\n",
       "  u',',\n",
       "  u'4',\n",
       "  u'ago',\n",
       "  u'hotel',\n",
       "  u'hotels',\n",
       "  u'sony',\n",
       "  u'5',\n",
       "  u'galaxy',\n",
       "  u'add',\n",
       "  u'6',\n",
       "  u'iphone',\n",
       "  u'reviews',\n",
       "  u'$',\n",
       "  u'10',\n",
       "  u'7',\n",
       "  u'days',\n",
       "  u'view',\n",
       "  u'-',\n",
       "  u'years',\n",
       "  u'samsung',\n",
       "  u'/',\n",
       "  u'details',\n",
       "  u'review',\n",
       "  u'miles',\n",
       "  u'8',\n",
       "  u'hot',\n",
       "  u'one',\n",
       "  u'customer',\n",
       "  u'check',\n",
       "  u'|',\n",
       "  u'body',\n",
       "  u'map',\n",
       "  u'months',\n",
       "  u'price',\n",
       "  u'show',\n",
       "  u'us',\n",
       "  u'&',\n",
       "  u'new',\n",
       "  u'best',\n",
       "  u'available',\n",
       "  u'use',\n",
       "  u'parts',\n",
       "  u'jobs',\n",
       "  u'free',\n",
       "  u'note',\n",
       "  u'mini',\n",
       "  u'united',\n",
       "  u'km',\n",
       "  u'9',\n",
       "  u'2016',\n",
       "  u'near',\n",
       "  u'prices',\n",
       "  u'league',\n",
       "  u'property',\n",
       "  u'get',\n",
       "  u'search',\n",
       "  u'>',\n",
       "  u'x',\n",
       "  u'plus',\n",
       "  u'find',\n",
       "  u'type',\n",
       "  u'last',\n",
       "  u'part',\n",
       "  u'\\xe2\\x80\\x93',\n",
       "  u'see',\n",
       "  u'contact',\n",
       "  u'city',\n",
       "  u'used',\n",
       "  u'book',\n",
       "  u'photos',\n",
       "  u'within',\n",
       "  u'12',\n",
       "  u'\\xe2\\x80\\xba',\n",
       "  u'stay',\n",
       "  u'case',\n",
       "  u'power',\n",
       "  u'grand',\n",
       "  u'pro',\n",
       "  u'job',\n",
       "  u'location',\n",
       "  u'please',\n",
       "  u'cart',\n",
       "  u'night',\n",
       "  u'ii',\n",
       "  u'india',\n",
       "  u'internet',\n",
       "  u':',\n",
       "  u'phone',\n",
       "  u'hours',\n",
       "  u'year',\n",
       "  u'home',\n",
       "  u'google',\n",
       "  u'beach',\n",
       "  u'save',\n",
       "  u'island',\n",
       "  u'service'],\n",
       " [u'|',\n",
       "  u'und',\n",
       "  u'die',\n",
       "  u'der',\n",
       "  u'-',\n",
       "  u'f\\xe3\\xbcr',\n",
       "  u'sie',\n",
       "  u'von',\n",
       "  u'mit',\n",
       "  u'&',\n",
       "  u'zu',\n",
       "  u'den',\n",
       "  u'auf',\n",
       "  u'das',\n",
       "  u'26',\n",
       "  u'ist',\n",
       "  u'alle',\n",
       "  u'bei',\n",
       "  u'/',\n",
       "  u'ein',\n",
       "  u'ich',\n",
       "  u'nicht',\n",
       "  u'oder',\n",
       "  u'eine',\n",
       "  u'sich',\n",
       "  u'es',\n",
       "  u'des',\n",
       "  u'ca',\n",
       "  u'auch',\n",
       "  u'dem',\n",
       "  u'\\xe2\\x82\\xac',\n",
       "  u'um',\n",
       "  u'als',\n",
       "  u'hat',\n",
       "  u'1',\n",
       "  u'2',\n",
       "  u'\\xe2\\x80\\x93',\n",
       "  u'\\xe2\\xbb',\n",
       "  u'du',\n",
       "  u'>',\n",
       "  u'man',\n",
       "  u'3',\n",
       "  u'5',\n",
       "  u'\\xf0\\xb4\\xf0\\xbb\\xf1\\x8f',\n",
       "  u'\\xe2\\xa9',\n",
       "  u'0',\n",
       "  u'2016',\n",
       "  u'...',\n",
       "  u'4',\n",
       "  u'\\xf1\\x81',\n",
       "  u'*',\n",
       "  u'+',\n",
       "  u'er',\n",
       "  u'newsletter',\n",
       "  u'10',\n",
       "  u'online',\n",
       "  u'da',\n",
       "  u'service',\n",
       "  u'per',\n",
       "  u'forum',\n",
       "  u'e-mail',\n",
       "  u'war',\n",
       "  u'6',\n",
       "  u'facebook',\n",
       "  u'news',\n",
       "  u'pro',\n",
       "  u'ja',\n",
       "  u'7',\n",
       "  u'x',\n",
       "  u'usa',\n",
       "  u'sport',\n",
       "  u'8',\n",
       "  u'100',\n",
       "  u'km',\n",
       "  u'videos',\n",
       "  u'video',\n",
       "  u'jobs',\n",
       "  u'login',\n",
       "  u'shop',\n",
       "  u'website',\n",
       "  u'windows',\n",
       "  u'30',\n",
       "  u'2012',\n",
       "  u'home',\n",
       "  u'floyd',\n",
       "  u'eur',\n",
       "  u'copyright',\n",
       "  u'twitter',\n",
       "  u'top',\n",
       "  u'faq',\n",
       "  u'cookies',\n",
       "  u'2015',\n",
       "  u'2013',\n",
       "  u'google',\n",
       "  u'50',\n",
       "  u'sex',\n",
       "  u'dr.',\n",
       "  u'1.',\n",
       "  u'mm',\n",
       "  u'2014'],\n",
       " [u'de',\n",
       "  u'et',\n",
       "  u'\\xe3\\xa0',\n",
       "  u'la',\n",
       "  u'les',\n",
       "  u'le',\n",
       "  u':',\n",
       "  u'en',\n",
       "  u'des',\n",
       "  u'du',\n",
       "  u'pour',\n",
       "  u'un',\n",
       "  u'-',\n",
       "  u'sur',\n",
       "  u'main',\n",
       "  u'vous',\n",
       "  u'par',\n",
       "  u'og',\n",
       "  u'une',\n",
       "  u'screen',\n",
       "  u'votre',\n",
       "  u'au',\n",
       "  u'plus',\n",
       "  u'dans',\n",
       "  u'est',\n",
       "  u'pas',\n",
       "  u'\\xf9\\x81\\xf9\\x8a',\n",
       "  u'(max-width:',\n",
       "  u'ce',\n",
       "  u'que',\n",
       "  u'avec',\n",
       "  u'|',\n",
       "  u'ou',\n",
       "  u'os',\n",
       "  u'1',\n",
       "  u'qui',\n",
       "  u'/',\n",
       "  u'2',\n",
       "  u'?',\n",
       "  u'ne',\n",
       "  u'!',\n",
       "  u'0',\n",
       "  u'je',\n",
       "  u'il',\n",
       "  u'se',\n",
       "  u'\\xe2\\x82\\xac',\n",
       "  u'>',\n",
       "  u'son',\n",
       "  u']',\n",
       "  u'&',\n",
       "  u'site',\n",
       "  u'[',\n",
       "  u'+',\n",
       "  u'60',\n",
       "  u'2016',\n",
       "  u'3',\n",
       "  u'5',\n",
       "  u'\\xe2\\xbb',\n",
       "  u'mais',\n",
       "  u'si',\n",
       "  u'.',\n",
       "  u'4',\n",
       "  u'er',\n",
       "  u'articles',\n",
       "  u'sa',\n",
       "  u'service',\n",
       "  u'table',\n",
       "  u'services',\n",
       "  u'page',\n",
       "  u'10',\n",
       "  u'\\xe2\\x80\\x93',\n",
       "  u'plan',\n",
       "  u'conditions',\n",
       "  u'\\xe2\\xa9',\n",
       "  u'non',\n",
       "  u'...',\n",
       "  u'facebook',\n",
       "  u'30',\n",
       "  u'15',\n",
       "  u',',\n",
       "  u'\\xe2\\xab',\n",
       "  u'*',\n",
       "  u'6',\n",
       "  u'\\xe2\\x80\\xa6',\n",
       "  u'contact',\n",
       "  u'code',\n",
       "  u'photos',\n",
       "  u'forum',\n",
       "  u'type',\n",
       "  u'comment',\n",
       "  u'cookies',\n",
       "  u'twitter',\n",
       "  u'archives',\n",
       "  u'$',\n",
       "  u'internet',\n",
       "  u'usd',\n",
       "  u'12',\n",
       "  u'newsletter',\n",
       "  u'sport',\n",
       "  u'tu'],\n",
       " [u'|',\n",
       "  u'&',\n",
       "  u'us',\n",
       "  u'search',\n",
       "  u'news',\n",
       "  u'contact',\n",
       "  u'home',\n",
       "  u'information',\n",
       "  u'-',\n",
       "  u'new',\n",
       "  u'privacy',\n",
       "  u'email',\n",
       "  u'sign',\n",
       "  u'\\xe2\\xbb',\n",
       "  u'use',\n",
       "  u'business',\n",
       "  u'services',\n",
       "  u'terms',\n",
       "  u'page',\n",
       "  u'policy',\n",
       "  u'site',\n",
       "  u'view',\n",
       "  u'help',\n",
       "  u'free',\n",
       "  u'\\xe2\\xa9',\n",
       "  u'service',\n",
       "  u'please',\n",
       "  u'2016',\n",
       "  u'account',\n",
       "  u'support',\n",
       "  u'data',\n",
       "  u'get',\n",
       "  u'online',\n",
       "  u'content',\n",
       "  u'facebook',\n",
       "  u'rights',\n",
       "  u'copyright',\n",
       "  u'login',\n",
       "  u'software',\n",
       "  u'health',\n",
       "  u'top',\n",
       "  u'center',\n",
       "  u'find',\n",
       "  u'/',\n",
       "  u'add',\n",
       "  u'media',\n",
       "  u'download',\n",
       "  u'events',\n",
       "  u'web',\n",
       "  u'twitter',\n",
       "  u'mobile',\n",
       "  u'club',\n",
       "  u'name',\n",
       "  u'website',\n",
       "  u'log',\n",
       "  u'number',\n",
       "  u'research',\n",
       "  u'access',\n",
       "  u'company',\n",
       "  u'community',\n",
       "  u'list',\n",
       "  u'share',\n",
       "  u'report',\n",
       "  u'may',\n",
       "  u'history',\n",
       "  u'register',\n",
       "  u'create',\n",
       "  u'browse',\n",
       "  u'management',\n",
       "  u'blog',\n",
       "  u'password',\n",
       "  u'map',\n",
       "  u'video',\n",
       "  u'education',\n",
       "  u'international',\n",
       "  u'>',\n",
       "  u'sports',\n",
       "  u'address',\n",
       "  u'collection',\n",
       "  u'social',\n",
       "  u'read',\n",
       "  u'follow',\n",
       "  u'click',\n",
       "  u'reserved.',\n",
       "  u'inc.',\n",
       "  u'bank',\n",
       "  u'jobs',\n",
       "  u'security',\n",
       "  u'subscribe',\n",
       "  u'code',\n",
       "  u'book',\n",
       "  u'file',\n",
       "  u'library',\n",
       "  u'personal',\n",
       "  u'digital',\n",
       "  u'submit',\n",
       "  u'user',\n",
       "  u'real',\n",
       "  u'close',\n",
       "  u'press'],\n",
       " [u'-',\n",
       "  u'1',\n",
       "  u'2',\n",
       "  u'\\xe3\\x97',\n",
       "  u'3',\n",
       "  u'5',\n",
       "  u'4',\n",
       "  u'10',\n",
       "  u'6',\n",
       "  u'7',\n",
       "  u'20',\n",
       "  u'24',\n",
       "  u'png',\n",
       "  u'16',\n",
       "  u'12',\n",
       "  u'x',\n",
       "  u'8',\n",
       "  u'14',\n",
       "  u'9',\n",
       "  u'11',\n",
       "  u'0',\n",
       "  u'px',\n",
       "  u'15',\n",
       "  u'13',\n",
       "  u'25',\n",
       "  u'30',\n",
       "  u'19',\n",
       "  u'17',\n",
       "  u'21',\n",
       "  u'18',\n",
       "  u'22',\n",
       "  u'im',\n",
       "  u'23',\n",
       "  u'27',\n",
       "  u'&',\n",
       "  u'28',\n",
       "  u'29',\n",
       "  u'32',\n",
       "  u'48',\n",
       "  u'min',\n",
       "  u'windows',\n",
       "  u'field',\n",
       "  u'mm',\n",
       "  u'31',\n",
       "  u'tickets',\n",
       "  u'50',\n",
       "  u'2016',\n",
       "  u'/',\n",
       "  u'buy',\n",
       "  u'info',\n",
       "  u'(0)',\n",
       "  u'40',\n",
       "  u'natural',\n",
       "  u'body',\n",
       "  u'|',\n",
       "  u'price:',\n",
       "  u'offer',\n",
       "  u'please',\n",
       "  u'dec',\n",
       "  u'view',\n",
       "  u'download',\n",
       "  u'premium',\n",
       "  u'\\xe2\\xa9',\n",
       "  u'\\xf9\\x85\\xf9\\x86',\n",
       "  u'free',\n",
       "  u'2017',\n",
       "  u'class',\n",
       "  u'page',\n",
       "  u'f',\n",
       "  u'100',\n",
       "  u'france',\n",
       "  u'audio',\n",
       "  u'w',\n",
       "  u'home',\n",
       "  u'\\xe2\\xbb',\n",
       "  u'>',\n",
       "  u'us',\n",
       "  u'new',\n",
       "  u'see',\n",
       "  u'online',\n",
       "  u'valid',\n",
       "  u'english',\n",
       "  u'store',\n",
       "  u'copyright',\n",
       "  u'sale',\n",
       "  u'may',\n",
       "  u'must',\n",
       "  u'options',\n",
       "  u'service',\n",
       "  u'set',\n",
       "  u'price',\n",
       "  u'music',\n",
       "  u'review',\n",
       "  u'tv',\n",
       "  u'02',\n",
       "  u'facebook',\n",
       "  u'iphone',\n",
       "  u'top',\n",
       "  u'h',\n",
       "  u'pm'],\n",
       " [u'\\xf0\\xb8',\n",
       "  u'\\xf0\\xb2',\n",
       "  u'\\xf0\\xb4\\xf0\\xbb\\xf1\\x8f',\n",
       "  u'\\xf0\\xbd\\xf0\\xb0',\n",
       "  u'\\xf1\\x81',\n",
       "  u'/',\n",
       "  u'\\xf0\\xbd\\xf0\\xb5',\n",
       "  u'\\xf0\\xbf\\xf0\\xbe',\n",
       "  u'-',\n",
       "  u'\\xf0\\xbe\\xf1\\x82',\n",
       "  u'\\xf0\\x92',\n",
       "  u'\\xf0\\xb8\\xf0\\xb7',\n",
       "  u'\\xf0\\xb7\\xf0\\xb0',\n",
       "  u'\\xf1\\x87\\xf1\\x82\\xf0\\xbe',\n",
       "  u'\\xf0\\xba',\n",
       "  u'\\xf0\\xbe',\n",
       "  u'\\xf0\\xb8\\xf0\\xbb\\xf0\\xb8',\n",
       "  u'\\xf0\\xb4\\xf0\\xbe',\n",
       "  u'1',\n",
       "  u'\\xe2\\x80\\x93',\n",
       "  u'\\xf0\\xba\\xf0\\xb0\\xf0\\xba',\n",
       "  u'\\xe2\\x80\\x94',\n",
       "  u'\\xf0\\xbf\\xf1\\x80\\xf0\\xb8',\n",
       "  u'\\xf1\\x80\\xf1\\x83\\xf0\\xb1.',\n",
       "  u'|',\n",
       "  u'\\xf1\\x83',\n",
       "  u'\\xf0\\x92\\xf1\\x81\\xf0\\xb5',\n",
       "  u'2',\n",
       "  u'\\xf0\\xbe\\xf0\\xb1\\xf0\\xbb\\xf0\\xb0\\xf1\\x81\\xf1\\x82\\xf1\\x8c',\n",
       "  u'\\xf0\\xb2\\xf1\\x81\\xf0\\xb5',\n",
       "  u'\\xf0\\xb0',\n",
       "  u'0',\n",
       "  u'\\xf0\\x94\\xf0\\xbb\\xf1\\x8f',\n",
       "  u'\\xf1\\x8d\\xf1\\x82\\xf0\\xbe',\n",
       "  u'2016',\n",
       "  u'3',\n",
       "  u'\\xf0\\x92\\xf1\\x8b',\n",
       "  u'\\xf0\\x9e',\n",
       "  u'\\xf0\\x9d\\xf0\\xb0',\n",
       "  u'\\xf0\\x9d\\xf0\\xbe\\xf0\\xb2\\xf0\\xbe\\xf1\\x81\\xf1\\x82\\xf0\\xb8',\n",
       "  u'\\xf0\\xb2\\xf1\\x8b',\n",
       "  u'\\xe2\\xbb',\n",
       "  u'\\xf0\\x9a\\xf1\\x83\\xf0\\xbf\\xf0\\xb8\\xf1\\x82\\xf1\\x8c',\n",
       "  u'\\xe2\\xa9',\n",
       "  u'\\xf0\\xb3.',\n",
       "  u'5',\n",
       "  u'8',\n",
       "  u'4',\n",
       "  u'10',\n",
       "  u'000',\n",
       "  u'(0)',\n",
       "  u'\\xe2\\x86\\x92',\n",
       "  u'6',\n",
       "  u',',\n",
       "  u'7',\n",
       "  u'>',\n",
       "  u'...',\n",
       "  u'*',\n",
       "  u'+',\n",
       "  u'2013',\n",
       "  u'2015',\n",
       "  u'30',\n",
       "  u'20',\n",
       "  u'12',\n",
       "  u'15',\n",
       "  u'9',\n",
       "  u'100',\n",
       "  u'2016,',\n",
       "  u'13',\n",
       "  u'14',\n",
       "  u'e-mail',\n",
       "  u'50',\n",
       "  u'25',\n",
       "  u'facebook',\n",
       "  u'11',\n",
       "  u'200',\n",
       "  u'2014',\n",
       "  u'18',\n",
       "  u'17',\n",
       "  u'500',\n",
       "  u'29',\n",
       "  u'2017',\n",
       "  u'16',\n",
       "  u'#',\n",
       "  u'28',\n",
       "  u'1.',\n",
       "  u'france',\n",
       "  u'23',\n",
       "  u'40',\n",
       "  u'24',\n",
       "  u'22',\n",
       "  u'x',\n",
       "  u'21',\n",
       "  u'2.',\n",
       "  u'3d',\n",
       "  u'c',\n",
       "  u'yang',\n",
       "  u'02',\n",
       "  u'.',\n",
       "  u'27'],\n",
       " [u'na',\n",
       "  u'2016',\n",
       "  u'z',\n",
       "  u'w',\n",
       "  u'\\xe2\\x80\\x93',\n",
       "  u'v',\n",
       "  u'article',\n",
       "  u'se',\n",
       "  u'je',\n",
       "  u'gallery',\n",
       "  u'music',\n",
       "  u'u',\n",
       "  u'pro',\n",
       "  u'-',\n",
       "  u'k',\n",
       "  u'|',\n",
       "  u'1',\n",
       "  u'sa',\n",
       "  u'movie',\n",
       "  u'si',\n",
       "  u'mi',\n",
       "  u'movies',\n",
       "  u'november',\n",
       "  u'2',\n",
       "  u'tv',\n",
       "  u'/',\n",
       "  u'\\xe2\\xbb',\n",
       "  u'b',\n",
       "  u'0',\n",
       "  u'\\xe2\\xa9',\n",
       "  u'2015',\n",
       "  u'r',\n",
       "  u'c',\n",
       "  u'n',\n",
       "  u'000',\n",
       "  u'l',\n",
       "  u'3',\n",
       "  u'j',\n",
       "  u'g',\n",
       "  u'e',\n",
       "  u'p',\n",
       "  u'live',\n",
       "  u'h',\n",
       "  u'video',\n",
       "  u'f',\n",
       "  u'2.',\n",
       "  u'5',\n",
       "  u'1.',\n",
       "  u'watch',\n",
       "  u'10',\n",
       "  u'da',\n",
       "  u'&',\n",
       "  u'december',\n",
       "  u'online',\n",
       "  u'x',\n",
       "  u'facebook',\n",
       "  u'4',\n",
       "  u'\\xe2\\x86\\x92',\n",
       "  u'...',\n",
       "  u'copyright',\n",
       "  u'sport',\n",
       "  u'new',\n",
       "  u'6',\n",
       "  u'30',\n",
       "  u'e-mail',\n",
       "  u'>',\n",
       "  u'100',\n",
       "  u'ne',\n",
       "  u'2014',\n",
       "  u'rss',\n",
       "  u'top',\n",
       "  u'\\xe2\\x80\\xba',\n",
       "  u'2012',\n",
       "  u'20',\n",
       "  u'home',\n",
       "  u'blog',\n",
       "  u'tu',\n",
       "  u',',\n",
       "  u'menu',\n",
       "  u'200',\n",
       "  u'read',\n",
       "  u'program',\n",
       "  u'images',\n",
       "  u'2013',\n",
       "  u'full',\n",
       "  u'2,',\n",
       "  u'500',\n",
       "  u'comments',\n",
       "  u'cookies',\n",
       "  u'15',\n",
       "  u'email',\n",
       "  u'auto',\n",
       "  u'*',\n",
       "  u'film',\n",
       "  u'american',\n",
       "  u'su',\n",
       "  u'1,',\n",
       "  u'english',\n",
       "  u'by:',\n",
       "  u'23'],\n",
       " [u'de',\n",
       "  u'e',\n",
       "  u'\\xe2\\x82\\xac',\n",
       "  u'em',\n",
       "  u'da',\n",
       "  u'-',\n",
       "  u'para',\n",
       "  u'com',\n",
       "  u'que',\n",
       "  u'mais',\n",
       "  u'\\xf0\\xb2',\n",
       "  u'um',\n",
       "  u'\\xf9\\x85\\xf9\\x86',\n",
       "  u'1',\n",
       "  u'\\xf0\\xb8',\n",
       "  u'library',\n",
       "  u'|',\n",
       "  u'2',\n",
       "  u'por',\n",
       "  u'ou',\n",
       "  u'na',\n",
       "  u'public',\n",
       "  u'\\xe3\\xa0',\n",
       "  u'3',\n",
       "  u'\\xf0\\xbd\\xf0\\xb0',\n",
       "  u'\\xe2\\x80\\x94',\n",
       "  u'/',\n",
       "  u'5',\n",
       "  u'como',\n",
       "  u'se',\n",
       "  u'\\xf0\\x92',\n",
       "  u'\\xe2\\x80\\x93',\n",
       "  u'\\xf1\\x81',\n",
       "  u'x',\n",
       "  u'das',\n",
       "  u'4',\n",
       "  u'sobre',\n",
       "  u'+',\n",
       "  u'*',\n",
       "  u'7',\n",
       "  u'0',\n",
       "  u'6',\n",
       "  u'\\xf0\\xbf\\xf0\\xbe',\n",
       "  u'\\xf1\\x80\\xf1\\x83\\xf0\\xb1.',\n",
       "  u'\\xe2\\xa9',\n",
       "  u'8',\n",
       "  u'\\xf0\\xbd\\xf0\\xb5',\n",
       "  u'10',\n",
       "  u'2016',\n",
       "  u'ver',\n",
       "  u'>',\n",
       "  u'2014',\n",
       "  u'la',\n",
       "  u'&',\n",
       "  u'site',\n",
       "  u'15',\n",
       "  u'n',\n",
       "  u'b',\n",
       "  u'este',\n",
       "  u'county',\n",
       "  u'\\xf0\\xbe\\xf1\\x82',\n",
       "  u'11',\n",
       "  u'c',\n",
       "  u'30',\n",
       "  u'50',\n",
       "  u'e-mail',\n",
       "  u'12',\n",
       "  u',',\n",
       "  u'=',\n",
       "  u'\\xe3\\x97',\n",
       "  u'\\xf0\\xb8\\xf0\\xb7',\n",
       "  u'.',\n",
       "  u'\\xf0\\xbe',\n",
       "  u'en',\n",
       "  u'total',\n",
       "  u'2015',\n",
       "  u':',\n",
       "  u'...',\n",
       "  u'9',\n",
       "  u'\\xf0\\xb7\\xf0\\xb0',\n",
       "  u'2013',\n",
       "  u'20',\n",
       "  u'tv',\n",
       "  u'100',\n",
       "  u'\\xf0\\x9a\\xf1\\x83\\xf0\\xbf\\xf0\\xb8\\xf1\\x82\\xf1\\x8c',\n",
       "  u'14',\n",
       "  u's.',\n",
       "  u'\\xf0\\xb8\\xf0\\xbb\\xf0\\xb8',\n",
       "  u'facebook',\n",
       "  u'2012',\n",
       "  u'\\xf0\\xb4\\xf0\\xbb\\xf1\\x8f',\n",
       "  u'\\xe2\\xbb',\n",
       "  u'\\xf1\\x87\\xf1\\x82\\xf0\\xbe',\n",
       "  u'24',\n",
       "  u'\\xf0\\xba',\n",
       "  u'25',\n",
       "  u'et',\n",
       "  u'2011',\n",
       "  u'000',\n",
       "  u'menu'],\n",
       " [u'\\xe2\\x80\\xa2',\n",
       "  u'/',\n",
       "  u'games',\n",
       "  u'&',\n",
       "  u'dvd',\n",
       "  u'}',\n",
       "  u'{',\n",
       "  u'pc',\n",
       "  u'hair',\n",
       "  u'2',\n",
       "  u'1',\n",
       "  u'-',\n",
       "  u'0',\n",
       "  u'+',\n",
       "  u'video',\n",
       "  u'new',\n",
       "  u'one',\n",
       "  u'game',\n",
       "  u'4',\n",
       "  u'3',\n",
       "  u'tv',\n",
       "  u'=',\n",
       "  u'windows',\n",
       "  u'accessories',\n",
       "  u'view',\n",
       "  u'top',\n",
       "  u'|',\n",
       "  u'us',\n",
       "  u'home',\n",
       "  u'live',\n",
       "  u'public',\n",
       "  u'news',\n",
       "  u'5',\n",
       "  u'u',\n",
       "  u'post',\n",
       "  u'action',\n",
       "  u'10',\n",
       "  u'daily',\n",
       "  u'free',\n",
       "  u'>',\n",
       "  u'2016',\n",
       "  u'search',\n",
       "  u'sports',\n",
       "  u'1.',\n",
       "  u'2.',\n",
       "  u'digital',\n",
       "  u'site',\n",
       "  u'pm',\n",
       "  u'date:',\n",
       "  u'see',\n",
       "  u'photos',\n",
       "  u'software',\n",
       "  u'forum',\n",
       "  u'time',\n",
       "  u'8',\n",
       "  u'7',\n",
       "  u'online',\n",
       "  u'get',\n",
       "  u'\\xe2\\xa9',\n",
       "  u'6',\n",
       "  u'house',\n",
       "  u'show',\n",
       "  u'posts',\n",
       "  u'\\xe2\\x96\\xba',\n",
       "  u'2015',\n",
       "  u'contact',\n",
       "  u':',\n",
       "  u'download',\n",
       "  u'color',\n",
       "  u'\\xe2\\xbb',\n",
       "  u'find',\n",
       "  u'music',\n",
       "  u'page',\n",
       "  u'day',\n",
       "  u'use',\n",
       "  u'may',\n",
       "  u'pro',\n",
       "  u'wedding',\n",
       "  u'watch',\n",
       "  u'media',\n",
       "  u'last',\n",
       "  u'like',\n",
       "  u'e',\n",
       "  u'privacy',\n",
       "  u'best',\n",
       "  u'email',\n",
       "  u'member',\n",
       "  u'help',\n",
       "  u']',\n",
       "  u\"don't\",\n",
       "  u'full',\n",
       "  u'de',\n",
       "  u'private',\n",
       "  u'cards',\n",
       "  u'sign',\n",
       "  u'world',\n",
       "  u'years',\n",
       "  u'team',\n",
       "  u'else',\n",
       "  u'x'],\n",
       " [u'new',\n",
       "  u'college',\n",
       "  u'|',\n",
       "  u'state',\n",
       "  u'training',\n",
       "  u'pm',\n",
       "  u'news',\n",
       "  u'one',\n",
       "  u'us',\n",
       "  u'2016',\n",
       "  u'school',\n",
       "  u'&',\n",
       "  u'university',\n",
       "  u'get',\n",
       "  u'-',\n",
       "  u'time',\n",
       "  u'community',\n",
       "  u'\\xf8\\xaf\\xf8\\xa7\\xf9\\x86\\xf9\\x84\\xf9\\x88\\xf8\\xaf',\n",
       "  u'first',\n",
       "  u'two',\n",
       "  u'business',\n",
       "  u'views',\n",
       "  u'county',\n",
       "  u'year',\n",
       "  u'read',\n",
       "  u'people',\n",
       "  u'san',\n",
       "  u'home',\n",
       "  u'said',\n",
       "  u'like',\n",
       "  u'says',\n",
       "  u'sports',\n",
       "  u'best',\n",
       "  u'day',\n",
       "  u'high',\n",
       "  u'\\xe2\\x80\\x94',\n",
       "  u'see',\n",
       "  u'local',\n",
       "  u'family',\n",
       "  u'law',\n",
       "  u'city',\n",
       "  u'also',\n",
       "  u'good',\n",
       "  u'test',\n",
       "  u'students',\n",
       "  u'take',\n",
       "  u'program',\n",
       "  u'work',\n",
       "  u'years',\n",
       "  u'make',\n",
       "  u'last',\n",
       "  u'online',\n",
       "  u'back',\n",
       "  u'north',\n",
       "  u'york',\n",
       "  u'may',\n",
       "  u'would',\n",
       "  u'health',\n",
       "  u'world',\n",
       "  u'many',\n",
       "  u'south',\n",
       "  u'find',\n",
       "  u'could',\n",
       "  u'well',\n",
       "  u'great',\n",
       "  u'\\xe2\\x80\\x93',\n",
       "  u'go',\n",
       "  u'team',\n",
       "  u'medical',\n",
       "  u'three',\n",
       "  u'way',\n",
       "  u'public',\n",
       "  u'west',\n",
       "  u'contact',\n",
       "  u'2',\n",
       "  u\"it's\",\n",
       "  u'man',\n",
       "  u'help',\n",
       "  u'love',\n",
       "  u'search',\n",
       "  u'star',\n",
       "  u'season',\n",
       "  u'education',\n",
       "  u'1',\n",
       "  u'every',\n",
       "  u'st.',\n",
       "  u'still',\n",
       "  u'job',\n",
       "  u'place',\n",
       "  u'national',\n",
       "  u'events',\n",
       "  u'real',\n",
       "  u'life',\n",
       "  u'going',\n",
       "  u'full',\n",
       "  u'around',\n",
       "  u'today',\n",
       "  u'know',\n",
       "  u'story',\n",
       "  u'information'],\n",
       " [u'=',\n",
       "  u':',\n",
       "  u'{',\n",
       "  u'}',\n",
       "  u'+',\n",
       "  u'var',\n",
       "  u')',\n",
       "  u'(',\n",
       "  u'//',\n",
       "  u'\\xee\\x94e',\n",
       "  u'*',\n",
       "  u'-',\n",
       "  u'?',\n",
       "  u'/',\n",
       "  u'==',\n",
       "  u'});',\n",
       "  u'purchase',\n",
       "  u'else',\n",
       "  u'>',\n",
       "  u'return',\n",
       "  u'|',\n",
       "  u'1',\n",
       "  u'}}',\n",
       "  u',',\n",
       "  u'new',\n",
       "  u'0',\n",
       "  u'&',\n",
       "  u'2',\n",
       "  u'...',\n",
       "  u'3',\n",
       "  u'posts:',\n",
       "  u'\\xf9\\x88',\n",
       "  u'4',\n",
       "  u'us',\n",
       "  u'5',\n",
       "  u'email',\n",
       "  u'date',\n",
       "  u'get',\n",
       "  u'per',\n",
       "  u'add',\n",
       "  u'\\xe2\\xa9',\n",
       "  u'[',\n",
       "  u'\\xe2\\x80\\x94',\n",
       "  u'\\xe3\\x97',\n",
       "  u'free',\n",
       "  u'10',\n",
       "  u'6',\n",
       "  u'data',\n",
       "  u'enter',\n",
       "  u'km',\n",
       "  u'show',\n",
       "  u'\\xe2\\xbb',\n",
       "  u'please',\n",
       "  u'search',\n",
       "  u'7',\n",
       "  u'facebook',\n",
       "  u'x',\n",
       "  u'k',\n",
       "  u'!',\n",
       "  u'2016',\n",
       "  u'card',\n",
       "  u'information',\n",
       "  u'8',\n",
       "  u'try',\n",
       "  u'time',\n",
       "  u'case',\n",
       "  u'end',\n",
       "  u'field',\n",
       "  u'.',\n",
       "  u'next',\n",
       "  u'top',\n",
       "  u'blue',\n",
       "  u'like',\n",
       "  u'home',\n",
       "  u'check',\n",
       "  u'name',\n",
       "  u'may',\n",
       "  u'size',\n",
       "  u'online',\n",
       "  u'use',\n",
       "  u'\\xe2\\x80\\x93',\n",
       "  u'code',\n",
       "  u're:',\n",
       "  u'11',\n",
       "  u'comment',\n",
       "  u'line',\n",
       "  u'set',\n",
       "  u'twitter',\n",
       "  u'one',\n",
       "  u'zum',\n",
       "  u'9',\n",
       "  u'day',\n",
       "  u'list',\n",
       "  u'title',\n",
       "  u'work',\n",
       "  u'need',\n",
       "  u'100',\n",
       "  u'12',\n",
       "  u'find',\n",
       "  u'close'],\n",
       " [u'\\xe2\\xb7',\n",
       "  u'porn',\n",
       "  u'...',\n",
       "  u'sex',\n",
       "  u'nov',\n",
       "  u'yang',\n",
       "  u'free',\n",
       "  u'dan',\n",
       "  u'tube',\n",
       "  u'2017',\n",
       "  u'film',\n",
       "  u'videos',\n",
       "  u'video',\n",
       "  u'2016',\n",
       "  u'sep',\n",
       "  u'car',\n",
       "  u'jun',\n",
       "  u'jul',\n",
       "  u'oct',\n",
       "  u'dec',\n",
       "  u'mar',\n",
       "  u'jan',\n",
       "  u'apr',\n",
       "  u'big',\n",
       "  u'house',\n",
       "  u'hd',\n",
       "  u'feb',\n",
       "  u'teen',\n",
       "  u'2013',\n",
       "  u'-',\n",
       "  u'aug',\n",
       "  u'may',\n",
       "  u'data',\n",
       "  u'download',\n",
       "  u'cars',\n",
       "  u'prices',\n",
       "  u'movies',\n",
       "  u'image',\n",
       "  u'room',\n",
       "  u'girl',\n",
       "  u's.',\n",
       "  u'show',\n",
       "  u'girls',\n",
       "  u'black',\n",
       "  u'used',\n",
       "  u'first',\n",
       "  u'new',\n",
       "  u'home',\n",
       "  u'&',\n",
       "  u'gas',\n",
       "  u'site',\n",
       "  u'key',\n",
       "  u'second',\n",
       "  u'today',\n",
       "  u'line',\n",
       "  u'2',\n",
       "  u'provided',\n",
       "  u'movie',\n",
       "  u'one',\n",
       "  u'young',\n",
       "  u'top',\n",
       "  u'natural',\n",
       "  u'18',\n",
       "  u'news',\n",
       "  u'/',\n",
       "  u'old',\n",
       "  u'|',\n",
       "  u'10',\n",
       "  u'model',\n",
       "  u'best',\n",
       "  u'1',\n",
       "  u'13',\n",
       "  u'x',\n",
       "  u'digital',\n",
       "  u'never',\n",
       "  u'tv',\n",
       "  u'man',\n",
       "  u'content',\n",
       "  u'latest',\n",
       "  u'love',\n",
       "  u'red',\n",
       "  u'system',\n",
       "  u'watch',\n",
       "  u'8',\n",
       "  u'change',\n",
       "  u'images',\n",
       "  u'3',\n",
       "  u'di',\n",
       "  u'without',\n",
       "  u'box',\n",
       "  u'reviews',\n",
       "  u',',\n",
       "  u'light',\n",
       "  u'sites',\n",
       "  u'indian',\n",
       "  u'2015',\n",
       "  u'time',\n",
       "  u'group',\n",
       "  u'information',\n",
       "  u'sport'],\n",
       " [u'&',\n",
       "  u'accessories',\n",
       "  u'shop',\n",
       "  u'new',\n",
       "  u'sale',\n",
       "  u'free',\n",
       "  u'view',\n",
       "  u'us',\n",
       "  u'shipping',\n",
       "  u'-',\n",
       "  u'home',\n",
       "  u'products',\n",
       "  u'product',\n",
       "  u'gift',\n",
       "  u'price',\n",
       "  u'cart',\n",
       "  u'order',\n",
       "  u'back',\n",
       "  u'shoes',\n",
       "  u'gifts',\n",
       "  u'add',\n",
       "  u'items',\n",
       "  u'parts',\n",
       "  u'bags',\n",
       "  u'/',\n",
       "  u'top',\n",
       "  u'care',\n",
       "  u'contact',\n",
       "  u'|',\n",
       "  u\"women's\",\n",
       "  u'account',\n",
       "  u'item',\n",
       "  u'brands',\n",
       "  u'sign',\n",
       "  u'air',\n",
       "  u'size',\n",
       "  u'black',\n",
       "  u'cards',\n",
       "  u'see',\n",
       "  u'price:',\n",
       "  u'\\xf8\\xa8\\xf9\\x87',\n",
       "  u'store',\n",
       "  u'christmas',\n",
       "  u'baby',\n",
       "  u'outdoor',\n",
       "  u'please',\n",
       "  u'kids',\n",
       "  u'shopping',\n",
       "  u'tools',\n",
       "  u'email',\n",
       "  u'best',\n",
       "  u'clothing',\n",
       "  u'service',\n",
       "  u'x',\n",
       "  u'furniture',\n",
       "  u'buy',\n",
       "  u'delivery',\n",
       "  u'policy',\n",
       "  u'supplies',\n",
       "  u'get',\n",
       "  u'stock',\n",
       "  u'art',\n",
       "  u'sets',\n",
       "  u'boots',\n",
       "  u'dresses',\n",
       "  u'jackets',\n",
       "  u'food',\n",
       "  u'toys',\n",
       "  u'white',\n",
       "  u'lighting',\n",
       "  u'storage',\n",
       "  u'orders',\n",
       "  u'books',\n",
       "  u'pants',\n",
       "  u'card',\n",
       "  u'search',\n",
       "  u'privacy',\n",
       "  u'kitchen',\n",
       "  u'wedding',\n",
       "  u'help',\n",
       "  u'jewelry',\n",
       "  u'online',\n",
       "  u'beauty',\n",
       "  u'water',\n",
       "  u'available',\n",
       "  u'returns',\n",
       "  u'color',\n",
       "  u'sports',\n",
       "  u'holiday',\n",
       "  u'>',\n",
       "  u'terms',\n",
       "  u'deals',\n",
       "  u'usd',\n",
       "  u'apple',\n",
       "  u'use',\n",
       "  u'quick',\n",
       "  u'gear',\n",
       "  u'select',\n",
       "  u'equipment',\n",
       "  u'special'],\n",
       " [u'0',\n",
       "  u'-',\n",
       "  u'forum',\n",
       "  u'|',\n",
       "  u'1',\n",
       "  u'posts',\n",
       "  u'view',\n",
       "  u'2',\n",
       "  u'forums',\n",
       "  u'>',\n",
       "  u'post',\n",
       "  u'&',\n",
       "  u'top',\n",
       "  u'3',\n",
       "  u'pm',\n",
       "  u'join',\n",
       "  u'new',\n",
       "  u'game',\n",
       "  u'/',\n",
       "  u'member',\n",
       "  u'4',\n",
       "  u'thread',\n",
       "  u'5',\n",
       "  u'reply',\n",
       "  u'may',\n",
       "  u'last',\n",
       "  u'profile',\n",
       "  u'like',\n",
       "  u'video',\n",
       "  u'search',\n",
       "  u'posted',\n",
       "  u'message',\n",
       "  u'\\xe2\\xbb',\n",
       "  u'one',\n",
       "  u'discussion',\n",
       "  u'ja',\n",
       "  u'quote',\n",
       "  u'page',\n",
       "  u'members',\n",
       "  u'user',\n",
       "  u'home',\n",
       "  u'6',\n",
       "  u'get',\n",
       "  u'links',\n",
       "  u'register',\n",
       "  u'time',\n",
       "  u'10',\n",
       "  u'date',\n",
       "  u\"don't\",\n",
       "  u'games',\n",
       "  u\"it's\",\n",
       "  u'quick',\n",
       "  u'7',\n",
       "  u'first',\n",
       "  u'general',\n",
       "  u'--',\n",
       "  u'play',\n",
       "  u'share',\n",
       "  u\"i'm\",\n",
       "  u'go',\n",
       "  u'via',\n",
       "  u'private',\n",
       "  u'version',\n",
       "  u'8',\n",
       "  u'show',\n",
       "  u'help',\n",
       "  u'\\xe2\\xa9',\n",
       "  u'find',\n",
       "  u'site',\n",
       "  u'code',\n",
       "  u'us',\n",
       "  u'free',\n",
       "  u'log',\n",
       "  u'recent',\n",
       "  u'back',\n",
       "  u'league',\n",
       "  u'location:',\n",
       "  u'date:',\n",
       "  u'videos',\n",
       "  u'faq',\n",
       "  u'2016',\n",
       "  u'remember',\n",
       "  u'black',\n",
       "  u'9',\n",
       "  u'next',\n",
       "  u'full',\n",
       "  u'good',\n",
       "  u'would',\n",
       "  u'best',\n",
       "  u'team',\n",
       "  u'see',\n",
       "  u'big',\n",
       "  u'old',\n",
       "  u'dec',\n",
       "  u'series',\n",
       "  u'facebook',\n",
       "  u'room',\n",
       "  u'community',\n",
       "  u'location',\n",
       "  u'got'],\n",
       " [u'(1)',\n",
       "  u'(2)',\n",
       "  u'\\xe2\\x96\\xba',\n",
       "  u'(3)',\n",
       "  u'(4)',\n",
       "  u'(5)',\n",
       "  u'(6)',\n",
       "  u'(7)',\n",
       "  u'2011',\n",
       "  u'(8)',\n",
       "  u'2010',\n",
       "  u'2013',\n",
       "  u'2009',\n",
       "  u'(9)',\n",
       "  u'november',\n",
       "  u'2012',\n",
       "  u'august',\n",
       "  u'april',\n",
       "  u'2014',\n",
       "  u'september',\n",
       "  u'may',\n",
       "  u'2015',\n",
       "  u'2016',\n",
       "  u'(10)',\n",
       "  u'june',\n",
       "  u'december',\n",
       "  u'july',\n",
       "  u'october',\n",
       "  u'2008',\n",
       "  u'march',\n",
       "  u'february',\n",
       "  u'(11)',\n",
       "  u'january',\n",
       "  u'(12)',\n",
       "  u'(13)',\n",
       "  u'2007',\n",
       "  u'(14)',\n",
       "  u'(15)',\n",
       "  u'(16)',\n",
       "  u'blog',\n",
       "  u'-',\n",
       "  u'2006',\n",
       "  u'de',\n",
       "  u'&',\n",
       "  u'w',\n",
       "  u'new',\n",
       "  u'post',\n",
       "  u'|',\n",
       "  u'\\xe2\\x80\\x93',\n",
       "  u'2',\n",
       "  u'ago',\n",
       "  u'2005',\n",
       "  u'day',\n",
       "  u'home',\n",
       "  u'3',\n",
       "  u'z',\n",
       "  u'la',\n",
       "  u'el',\n",
       "  u'1',\n",
       "  u'world',\n",
       "  u'feb',\n",
       "  u'love',\n",
       "  u'one',\n",
       "  u'news',\n",
       "  u'pm',\n",
       "  u'like',\n",
       "  u'us',\n",
       "  u'/',\n",
       "  u'posts',\n",
       "  u'comments',\n",
       "  u'history',\n",
       "  u'los',\n",
       "  u'food',\n",
       "  u'facebook',\n",
       "  u'free',\n",
       "  u'forum',\n",
       "  u'oct',\n",
       "  u'na',\n",
       "  u'john',\n",
       "  u'time',\n",
       "  u'get',\n",
       "  u'black',\n",
       "  u'posted',\n",
       "  u'life',\n",
       "  u'email',\n",
       "  u'nov',\n",
       "  u'book',\n",
       "  u'download',\n",
       "  u'year',\n",
       "  u'little',\n",
       "  u'game',\n",
       "  u'4',\n",
       "  u'good',\n",
       "  u'live',\n",
       "  u'years',\n",
       "  u'city',\n",
       "  u'subscribe',\n",
       "  u'online',\n",
       "  u'week',\n",
       "  u'archive'],\n",
       " [u'\\xe2\\x96\\xba',\n",
       "  u'di',\n",
       "  u'e',\n",
       "  u'per',\n",
       "  u'il',\n",
       "  u'la',\n",
       "  u'-',\n",
       "  u'said...',\n",
       "  u'del',\n",
       "  u'con',\n",
       "  u'un',\n",
       "  u'da',\n",
       "  u'che',\n",
       "  u'\\xe3\\xa8',\n",
       "  u'al',\n",
       "  u'le',\n",
       "  u'&',\n",
       "  u'non',\n",
       "  u'una',\n",
       "  u'|',\n",
       "  u'si',\n",
       "  u'su',\n",
       "  u'2016',\n",
       "  u'come',\n",
       "  u'1',\n",
       "  u'2',\n",
       "  u'se',\n",
       "  u'home',\n",
       "  u'pm',\n",
       "  u'may',\n",
       "  u'\\xf0\\xb8',\n",
       "  u'\\xf0\\xb2',\n",
       "  u'/',\n",
       "  u'3',\n",
       "  u'...',\n",
       "  u'blog',\n",
       "  u'ad',\n",
       "  u'video',\n",
       "  u'10',\n",
       "  u'us',\n",
       "  u'\\xe2\\x80\\x93',\n",
       "  u'lo',\n",
       "  u'4',\n",
       "  u'posts:',\n",
       "  u'new',\n",
       "  u'5',\n",
       "  u'\\xe2\\xbb',\n",
       "  u'\\xf0\\xbd\\xf0\\xb0',\n",
       "  u'email',\n",
       "  u'2012',\n",
       "  u'news',\n",
       "  u'november',\n",
       "  u'facebook',\n",
       "  u'post',\n",
       "  u'hotel',\n",
       "  u'2015',\n",
       "  u'alle',\n",
       "  u'2009',\n",
       "  u'april',\n",
       "  u'6',\n",
       "  u'23',\n",
       "  u'free',\n",
       "  u'\\xe2\\xa9',\n",
       "  u'privacy',\n",
       "  u'30',\n",
       "  u'\\xf0\\xbd\\xf0\\xb5',\n",
       "  u'online',\n",
       "  u'12',\n",
       "  u'one',\n",
       "  u'>',\n",
       "  u'2014',\n",
       "  u'san',\n",
       "  u'august',\n",
       "  u'7',\n",
       "  u'2013',\n",
       "  u'twitter',\n",
       "  u'14',\n",
       "  u'january',\n",
       "  u'sport',\n",
       "  u'15',\n",
       "  u'mi',\n",
       "  u'top',\n",
       "  u'x',\n",
       "  u'july',\n",
       "  u'september',\n",
       "  u'web',\n",
       "  u'auto',\n",
       "  u'0',\n",
       "  u'june',\n",
       "  u'11',\n",
       "  u'december',\n",
       "  u'02',\n",
       "  u'february',\n",
       "  u'see',\n",
       "  u':',\n",
       "  u',',\n",
       "  u'march',\n",
       "  u'love',\n",
       "  u'ago',\n",
       "  u'sale'],\n",
       " [u'de',\n",
       "  u'en',\n",
       "  u'la',\n",
       "  u'el',\n",
       "  u'que',\n",
       "  u'para',\n",
       "  u'los',\n",
       "  u'&',\n",
       "  u'del',\n",
       "  u'\\xf9\\x88',\n",
       "  u'por',\n",
       "  u'con',\n",
       "  u'un',\n",
       "  u'las',\n",
       "  u'se',\n",
       "  u'es',\n",
       "  u'van',\n",
       "  u'|',\n",
       "  u'una',\n",
       "  u'-',\n",
       "  u'al',\n",
       "  u'm\\xe3\\xa1s',\n",
       "  u's/n',\n",
       "  u'\\xf8\\xaf\\xf8\\xb1',\n",
       "  u'su',\n",
       "  u'si',\n",
       "  u'te',\n",
       "  u\"men's\",\n",
       "  u'een',\n",
       "  u'het',\n",
       "  u'lo',\n",
       "  u'tu',\n",
       "  u'\\xf8\\xa7\\xf8\\xb2',\n",
       "  u'op',\n",
       "  u'este',\n",
       "  u'como',\n",
       "  u'1',\n",
       "  u'/',\n",
       "  u'met',\n",
       "  u'\\xf8\\xa8\\xf8\\xa7',\n",
       "  u'\\xf9\\x87\\xf8\\xa7\\xfb\\x8c',\n",
       "  u'ver',\n",
       "  u'je',\n",
       "  u'2',\n",
       "  u'sobre',\n",
       "  u'2016',\n",
       "  u'mi',\n",
       "  u'0',\n",
       "  u'3',\n",
       "  u'son',\n",
       "  u':',\n",
       "  u'le',\n",
       "  u'\\xe2\\xbb',\n",
       "  u'5',\n",
       "  u'facebook',\n",
       "  u'om',\n",
       "  u'e',\n",
       "  u'>',\n",
       "  u'\\xe2\\xa9',\n",
       "  u'4',\n",
       "  u'hotel',\n",
       "  u'web',\n",
       "  u'alle',\n",
       "  u'san',\n",
       "  u'10',\n",
       "  u'twitter',\n",
       "  u'door',\n",
       "  u'als',\n",
       "  u'care',\n",
       "  u'online',\n",
       "  u'video',\n",
       "  u'...',\n",
       "  u'die',\n",
       "  u'\\xe2\\x80\\x93',\n",
       "  u'u',\n",
       "  u'+',\n",
       "  u'.',\n",
       "  u'blog',\n",
       "  u'6',\n",
       "  u'internet',\n",
       "  u'\\xe2\\x82\\xac',\n",
       "  u'x',\n",
       "  u'2015',\n",
       "  u'dan',\n",
       "  u'email',\n",
       "  u'led',\n",
       "  u'cookies',\n",
       "  u',',\n",
       "  u'$',\n",
       "  u'*',\n",
       "  u'er',\n",
       "  u'8',\n",
       "  u'general',\n",
       "  u'7',\n",
       "  u'tv',\n",
       "  u'home',\n",
       "  u'top',\n",
       "  u'base',\n",
       "  u'12',\n",
       "  u'control'],\n",
       " [u'{{/if}}',\n",
       "  u'{{#if',\n",
       "  u'och',\n",
       "  u'av',\n",
       "  u'p\\xe3\\xa5',\n",
       "  u'med',\n",
       "  u'att',\n",
       "  u'{{else}}',\n",
       "  u'som',\n",
       "  u'f\\xe3\\xb6r',\n",
       "  u'en',\n",
       "  u'islands',\n",
       "  u'om',\n",
       "  u'den',\n",
       "  u'-',\n",
       "  u'republic',\n",
       "  u'du',\n",
       "  u'&',\n",
       "  u'men',\n",
       "  u'1',\n",
       "  u'united',\n",
       "  u'er',\n",
       "  u'new',\n",
       "  u'}}',\n",
       "  u'man',\n",
       "  u'var',\n",
       "  u'engine',\n",
       "  u'|',\n",
       "  u'2',\n",
       "  u'indian',\n",
       "  u'de',\n",
       "  u'3',\n",
       "  u'south',\n",
       "  u'/',\n",
       "  u'0',\n",
       "  u'states',\n",
       "  u'women',\n",
       "  u'estate',\n",
       "  u'information',\n",
       "  u'real',\n",
       "  u'5',\n",
       "  u'4',\n",
       "  u'use',\n",
       "  u'sale',\n",
       "  u'2016',\n",
       "  u'french',\n",
       "  u'see',\n",
       "  u'terms',\n",
       "  u'may',\n",
       "  u'view',\n",
       "  u'like',\n",
       "  u'se',\n",
       "  u'free',\n",
       "  u'x',\n",
       "  u'10',\n",
       "  u'post',\n",
       "  u'find',\n",
       "  u'city',\n",
       "  u'service',\n",
       "  u'{',\n",
       "  u'>',\n",
       "  u'us',\n",
       "  u'price',\n",
       "  u'top',\n",
       "  u'\\xe2\\xa9',\n",
       "  u'close',\n",
       "  u'chat',\n",
       "  u'search',\n",
       "  u'provided',\n",
       "  u'del',\n",
       "  u'gold',\n",
       "  u'canada',\n",
       "  u'get',\n",
       "  u'home',\n",
       "  u'og',\n",
       "  u'6',\n",
       "  u'photos',\n",
       "  u'}',\n",
       "  u'...',\n",
       "  u'australia',\n",
       "  u'please',\n",
       "  u'+',\n",
       "  u'buy',\n",
       "  u'cars',\n",
       "  u'san',\n",
       "  u'==',\n",
       "  u'facebook',\n",
       "  u'page',\n",
       "  u'2015',\n",
       "  u'60',\n",
       "  u'email',\n",
       "  u'login',\n",
       "  u'english',\n",
       "  u'members',\n",
       "  u'contact',\n",
       "  u'privacy',\n",
       "  u'zum',\n",
       "  u'min',\n",
       "  u'north',\n",
       "  u'\\xe3\\x97'],\n",
       " [u'may',\n",
       "  u'2012',\n",
       "  u'2013',\n",
       "  u'would',\n",
       "  u'like',\n",
       "  u'pm',\n",
       "  u'new',\n",
       "  u'one',\n",
       "  u'2014',\n",
       "  u'2016',\n",
       "  u'reply',\n",
       "  u'also',\n",
       "  u'get',\n",
       "  u'2010',\n",
       "  u'2011',\n",
       "  u're:',\n",
       "  u'2015',\n",
       "  u'2009',\n",
       "  u'comments',\n",
       "  u'use',\n",
       "  u'september',\n",
       "  u'december',\n",
       "  u'january',\n",
       "  u'march',\n",
       "  u'posted',\n",
       "  u'november',\n",
       "  u'october',\n",
       "  u'people',\n",
       "  u'via',\n",
       "  u'see',\n",
       "  u'make',\n",
       "  u'post',\n",
       "  u'august',\n",
       "  u'time',\n",
       "  u'\\xe2\\xbb',\n",
       "  u'july',\n",
       "  u'february',\n",
       "  u'first',\n",
       "  u'april',\n",
       "  u'know',\n",
       "  u'comment',\n",
       "  u'us',\n",
       "  u'think',\n",
       "  u'june',\n",
       "  u'\\xe2\\x80\\x93',\n",
       "  u'good',\n",
       "  u'much',\n",
       "  u'even',\n",
       "  u'could',\n",
       "  u'last',\n",
       "  u'part',\n",
       "  u'find',\n",
       "  u'using',\n",
       "  u'posts',\n",
       "  u'need',\n",
       "  u'blog',\n",
       "  u'day',\n",
       "  u\"it's\",\n",
       "  u'many',\n",
       "  u'next',\n",
       "  u'email',\n",
       "  u\"i'm\",\n",
       "  u'want',\n",
       "  u'back',\n",
       "  u'take',\n",
       "  u'made',\n",
       "  u'really',\n",
       "  u'go',\n",
       "  u\"don't\",\n",
       "  u'share',\n",
       "  u'generator',\n",
       "  u'must',\n",
       "  u'two',\n",
       "  u'&',\n",
       "  u'-',\n",
       "  u'world',\n",
       "  u'member',\n",
       "  u'used',\n",
       "  u'2008',\n",
       "  u'park',\n",
       "  u'public',\n",
       "  u'way',\n",
       "  u'|',\n",
       "  u'profile',\n",
       "  u'view',\n",
       "  u'great',\n",
       "  u'search',\n",
       "  u'well',\n",
       "  u'energy',\n",
       "  u'\\xe2\\xab',\n",
       "  u'national',\n",
       "  u'u.s.',\n",
       "  u'going',\n",
       "  u'work',\n",
       "  u'home',\n",
       "  u'best',\n",
       "  u'please',\n",
       "  u'love',\n",
       "  u'change',\n",
       "  u'top']]"
      ]
     },
     "execution_count": 40,
     "metadata": {},
     "output_type": "execute_result"
    }
   ],
   "source": [
    "vocab_indices"
   ]
  },
  {
   "cell_type": "code",
   "execution_count": 41,
   "metadata": {
    "collapsed": false
   },
   "outputs": [
    {
     "name": "stdout",
     "output_type": "stream",
     "text": [
      "0 {u'september': 0.0009266277979830464, u'20': 0.0009441322040230984, u'copyright': 0.0010042358833925514, u'la': 0.0017501880112454318, u'3': 0.004099178385139588, u'blog': 0.0010954297134702937, u'0': 0.0025426987602252386, u'black': 0.001010274615070473, u'4': 0.002961332586861054, u'2015': 0.0014462167771554287, u'8': 0.0014358564626399315, u'2016': 0.003069733525578958, u'eur': 0.005190534059504601, u'...': 0.0039002483793401845, u'de': 0.007604030163995116, u'watch': 0.001164495578757753, u'>': 0.002552537788213757, u'b': 0.000903708999005218, u'facebook': 0.0010820264762988543, u'world': 0.0011811580808482258, u'day': 0.0011488525171053621, u'--': 0.01970830851573837, u'x': 0.0010333816879582014, u'|': 0.012536986061435447, u'view': 0.001368626843697572, u'en': 0.0014820003029888795, u'series': 0.002015042774782371, u'\\xe2\\xa9': 0.0017859703381209258, u'j.': 0.011993551060964105, u'download': 0.0010131563652768995, u'home': 0.0013572502785411122, u'\\xe2\\xbb': 0.003891038987734127, u'\\xe2\\x96\\xba': 0.007185460995590176, u'+': 0.0019801070166681283, u'/': 0.008889891371393297, u'state': 0.0009944633697479286, u'7': 0.0013642603439611878, u'new': 0.0038526859289871322, u'email': 0.000898081980296416, u'free': 0.0013099547908867494, u'november': 0.0010914865403184666, u'ja': 0.0010158725858827962, u'search': 0.0014008362493110132, u'country': 0.0009613319156196473, u'100%': 0.0009751501024362695, u'30': 0.0011619294552074706, u'days': 0.0008916286095378652, u'april': 0.0009171080730033018, u'american': 0.002351668473183842, u'w': 0.001628541128816633, u'south': 0.0019642659725079953, u'family': 0.0011028842338883875, u'one': 0.0011905643312509113, u'total': 0.001068470317382928, u'100': 0.0008970442588005778, u'usa': 0.001140231424899136, u'&': 0.0064542556026524365, u'top': 0.0013300442428286585, u'm.': 0.005833548292275596, u'(1)': 0.0016824715909687516, u'live': 0.0009839242408478562, u'2': 0.008138767839193253, u'6': 0.002002624569558281, u':': 0.004306561382878755, u'final': 0.0012528561189924865, u'pm': 0.00126866971656525, u'north': 0.0010295171142771437, u'c.': 0.005493541787643697, u'c': 0.0015270425527343636, u'ford': 0.006154215242467769, u'part': 0.0010619810430335982, u'10': 0.0022804782407244623, u'12': 0.0009981176642380031, u'15': 0.0009398514707990883, u'f': 0.0013335544072332068, u'science': 0.0010345570948460995, u'us': 0.0018163123655467195, u'(2)': 0.0011243944747088847, u'v': 0.0009693265615661113, u'z': 0.0011017701379967737, u'history': 0.003982658379302526, u'states': 0.0016194135314637913, u'united': 0.0033098547107604077, u'na': 0.0013434392264846742, u'-': 0.47951335231903824, u'1': 0.00856098224549185, u'high': 0.0008944797067107867, u'contact': 0.0010862914365829498, u'5': 0.0029345466212758456, u'online': 0.00131276829191421, u'9': 0.001061462082651912, u'may': 0.001080708557622073, u'time': 0.0008996376142849565, u'collection': 0.002384023325120957, u'a.': 0.006733749129364698, u'ago': 0.002137942884792401, u'\\xe2\\x80\\x93': 0.003810655486923737, u'e': 0.001860669863349796, u'floyd': 0.022622823489836994, u'english': 0.003196683214021675}\n",
      "1 {u'show': 0.00473108848812843, u'years': 0.007209108527926798, u'find': 0.003151217869609913, u'galaxy': 0.012258602065141512, u'1': 0.032724853161476414, u'$': 0.00863361482904281, u',': 0.021709070950644165, u'add': 0.010812219751918884, u'book': 0.002633334456788267, u'location': 0.0022784865061450405, u'8': 0.006126182421723594, u'2016': 0.003638183606697377, u'case': 0.0024403532803046104, u'get': 0.003423703996760359, u'sony': 0.01455760169840292, u'miles': 0.006264174592747729, u'night': 0.002241417049331627, u'x': 0.003241523832772225, u'|': 0.005311055928757752, u'view': 0.007670123582691009, u'body': 0.005244516047057268, u'google': 0.0021489874170146214, u'phone': 0.0021867190059565306, u'see': 0.0028095411896141014, u'year': 0.00216798804737191, u'home': 0.0021677543418853096, u'best': 0.004319070245985006, u'review': 0.006310174233689107, u'please': 0.0022663578112656953, u'/': 0.0069951872168033625, u'3': 0.02690248548300552, u'7': 0.007797216507050998, u'internet': 0.00219498683329537, u'new': 0.004388757984281008, u'available': 0.004274270905694147, u'jobs': 0.00413360774916509, u'power': 0.0024075213583074897, u'cart': 0.0022532787562734432, u'hours': 0.0021795863739405585, u'job': 0.0022793390586105335, u'free': 0.004061548109766305, u'league': 0.003514119715403266, u'search': 0.003342466664315521, u'property': 0.003455386067273866, u'last': 0.0030910596743515648, u'island': 0.0020916273162976027, u'months': 0.005081708298777501, u'days': 0.007719544758113226, u'plus': 0.0031564176309266385, u'within': 0.0025393429422057704, u'one': 0.00574974592034813, u'hotels': 0.01569408377541695, u'city': 0.002765908011033303, u'use': 0.004202731121366281, u'service': 0.0020836029037848555, u'&': 0.004482509261689549, u'.': 0.043176187040525824, u'2': 0.03424279928207225, u'iphone': 0.009580880563771557, u'6': 0.010655253934588271, u':': 0.0021907772389397418, u'type': 0.0031078326664539385, u'4': 0.019533189646100416, u'hotel': 0.01642670317138166, u'photos': 0.0025609750946955427, u'part': 0.0030346757420760253, u'prices': 0.003586845177052107, u'customer': 0.005692117466405166, u'10': 0.008090911986598155, u'12': 0.002532374745741692, u'us': 0.0044853834963719565, u'reviews': 0.009331273525956044, u'near': 0.0035939317128162256, u'>': 0.0032722528274684378, u'mini': 0.0039404355997885694, u'pro': 0.0023584929858383023, u'india': 0.0022083437723898302, u'ii': 0.0022413229244385097, u'check': 0.005642594903390487, u'united': 0.0038237998691863138, u'-': 0.007575200178920699, u'note': 0.004020279209763324, u'hot': 0.00595040182692239, u'parts': 0.004156421123836076, u'5': 0.014144097375992695, u'details': 0.006516372186335978, u'grand': 0.0023674318312603033, u'9': 0.003646596269116401, u'beach': 0.0021080243994311947, u'map': 0.005148184857706776, u'used': 0.0026658407154506853, u'price': 0.0048801971642722765, u'\\xe2\\x80\\xba': 0.0025066103291465965, u'stay': 0.0024973604214115906, u'ago': 0.018797119663884, u'\\xe2\\x80\\x93': 0.002930984108790914, u'save': 0.002098889609621083, u'samsung': 0.007146157078437418, u'km': 0.003711459380917026, u'contact': 0.002790020528346995}\n",
      "2 {u'shop': 0.0012798559959340645, u'\\xf1\\x81': 0.002756144694518807, u'per': 0.0019054012551592843, u'als': 0.007109678828619017, u'26': 0.014975323475507677, u'copyright': 0.0011221302719837732, u'auf': 0.01775214974976602, u'0': 0.003367795631619882, u'4': 0.0028528107611485213, u'2015': 0.0010254882173885774, u'8': 0.0013741143738572202, u'2016': 0.003324935743689019, u'hat': 0.006708297706126306, u'2013': 0.0010214543263253975, u'eur': 0.001132558428542469, u'...': 0.002947721066311536, u'\\xe2\\x82\\xac': 0.008339835619334069, u'faq': 0.0010306269907706129, u'da': 0.00209700245709985, u'facebook': 0.0016785212211315164, u'das': 0.01774303754291802, u'du': 0.004353210475202391, u'die': 0.0471949468679903, u'50': 0.0010038658544858066, u'x': 0.0014912674573355615, u'|': 0.13966219817158557, u'cookies': 0.0010293370469135555, u'google': 0.001004131335448543, u'twitter': 0.0010858768173661244, u'\\xe2\\xa9': 0.003541684172810782, u'sex': 0.0009789292413834908, u'video': 0.0012919605932884145, u'home': 0.001155815183969768, u'sport': 0.0013945761195877679, u'es': 0.009718237117930054, u'\\xe2\\xbb': 0.004505460333850039, u'ich': 0.010622536425809377, u'+': 0.0026874041596938753, u'/': 0.01140153048392752, u'e-mail': 0.0018738491421752927, u'3': 0.003751598560104567, u'7': 0.0015327927667304455, u'dr.': 0.0009691752227052313, u'\\xf0\\xb4\\xf0\\xbb\\xf1\\x8f': 0.003576230626683726, u'jobs': 0.0012905872258919318, u'alle': 0.013117359203682035, u'auch': 0.008778756801619943, u'nicht': 0.010561302736005135, u'news': 0.0016631124607077508, u'100': 0.0013644795889690038, u'ja': 0.0015909516426844883, u'usa': 0.0014106569059645566, u'forum': 0.0019036732378362293, u'30': 0.0011893022765383603, u'ist': 0.014362125308893758, u'und': 0.06314917496965211, u'login': 0.0012875485761522625, u'1.': 0.000957266344751867, u'ca': 0.009614026357456536, u'eine': 0.010020988120601156, u'f\\xe3\\xbcr': 0.03105910523751698, u'service': 0.001957335293146321, u'&': 0.022943189739335887, u'top': 0.0010369186564544567, u'*': 0.0026940363329960716, u'oder': 0.010359015850071068, u'2': 0.00504443835837995, u'6': 0.001698701188091663, u'pro': 0.0015994578096071186, u'>': 0.004255434149767711, u'website': 0.0012032518767234812, u'floyd': 0.0011408692982055554, u'2014': 0.000917163748691444, u'10': 0.0024280809742353643, u'bei': 0.011713983349985732, u'mm': 0.0009185233671738212, u'der': 0.04606169608359254, u'des': 0.009635267109675742, u'war': 0.0017153025886214755, u'um': 0.0074830268327039425, u'dem': 0.008467927960809191, u'den': 0.018556340449700268, u'2012': 0.0011657438998895833, u'ein': 0.010953557090638496, u'videos': 0.0013190892300861596, u'von': 0.026159376781345032, u'zu': 0.019208869317555364, u'newsletter': 0.002504872278258483, u'-': 0.031303283675644646, u'1': 0.005753265445583763, u'5': 0.0036269455128682773, u'sich': 0.009938979646359317, u'sie': 0.027332636193129242, u'online': 0.002360299589961481, u'er': 0.0025513201386686193, u'mit': 0.023404685058903963, u'man': 0.0037948016988435945, u'\\xe2\\x80\\x93': 0.004505525470849936, u'windows': 0.001192421324110731, u'km': 0.0013478271921011295}\n",
      "3 {u'code': 0.0011754316712123624, u'le': 0.035269857835571045, u'$': 0.0010212465612891401, u'mais': 0.0022470452571533824, u'la': 0.04097901356483179, u'tu': 0.0009676366391088824, u',': 0.0013439624540803768, u'0': 0.004951083318115826, u'4': 0.0021979017629789595, u'2016': 0.0029404429606345334, u'...': 0.0015981971523356833, u'non': 0.0016828555339342864, u'\\xe2\\x82\\xac': 0.003998864526098038, u'de': 0.12165712746906225, u'12': 0.0009880296654876898, u'facebook': 0.0014951839264437253, u'du': 0.024541936479569877, u'articles': 0.002016582015260534, u'page': 0.0018427711475715997, u'cookies': 0.0010582721100944894, u'en': 0.028565732356121597, u'twitter': 0.0010532145865286187, u'\\xe2\\xa9': 0.001696817680062048, u'\\xe2\\xab': 0.0013391077514373986, u'et': 0.051744824525699534, u'newsletter': 0.0009735375628291275, u'er': 0.0020334455195244244, u'est': 0.010312207617882176, u'+': 0.0035273690128454693, u'/': 0.00628632293087776, u'sport': 0.0009684677403797152, u'3': 0.002859860497741595, u'sur': 0.016767762988092395, u'internet': 0.0010183302949768578, u'conditions': 0.0017573278066337285, u'?': 0.0053781643901084485, u'screen': 0.012005457800106426, u'les': 0.035884373472108426, u'que': 0.007725797273351006, u'qui': 0.0064758176069231, u'je': 0.004904376758476587, u'[': 0.0035659857526445056, u'forum': 0.0011041440260105046, u'og': 0.012703163610986638, u'30': 0.0014709837146958487, u'|': 0.007276939920494058, u'plus': 0.010612988286890081, u'une': 0.012405043697432318, u'ou': 0.007134202895260274, u'os': 0.007078947879031585, u'comment': 0.0010682009896277476, u'ce': 0.0077623170999181566, u'son': 0.003810374721295751, u'60': 0.0034121780311355166, u'table': 0.0019066682412290164, u'usd': 0.0010117176977103193, u'service': 0.0019182203142925234, u'&': 0.0036088873795949872, u'avec': 0.007429070083033462, u'*': 0.001321551929307275, u'.': 0.002211203630995025, u'2': 0.005388791135460606, u'archives': 0.0010437769218148228, u'6': 0.0012541487348045894, u':': 0.0313690932053146, u'type': 0.0010902740608296944, u'>': 0.003946455760176348, u'vous': 0.01332338006917476, u'\\xe3\\xa0': 0.04464091010258098, u'photos': 0.0011581267689894073, u'\\xf9\\x81\\xf9\\x8a': 0.008733216250536973, u'10': 0.001811012257764308, u'main': 0.013836564642439866, u'15': 0.0014222789039745516, u'des': 0.026491561623870223, u'dans': 0.010481717901069863, u'pour': 0.021829628655191294, u'un': 0.019375595008384188, u'votre': 0.011720115372153854, u'site': 0.003585737637300097, u'au': 0.01156847647677645, u'il': 0.004534593110200755, u'(max-width:': 0.008121729642456419, u'!': 0.005122258731496346, u'par': 0.01311605015425191, u'pas': 0.009014354029210483, u'-': 0.01858188378049977, u'ne': 0.005125812326905184, u'1': 0.006783543475464179, u'5': 0.0027952488640738573, u'\\xe2\\xbb': 0.0025398471509941725, u'plan': 0.0017678836241216294, u'\\xe2\\x80\\xa6': 0.0012393397527235858, u'services': 0.0018938499125434503, u']': 0.0036510649063111163, u'\\xe2\\x80\\x93': 0.0017949437050216984, u'si': 0.0022159253126784726, u'contact': 0.0012289458134047582, u'sa': 0.001989957622700021, u'se': 0.00423432264250337}\n",
      "4 {u'code': 0.0024598467945661185, u'help': 0.006048302311956427, u'press': 0.00236689514121894, u'follow': 0.0026424245706213084, u'find': 0.004259511470531565, u'content': 0.004431272270285062, u'copyright': 0.004386846233735745, u'personal': 0.0024396151502638587, u'blog': 0.0029679304310103426, u'add': 0.004153730558480699, u'policy': 0.006659495326568747, u'2016': 0.005247625002116183, u'real': 0.002376358980276714, u'get': 0.00455076169463108, u'read': 0.002707373689957742, u'digital': 0.0024207258668193766, u'facebook': 0.004388114576528185, u'international': 0.002858949190028445, u'report': 0.0031768743385032494, u'password': 0.002910613900428154, u'bank': 0.002545881138157174, u'name': 0.00356137361678279, u'list': 0.003278693520385776, u'security': 0.0024977298970531984, u'|': 0.028778215082857123, u'view': 0.006089735405578768, u'twitter': 0.0036384747200355534, u'\\xe2\\xa9': 0.005471997664873431, u'library': 0.002445177594817034, u'sign': 0.007619121345753183, u'video': 0.0028728281850347063, u'download': 0.004061742009456443, u'home': 0.011603424460176774, u'click': 0.0026275500138898226, u'\\xe2\\xbb': 0.00723735599766636, u'please': 0.005326394318485471, u'/': 0.004179511911533971, u'research': 0.0034656684412232527, u'access': 0.003417571216814037, u'health': 0.004290174490790761, u'new': 0.008428674573517952, u'email': 0.00785767609637117, u'terms': 0.006798746723104612, u'business': 0.006944190971045129, u'web': 0.00396432756511241, u'free': 0.005706151096244668, u'address': 0.002752641133654149, u'news': 0.012629659963583704, u'search': 0.012738664626774773, u'privacy': 0.007969022857155703, u'page': 0.0067576980291921265, u'social': 0.0027119460007099887, u'login': 0.004378574511729418, u'create': 0.0030134367300142877, u'software': 0.004358501741289165, u'number': 0.003493540535587423, u'community': 0.0033466978219580186, u'subscribe': 0.002484945642064727, u'use': 0.007022581277363717, u'management': 0.002987700808575935, u'log': 0.003502567987974179, u'service': 0.005460510837470633, u'&': 0.02377470673419595, u'browse': 0.0029888042129226347, u'top': 0.004276130734912683, u'support': 0.004750826317369219, u'submit': 0.0024188920035220864, u'sports': 0.002795571618651743, u'>': 0.002835449644978593, u'website': 0.0035585289355564154, u'club': 0.003589339769403769, u'company': 0.0033897643203822402, u'account': 0.004923505304884399, u'jobs': 0.0025363413786123096, u'rights': 0.00438757373595496, u'us': 0.01535188229220693, u'history': 0.0030858528111804987, u'reserved.': 0.0025818876825777696, u'share': 0.0032575673876347384, u'site': 0.006635554235227016, u'file': 0.0024528438458584715, u'close': 0.002368880894984201, u'education': 0.0028664524675075208, u'information': 0.01010221533577164, u'media': 0.004118109108320427, u'-': 0.008440838711055337, u'book': 0.0024557229940480006, u'online': 0.004511743518517319, u'events': 0.004060838208370925, u'map': 0.0028968623784790246, u'may': 0.003116226453433059, u'collection': 0.002739951631575187, u'user': 0.0024045434779921037, u'services': 0.0068519465066490155, u'data': 0.004645485727290864, u'center': 0.004260838649508057, u'mobile': 0.003634721463323832, u'register': 0.0030589777129317692, u'contact': 0.0121880727262456, u'inc.': 0.0025804813737780458}\n",
      "5 {u'top': 0.0011312552369340918, u'pm': 0.0011235264357615123, u'24': 0.01705765432592193, u'25': 0.01083953874696258, u'27': 0.008734446295376412, u'20': 0.017537017688916634, u'21': 0.009437177907050929, u'22': 0.009392241842763412, u'23': 0.008933643630040396, u'tv': 0.0011932413606145643, u'28': 0.008372125432066073, u'29': 0.00797139528609431, u'0': 0.012370994841622083, u'4': 0.02041862466583838, u'8': 0.0150199571441885, u'2017': 0.002620454649081723, u'2016': 0.005331973836582881, u'11': 0.012724057229821978, u'premium': 0.0029159472441315725, u'facebook': 0.0011684964701902823, u'tickets': 0.005444840860720157, u'h': 0.0011291529349853073, u'16': 0.01609771462602064, u'50': 0.005361468125119561, u'mm': 0.0062312676900389136, u'x': 0.015484410819996231, u'page': 0.0024027682659267975, u'view': 0.0030894330755753484, u'set': 0.00123804595879184, u'\\xe2\\xa9': 0.0028361337323666537, u'see': 0.0017572393179155154, u'download': 0.0030290358337140984, u'home': 0.0019272848162015341, u'\\xe2\\xbb': 0.0019161871835210534, u'02': 0.0011863314242447787, u'review': 0.0011955206273680983, u'please': 0.0035795796259747866, u'/': 0.005316759881980628, u'3': 0.02334747082537492, u'7': 0.017859006795500433, u'new': 0.0018522314582767754, u'body': 0.004142165946791915, u'free': 0.0027352483736648274, u'100': 0.002320014393509347, u'copyright': 0.0014709349061774353, u'32': 0.007703127354013597, u'31': 0.006208782022706823, u'30': 0.01076498395174367, u'|': 0.0037128240761661914, u'(0)': 0.004698059098956586, u'w': 0.001993611822733189, u'options': 0.0012670279945744519, u'price:': 0.003651514082968186, u'\\xf9\\x85\\xf9\\x86': 0.002812438471200382, u'service': 0.0012415232402981319, u'&': 0.00841338949438198, u'px': 0.01228441966028329, u'france': 0.0021394014638108126, u'2': 0.02616636567601029, u'music': 0.0012017489230883604, u'iphone': 0.0011643445890996062, u'6': 0.01833341242409274, u'store': 0.001539602828596912, u'>': 0.0019116501060971703, u'buy': 0.004978687083482831, u'offer': 0.0036159237088170095, u'png': 0.016901122354126767, u'must': 0.0012729698558363982, u'info': 0.004779977705446644, u'10': 0.018341518799636646, u'13': 0.011772360063767959, u'12': 0.015554650951013863, u'15': 0.011959525931043668, u'14': 0.013202697352229715, u'17': 0.009782319002275101, u'f': 0.0023804399910161396, u'19': 0.009880877086998157, u'18': 0.009403424130631945, u'us': 0.0018656513440177647, u'dec': 0.0031165816643270463, u'\\xe3\\x97': 0.024567199947662925, u'im': 0.00908978908077398, u'48': 0.007519677189161461, u'min': 0.007076623586259199, u'-': 0.06744020884630764, u'40': 0.0041872494831704495, u'1': 0.04200830395452116, u'field': 0.006459131437023974, u'valid': 0.0015707634341837482, u'5': 0.021713435339304525, u'online': 0.001604334464453151, u'9': 0.012947144944492738, u'may': 0.0013075777454005138, u'price': 0.001205156397653659, u'class': 0.002486805259969532, u'natural': 0.004180652887076065, u'windows': 0.006865836192215364, u'sale': 0.001453925076620835, u'english': 0.001555265080995906, u'audio': 0.0020911301688205934}\n",
      "6 {u'\\xf1\\x81': 0.04070045218310005, u'\\xf1\\x83': 0.00841898015955854, u'24': 0.0009616976070609317, u'25': 0.0013031591972951907, u'27': 0.0008120552082899863, u'20': 0.0017959675949870562, u'21': 0.0009172708992194322, u'22': 0.0009377814661502532, u'23': 0.0009854369051610912, u'28': 0.00104708927603621, u'29': 0.0011050363715607474, u'0': 0.007315127207882262, u'4': 0.003876600107873676, u'2015': 0.001915809467479725, u'8': 0.004148309816476878, u'2017': 0.0010842063673803613, u'2016': 0.006375663958970565, u'2013': 0.0020283682738367276, u'\\xf0\\x92': 0.017376006807209167, u'...': 0.0022601205572548373, u'\\xf0\\x9e': 0.005823112924623665, u'2016,': 0.001548605877971875, u'14': 0.0014860763721426871, u'\\xf0\\xb2': 0.10587620852541578, u'\\xf0\\xb0': 0.007644798993505317, u'\\xf0\\xba': 0.013910409567034106, u'\\xf0\\x92\\xf1\\x8b': 0.00583685995362261, u'\\xf0\\xbe': 0.013253889967558663, u'50': 0.0013037172834042365, u'x': 0.0009282174274086373, u'\\xf0\\xb8': 0.13143329207090007, u'\\xe2\\xa9': 0.004867304869608456, u'\\xf1\\x8d\\xf1\\x82\\xf0\\xbe': 0.007046912260544676, u'\\xf0\\xbe\\xf0\\xb1\\xf0\\xbb\\xf0\\xb0\\xf1\\x81\\xf1\\x82\\xf1\\x8c': 0.008002437718253794, u'\\xe2\\xbb': 0.005349475237895194, u'02': 0.0008235781422679552, u'#': 0.0010509260810732026, u'+': 0.002182969630290026, u'/': 0.033863667737071494, u'e-mail': 0.0014384020204079736, u'3': 0.005853131168082564, u'\\xf0\\xb8\\xf0\\xbb\\xf0\\xb8': 0.011893798231734774, u'7': 0.0024302517145258938, u'\\xf0\\xb4\\xf0\\xbb\\xf1\\x8f': 0.06983549751095414, u'3d': 0.0008616377987662701, u'\\xf0\\xba\\xf0\\xb0\\xf0\\xba': 0.008974079577189265, u'\\xf0\\x9d\\xf0\\xbe\\xf0\\xb2\\xf0\\xbe\\xf1\\x81\\xf1\\x82\\xf0\\xb8': 0.005733022475416081, u'100': 0.0016307192785835671, u'\\xf0\\x94\\xf0\\xbb\\xf1\\x8f': 0.007075518994126573, u'c': 0.0008278417577949289, u'30': 0.001821842304648909, u'|': 0.008448373828031161, u'\\xf0\\x9d\\xf0\\xb0': 0.005822521093669359, u'(0)': 0.0031543762108105712, u'\\xf0\\xb2\\xf1\\x81\\xf0\\xb5': 0.007876831646198871, u',': 0.0024897440500730806, u'.': 0.0008170054990296498, u'\\xf0\\x92\\xf1\\x81\\xf0\\xb5': 0.008372472787682205, u'*': 0.0022184672362418334, u'\\xf0\\xb4\\xf0\\xbe': 0.011079554366798295, u'france': 0.0010030868615021184, u'2': 0.008220647541979298, u'6': 0.0026830731820909944, u'500': 0.0011089172812935677, u'>': 0.002293935825032497, u'\\xf0\\xb2\\xf1\\x8b': 0.00551046408770826, u'2014': 0.0012023916216932623, u'2.': 0.0008742386225764427, u'11': 0.0012352656759004941, u'10': 0.0035971733834774993, u'13': 0.0015300576002306786, u'12': 0.0017353324769784335, u'15': 0.0017117578334815186, u'\\xf1\\x87\\xf1\\x82\\xf0\\xbe': 0.014239521361904843, u'17': 0.001132060163327596, u'16': 0.0010667855350885635, u'18': 0.001152035918390191, u'\\xe2\\x86\\x92': 0.0029558233178361877, u'1.': 0.0010353972029996364, u'\\xf0\\xbf\\xf0\\xbe': 0.027898206400675425, u'\\xf0\\xbd\\xf0\\xb0': 0.06884445159003014, u'\\xf0\\xbd\\xf0\\xb5': 0.028725126215348736, u'-': 0.022835127223119252, u'40': 0.0009687693846999672, u'1': 0.010496340477357655, u'5': 0.004329336003628625, u'9': 0.0017090589735455671, u'\\xf0\\xbf\\xf1\\x80\\xf0\\xb8': 0.008551110394118112, u'200': 0.0012172558533986282, u'\\xf0\\xb3.': 0.004664230685295098, u'\\xf0\\xbe\\xf1\\x82': 0.019538459572444798, u'000': 0.00340090175199447, u'\\xf1\\x80\\xf1\\x83\\xf0\\xb1.': 0.00851286504309049, u'\\xe2\\x80\\x93': 0.0102228330262856, u'\\xe2\\x80\\x94': 0.008955892275578919, u'\\xf0\\xb8\\xf0\\xb7': 0.015325047995568754, u'yang': 0.000823926881950719, u'\\xf0\\x9a\\xf1\\x83\\xf0\\xbf\\xf0\\xb8\\xf1\\x82\\xf1\\x8c': 0.005179121129762547, u'facebook': 0.0012687572286237988, u'\\xf0\\xb7\\xf0\\xb0': 0.015309889474417753}\n",
      "7 {u'comments': 0.0015005733433413673, u'20': 0.0019293744543730654, u'copyright': 0.002492247349834636, u'23': 0.0013106853824464027, u'tv': 0.006451466648714958, u'menu': 0.0017270567072121279, u'tu': 0.0017575709433133827, u',': 0.001732624348739602, u'blog': 0.0018083266651858717, u'0': 0.005952041143219558, u'program': 0.0016408357801141519, u'4': 0.0028296011307795137, u'2015': 0.005686322885161894, u'2014': 0.0020110484859769207, u'2.': 0.003949470011014576, u'2016': 0.052529611534151574, u'2013': 0.0015926664655811396, u'2012': 0.0019416175605846385, u'...': 0.0026226053349644317, u'read': 0.0016614053878898252, u'auto': 0.0014681615604871952, u'watch': 0.0035087141635694583, u'da': 0.003306545753287417, u'facebook': 0.0030700454280840404, u'by:': 0.0013441645036314487, u'h': 0.0045686496070807105, u'l': 0.00525328392252633, u'p': 0.004670404340278484, u'x': 0.003093700116813947, u'|': 0.012356558734617572, u'cookies': 0.0015003697294964904, u'\\xe2\\xa9': 0.00587541193803812, u'video': 0.004390485587960344, u'images': 0.0016358940902426054, u'home': 0.0018377378989737688, u'sport': 0.002434136779385279, u'\\xe2\\xbb': 0.006097328876148228, u'movies': 0.007992708933419058, u'movie': 0.009267559323111085, u'/': 0.006434503660404575, u'e-mail': 0.0020933576819572824, u'3': 0.00518015340206128, u'new': 0.002207987377567291, u'email': 0.001493115063198641, u'full': 0.0015775977715543135, u'je': 0.0229987521979299, u'100': 0.0020766443197239946, u'c': 0.005553496572295848, u'g': 0.0048447078984162634, u'k': 0.013742939327920587, u'30': 0.002171792166519223, u'american': 0.0014133932426038116, u'w': 0.04776057017106731, u'article': 0.041307850143170365, u'november': 0.007471429950003681, u'&': 0.0032438973597113292, u'top': 0.0019635020407214538, u'*': 0.0014175371142065415, u'live': 0.004657159794642458, u'2': 0.006720216021197783, u'music': 0.021674953339869095, u'6': 0.0022070940467203543, u'500': 0.0015274591777376385, u'>': 0.002083037152464327, u'2,': 0.0015426322672804167, u'rss': 0.00197767709410053, u'10': 0.0034155994231553667, u'b': 0.006078049031467998, u'15': 0.0014989556633088858, u'f': 0.00395045206813588, u'j': 0.00504024985612907, u'mi': 0.00860479123408832, u'n': 0.005494362578639052, u'\\xe2\\x86\\x92': 0.0027731637565004677, u'r': 0.005590355591896453, u'v': 0.04491010616213325, u'z': 0.04851292495277981, u'1,': 0.0013827532032258782, u'1.': 0.0035097488971911374, u'december': 0.0031910642323737517, u'pro': 0.017915000942500856, u'film': 0.0014151688474028177, u'na': 0.0775201432479184, u'-': 0.01552461835423913, u'ne': 0.0020759361925112474, u'1': 0.010022199029076539, u'5': 0.0035324523060856366, u'online': 0.003108390392893852, u'200': 0.0016912380087076562, u'\\xe2\\x80\\xba': 0.0019495002799189809, u'000': 0.005324887974986046, u'gallery': 0.022199997859389472, u'\\xe2\\x80\\x93': 0.04690075656836926, u'e': 0.004776805405471348, u'su': 0.0014018753503951386, u'si': 0.008981488533972286, u'u': 0.019655160506944713, u'english': 0.0013718395584522835, u'sa': 0.009749841254044786, u'se': 0.032502390288288205}\n",
      "8 {u'\\xf1\\x81': 0.005334594683443393, u'24': 0.001266772537129482, u'25': 0.0012583543874740402, u'ver': 0.0028022941504451285, u'mais': 0.01675273656405897, u'la': 0.002453358648693125, u'tv': 0.0014405638467636845, u'menu': 0.0012138612419003033, u',': 0.0017870881186647356, u'0': 0.004095364102364591, u'4': 0.004640313735770814, u'2015': 0.0015637751808353498, u'2014': 0.002571538097163519, u'2016': 0.002901359029553071, u'2011': 0.0012358968905234018, u'2013': 0.00149685024683312, u'2012': 0.0013201294993074842, u'\\xf0\\x92': 0.005906400911792852, u'...': 0.001559751371627623, u'\\xe2\\x82\\xac': 0.06271436246285708, u'7': 0.004095431392579063, u'de': 0.12190104546369838, u'da': 0.03355628706912007, u'b': 0.0022603077107977224, u'facebook': 0.0013286203103726035, u'das': 0.005163107854909362, u'\\xf1\\x87\\xf1\\x82\\xf0\\xbe': 0.0013012773709190218, u'\\xf0\\xb2': 0.01667798038320616, u'\\xf0\\xba': 0.0012633306300253388, u'\\xf0\\xb8': 0.011883808172040407, u'\\xf0\\xbe': 0.0016260064109906846, u'50': 0.0018135721869560262, u'\\xf0\\xb4\\xf0\\xbb\\xf1\\x8f': 0.0013080753926013463, u'x': 0.005225315725471442, u'|': 0.010790840390452815, u'em': 0.03507817654611474, u'en': 0.0015835963126348037, u'\\xe2\\xa9': 0.0033847396721534777, u'library': 0.010862098559529252, u'et': 0.00125332272185083, u'\\xe2\\xbb': 0.0013035396485801738, u'total': 0.0015704379412325455, u'+': 0.0044556469105005315, u'/': 0.006458817651786769, u'e-mail': 0.001798204084201344, u'3': 0.007633841389828118, u'\\xf0\\xb8\\xf0\\xbb\\xf0\\xb8': 0.0013324433886058274, u'sobre': 0.004619182267969267, u'public': 0.007973567655726072, u'que': 0.020319823646132284, u'como': 0.006064996693231453, u'20': 0.0014418798813730467, u'100': 0.0014190575602886172, u'c': 0.0018960417551138076, u'30': 0.001818032665248673, u'ou': 0.008909007098573913, u'com': 0.02407501347943946, u'por': 0.010157166910777862, u'county': 0.0020456444590416516, u'\\xf9\\x85\\xf9\\x86': 0.01561260726682566, u'&': 0.00237033412862213, u'*': 0.004443549831568202, u'.': 0.0016627709445872368, u'2': 0.010289442168515251, u'6': 0.003965279334115153, u':': 0.0015601981101769932, u'>': 0.0027584247586981956, u'para': 0.028666469362478127, u'\\xe3\\xa0': 0.007705467588033464, u'site': 0.0023132690844251676, u'8': 0.003290056245856726, u'11': 0.001898139538931204, u'10': 0.0029942098941783744, u'12': 0.00178952950571224, u'15': 0.002285275249292224, u'14': 0.0014056990136678106, u'n': 0.0022665593139903715, u'um': 0.015876479488092395, u'\\xe3\\x97': 0.0017033097491420891, u'este': 0.002177355259356005, u'\\xf0\\xbf\\xf0\\xbe': 0.0036969638453359936, u'\\xf0\\xbd\\xf0\\xb0': 0.00717554535249345, u'\\xf0\\xbd\\xf0\\xb5': 0.003131030770406972, u'na': 0.008652081431879217, u'-': 0.0314987481791335, u'1': 0.013707513501907928, u'5': 0.006319177068949719, u's.': 0.0013996977971975305, u'9': 0.0015426507753742854, u'=': 0.0017226265824611007, u'\\xf0\\xbe\\xf1\\x82': 0.001930179873414608, u'000': 0.0012242966310353407, u'\\xf1\\x80\\xf1\\x83\\xf0\\xb1.': 0.0036185509510085305, u'\\xe2\\x80\\x93': 0.005341202791936751, u'e': 0.07824101279985005, u'\\xe2\\x80\\x94': 0.006530991293898269, u'\\xf0\\xb8\\xf0\\xb7': 0.001696568417607338, u'\\xf0\\x9a\\xf1\\x83\\xf0\\xbf\\xf0\\xb8\\xf1\\x82\\xf1\\x8c': 0.0014152700314479184, u'\\xf0\\xb7\\xf0\\xb0': 0.0015289469528080258, u'se': 0.006061861296298664}\n",
      "9 {u'help': 0.0013449434690797376, u'show': 0.0017207968625900236, u'years': 0.0012920666064450135, u'find': 0.0015749715698262655, u'member': 0.0013473088420462474, u'tv': 0.0042991963243933584, u\"don't\": 0.001336747308055417, u'0': 0.007515795062306515, u'4': 0.005161567601140035, u'2015': 0.001674520723869481, u'8': 0.0018659443620660581, u'2.': 0.002137947783932495, u'2016': 0.0023203595022652564, u'get': 0.001812003619135845, u'online': 0.0018386276369952612, u'watch': 0.001446456738763115, u'game': 0.005603397078822532, u'wedding': 0.0014531447494738029, u'world': 0.001292448917649457, u'day': 0.0015310554478456132, u'like': 0.0014165934620972793, u'posts': 0.0016915538810750924, u'email': 0.0013735810551603414, u'team': 0.0012906414856382067, u'x': 0.0012801434709738442, u'page': 0.0015520281818545167, u'view': 0.003917288392534491, u'house': 0.0017599861625893147, u'\\xe2\\xa9': 0.001805791725990937, u'sign': 0.0012926234158529733, u'hair': 0.010216519224656547, u'see': 0.0019412462304457536, u'video': 0.0058251840228477954, u'download': 0.0016409700113436424, u'home': 0.0031630408469471146, u'best': 0.001381115571948976, u'\\xe2\\xbb': 0.0015916689357152252, u'\\xe2\\x96\\xba': 0.0016895290727835881, u'+': 0.006165365145408239, u'date:': 0.0019602738984681304, u'/': 0.12567950617777832, u'3': 0.004998270198561395, u'7': 0.0018489592829472928, u'new': 0.005752571370583969, u'public': 0.002834033984975299, u'full': 0.0013271492553790958, u'free': 0.0023505038370673637, u'news': 0.0028019777685799625, u'post': 0.0025718601493607287, u'search': 0.002239192803338296, u'last': 0.0014223159604738053, u'forum': 0.0018838652895350684, u'privacy': 0.0013913700230030455, u'|': 0.0036160456357292245, u'games': 0.029439097000273914, u'action': 0.0025358111551312067, u'{': 0.012300469202662336, u'software': 0.0018919881958457455, u'color': 0.001625426365859916, u'private': 0.0013069501598260817, u'one': 0.005693758957748912, u'use': 0.0015225754894049102, u'&': 0.018488105422908085, u'top': 0.0037204517237925477, u'sports': 0.002208436338021269, u'pc': 0.011483553413103137, u'live': 0.0030208675306095303, u'2': 0.009725632808672363, u'music': 0.001563964370305935, u'6': 0.0017765641678633046, u':': 0.0016472003327341169, u'pm': 0.0020168703149412836, u'site': 0.0020238415974925352, u'photos': 0.001922175107811744, u'10': 0.0024183901030383464, u'us': 0.0035294179142537152, u'cards': 0.0012928168509824696, u'>': 0.0023287401748810564, u'1.': 0.002167665783821033, u'pro': 0.0014824245431949543, u'accessories': 0.00401744214169738, u'media': 0.0014284095195832593, u'-': 0.009481756548292771, u'1': 0.009518790277520846, u'5': 0.002669840188227966, u'digital': 0.002085572930650461, u'=': 0.004297772777831345, u'de': 0.001321178458894572, u'may': 0.0015180481602370397, u'\\xe2\\x80\\xa2': 0.1936274383584063, u'else': 0.0012845132768105423, u']': 0.0013409387907570838, u'e': 0.0013955442539840609, u'windows': 0.004151736321135483, u'dvd': 0.014516589101888206, u'daily': 0.002366338154237695, u'contact': 0.0016488053351809001, u'u': 0.0026290302771501935, u'time': 0.0018792621713236877, u'}': 0.013542088441335889}\n"
     ]
    }
   ],
   "source": [
    "# Print topics, showing top-weighted 10 terms for each topic.\n",
    "for topic_no in xrange(10):\n",
    "    print (topic_no, {vocab_indices[topic_no][i]: term_weights[topic_no][i] for i in range(100)})\n"
   ]
  },
  {
   "cell_type": "markdown",
   "metadata": {},
   "source": [
    "### Distributed LDA"
   ]
  },
  {
   "cell_type": "code",
   "execution_count": 42,
   "metadata": {
    "collapsed": false
   },
   "outputs": [],
   "source": [
    "transformed = crawl_ml_lda_models[20].transform(rec_df)"
   ]
  },
  {
   "cell_type": "code",
   "execution_count": 43,
   "metadata": {
    "collapsed": false
   },
   "outputs": [
    {
     "name": "stdout",
     "output_type": "stream",
     "text": [
      "root\n",
      " |-- contents: string (nullable = true)\n",
      " |-- url: string (nullable = true)\n",
      " |-- website: string (nullable = true)\n",
      " |-- words: array (nullable = true)\n",
      " |    |-- element: string (containsNull = true)\n",
      " |-- filtered: array (nullable = true)\n",
      " |    |-- element: string (containsNull = true)\n",
      " |-- features: vector (nullable = true)\n",
      " |-- topicDistribution: vector (nullable = true)\n",
      "\n"
     ]
    }
   ],
   "source": [
    "transformed.printSchema()"
   ]
  },
  {
   "cell_type": "code",
   "execution_count": 63,
   "metadata": {
    "collapsed": false
   },
   "outputs": [],
   "source": [
    "doc_topics = transformed.select(\"topicDistribution\").collect()"
   ]
  },
  {
   "cell_type": "code",
   "execution_count": 57,
   "metadata": {
    "collapsed": false
   },
   "outputs": [
    {
     "data": {
      "text/plain": [
       "54320"
      ]
     },
     "execution_count": 57,
     "metadata": {},
     "output_type": "execute_result"
    }
   ],
   "source": [
    "len(doc_topics)"
   ]
  },
  {
   "cell_type": "code",
   "execution_count": 98,
   "metadata": {
    "collapsed": false
   },
   "outputs": [],
   "source": [
    "doc_topics_arr = np.array(doc_topics, dtype=np.float64)"
   ]
  },
  {
   "cell_type": "code",
   "execution_count": 99,
   "metadata": {
    "collapsed": false
   },
   "outputs": [
    {
     "data": {
      "text/plain": [
       "array([[[  8.31873950e-03,   8.05319156e-03,   7.76133967e-03, ...,\n",
       "           7.87408971e-03,   7.42502109e-03,   8.29519708e-03]],\n",
       "\n",
       "       [[  1.67825506e-02,   1.62468238e-02,   1.56580304e-02, ...,\n",
       "           1.58854967e-02,   1.49795281e-02,   1.67350547e-02]],\n",
       "\n",
       "       [[  3.01687856e-02,   3.57637604e-04,   3.44676628e-04, ...,\n",
       "           3.49683792e-04,   3.29740914e-04,   3.68384915e-04]],\n",
       "\n",
       "       ..., \n",
       "       [[  7.28266617e-04,   7.05019138e-04,   6.79468873e-04, ...,\n",
       "           6.89339610e-04,   6.50025760e-04,   7.26205558e-04]],\n",
       "\n",
       "       [[  3.15292321e-04,   3.05227669e-04,   2.94166057e-04, ...,\n",
       "           2.98439447e-04,   2.81419094e-04,   8.96542258e-01]],\n",
       "\n",
       "       [[  5.50144119e-04,   5.32582607e-04,   5.13281534e-04, ...,\n",
       "           5.20738044e-04,   4.91039739e-04,   2.02575638e-01]]])"
      ]
     },
     "execution_count": 99,
     "metadata": {},
     "output_type": "execute_result"
    }
   ],
   "source": [
    "doc_topics_arr"
   ]
  },
  {
   "cell_type": "code",
   "execution_count": 103,
   "metadata": {
    "collapsed": false
   },
   "outputs": [],
   "source": [
    "np.save(\"doc_topics_20.csv\", doc_topics_arr)"
   ]
  },
  {
   "cell_type": "code",
   "execution_count": 105,
   "metadata": {
    "collapsed": false
   },
   "outputs": [],
   "source": [
    "doc_topics_20 = np.load(\"doc_topics_20.csv.npy\")"
   ]
  },
  {
   "cell_type": "code",
   "execution_count": 106,
   "metadata": {
    "collapsed": false
   },
   "outputs": [
    {
     "data": {
      "text/plain": [
       "array([[[  8.31873950e-03,   8.05319156e-03,   7.76133967e-03, ...,\n",
       "           7.87408971e-03,   7.42502109e-03,   8.29519708e-03]],\n",
       "\n",
       "       [[  1.67825506e-02,   1.62468238e-02,   1.56580304e-02, ...,\n",
       "           1.58854967e-02,   1.49795281e-02,   1.67350547e-02]],\n",
       "\n",
       "       [[  3.01687856e-02,   3.57637604e-04,   3.44676628e-04, ...,\n",
       "           3.49683792e-04,   3.29740914e-04,   3.68384915e-04]],\n",
       "\n",
       "       ..., \n",
       "       [[  7.28266617e-04,   7.05019138e-04,   6.79468873e-04, ...,\n",
       "           6.89339610e-04,   6.50025760e-04,   7.26205558e-04]],\n",
       "\n",
       "       [[  3.15292321e-04,   3.05227669e-04,   2.94166057e-04, ...,\n",
       "           2.98439447e-04,   2.81419094e-04,   8.96542258e-01]],\n",
       "\n",
       "       [[  5.50144119e-04,   5.32582607e-04,   5.13281534e-04, ...,\n",
       "           5.20738044e-04,   4.91039739e-04,   2.02575638e-01]]])"
      ]
     },
     "execution_count": 106,
     "metadata": {},
     "output_type": "execute_result"
    }
   ],
   "source": [
    "doc_topics_20"
   ]
  }
 ],
 "metadata": {
  "kernelspec": {
   "display_name": "Python 2",
   "language": "python",
   "name": "python2"
  },
  "language_info": {
   "codemirror_mode": {
    "name": "ipython",
    "version": 2
   },
   "file_extension": ".py",
   "mimetype": "text/x-python",
   "name": "python",
   "nbconvert_exporter": "python",
   "pygments_lexer": "ipython2",
   "version": "2.7.12"
  }
 },
 "nbformat": 4,
 "nbformat_minor": 2
}
